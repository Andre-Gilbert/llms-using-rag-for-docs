{
 "cells": [
  {
   "cell_type": "markdown",
   "metadata": {},
   "source": [
    "## Beispiel wie man code aus einem String ausführen kann"
   ]
  },
  {
   "cell_type": "code",
   "execution_count": null,
   "metadata": {},
   "outputs": [],
   "source": [
    "code_to_execute = \"print('Hello, World!')\"\n",
    "\n",
    "try:\n",
    "    exec(code_to_execute)\n",
    "except Exception as e:\n",
    "    print(f\"An error occurred: {e}\")"
   ]
  },
  {
   "cell_type": "markdown",
   "metadata": {},
   "source": [
    "## Following steps are needed for testing:\n",
    "1. Identify code from agent output string (ask agent to respond only with code)\n",
    "2. Save code in dedicated variable \n",
    "3. Compare code output with ground trouth output defined by researcher\n",
    "\n",
    "Before setting up the testing framework like this, we have to know which functions we want to test because this determines the ground truth ouput. Therefore the research for which functions to use should happen before setting up the framework @Felix\n",
    "\n",
    "See below for sample test walkthrough:"
   ]
  },
  {
   "cell_type": "code",
   "execution_count": null,
   "metadata": {},
   "outputs": [],
   "source": [
    "import pandas as pd\n",
    "\n",
    "agent_input = \"How can I calculate the mean of all the values this list: [1, 2, 3, 4, 5] in Python? Please answer only with the code. Save the result in a variable called 'result'.\"\n",
    "\n",
    "agent_output = \"\"\"\n",
    "my_list = [1, 2, 3, 4, 5]\n",
    "result = sum(my_list) / len(my_list)\n",
    "print(result)\n",
    "\"\"\"\n",
    "\n",
    "code = agent_output # for this example this is not needed, however if the agent ouput requires extraction this should happen before this statement\n",
    "\n",
    "desired_result = 3.0 # to be defined by the researcher\n",
    "\n",
    "def test_my_function(code, desired_result):\n",
    "    local_vars = {}\n",
    "    exec(code, globals(), local_vars)\n",
    "    agent_result = local_vars.get('result', None)\n",
    "\n",
    "    if isinstance(agent_result, pd.DataFrame):\n",
    "        if desired_result.equals(agent_output):\n",
    "            print(\"Agent output was correct.\")\n",
    "        else:\n",
    "            print(\"Agent output was not correct.\")\n",
    "\n",
    "    else:\n",
    "        if agent_result == desired_result:\n",
    "            print(\"Agent output was correct.\")\n",
    "        else:\n",
    "            print('Agent output was not correct.')\n",
    "\n",
    "test_my_function(code, desired_result)"
   ]
  },
  {
   "cell_type": "markdown",
   "metadata": {},
   "source": [
    "## Testing this with sample pandas function \".from_dummies()\""
   ]
  },
  {
   "cell_type": "code",
   "execution_count": null,
   "metadata": {},
   "outputs": [],
   "source": [
    "import pandas as pd"
   ]
  },
  {
   "cell_type": "code",
   "execution_count": null,
   "metadata": {},
   "outputs": [],
   "source": [
    "df = pd.DataFrame({\"col1_a\": [1, 0, 1], \"col1_b\": [0, 1, 0], \"col2_a\": [0, 1, 0], \"col2_b\": [1, 0, 0], \"col2_c\": [0, 0, 1]})\n",
    "\n",
    "desired_result = pd.from_dummies(df, sep=\"_\")\n",
    "\n",
    "agent_input = \"\"\"\n",
    "How can I convert this dataframe: df = pd.DataFrame({\"col1_a\": [1, 0, 1], \"col1_b\": [0, 1, 0], \"col2_a\": [0, 1, 0], \"col2_b\": [1, 0, 0], \"col2_c\": [0, 0, 1]}) into a categorical dataframe,\n",
    "using only pandas. Please only respond with the code. Use only pandas and the standard libraries. Save the result dataframe in a variable called \"result\".\n",
    "\"\"\"\n",
    "\n",
    "agent_output = \"\"\"\n",
    "import pandas as pd\n",
    "\n",
    "df = pd.DataFrame({\"col1_a\": [1, 0, 1], \"col1_b\": [0, 1, 0], \"col2_a\": [0, 1, 0], \"col2_b\": [1, 0, 0], \"col2_c\": [0, 0, 1]})\n",
    "\n",
    "result = df.astype(\"category\")\n",
    "\"\"\"\n",
    "\n",
    "\n",
    "test_my_function(agent_output, desired_result)"
   ]
  },
  {
   "cell_type": "markdown",
   "metadata": {},
   "source": [
    "## Testing with agent"
   ]
  },
  {
   "cell_type": "code",
   "execution_count": null,
   "metadata": {},
   "outputs": [],
   "source": [
    "from llms.agents.react import ReActAgent\n",
    "from llms.clients.gpt import GPTClient\n",
    "from llms.settings import settings\n",
    "\n",
    "client = GPTClient(settings.SERVICE_KEY, settings.LLM_CONFIG)\n",
    "agent = ReActAgent(client)\n",
    "\n",
    "# Get the user's order\n",
    "user_prompt = \"\"\"\n",
    "How can I convert this dataframe: df = pd.DataFrame({\"col1_a\": [1, 0, 1], \"col1_b\": [0, 1, 0], \"col2_a\": [0, 1, 0], \"col2_b\": [1, 0, 0], \"col2_c\": [0, 0, 1]}) into a categorical dataframe?\n",
    "\"\"\"\n",
    "\n",
    "final_answer = agent.run(user_prompt)"
   ]
  },
  {
   "cell_type": "code",
   "execution_count": null,
   "metadata": {},
   "outputs": [],
   "source": [
    "final_answer # response function"
   ]
  },
  {
   "cell_type": "code",
   "execution_count": null,
   "metadata": {},
   "outputs": [],
   "source": [
    "# Create a namespace for the execution\n",
    "namespace = {}\n",
    "\n",
    "exec(final_answer, namespace)\n",
    "\n",
    "response_function = namespace['response_function']\n",
    "\n",
    "sample_df = pd.DataFrame({\"col1_a\": [1, 0, 1], \"col1_b\": [0, 1, 0], \"col2_a\": [0, 1, 0], \"col2_b\": [1, 0, 0], \"col2_c\": [0, 0, 1]})\n",
    "result_df = response_function(sample_df)\n",
    "\n",
    "print(result_df)"
   ]
  },
  {
   "cell_type": "markdown",
   "metadata": {},
   "source": [
    "## Building testing_framework"
   ]
  },
  {
   "cell_type": "code",
   "execution_count": 2,
   "metadata": {},
   "outputs": [
    {
     "ename": "ValidationError",
     "evalue": "3 validation errors for GPTClient\ndeployment_id\n  Field required [type=missing, input_value={'client_id': 'sb-e0dc3d1... 'llm_temperature': 0.0}, input_type=dict]\n    For further information visit https://errors.pydantic.dev/2.5/v/missing\nmax_response_tokens\n  Field required [type=missing, input_value={'client_id': 'sb-e0dc3d1... 'llm_temperature': 0.0}, input_type=dict]\n    For further information visit https://errors.pydantic.dev/2.5/v/missing\ntemperature\n  Field required [type=missing, input_value={'client_id': 'sb-e0dc3d1... 'llm_temperature': 0.0}, input_type=dict]\n    For further information visit https://errors.pydantic.dev/2.5/v/missing",
     "output_type": "error",
     "traceback": [
      "\u001b[1;31m---------------------------------------------------------------------------\u001b[0m",
      "\u001b[1;31mValidationError\u001b[0m                           Traceback (most recent call last)",
      "Cell \u001b[1;32mIn[2], line 7\u001b[0m\n\u001b[0;32m      4\u001b[0m \u001b[38;5;28;01mfrom\u001b[39;00m \u001b[38;5;21;01mllms\u001b[39;00m\u001b[38;5;21;01m.\u001b[39;00m\u001b[38;5;21;01mclients\u001b[39;00m\u001b[38;5;21;01m.\u001b[39;00m\u001b[38;5;21;01mgpt\u001b[39;00m \u001b[38;5;28;01mimport\u001b[39;00m GPTClient\n\u001b[0;32m      5\u001b[0m \u001b[38;5;28;01mfrom\u001b[39;00m \u001b[38;5;21;01mllms\u001b[39;00m\u001b[38;5;21;01m.\u001b[39;00m\u001b[38;5;21;01msettings\u001b[39;00m \u001b[38;5;28;01mimport\u001b[39;00m settings\n\u001b[1;32m----> 7\u001b[0m client \u001b[38;5;241m=\u001b[39m \u001b[43mGPTClient\u001b[49m\u001b[43m(\u001b[49m\n\u001b[0;32m      8\u001b[0m \u001b[43m    \u001b[49m\u001b[43mclient_id\u001b[49m\u001b[38;5;241;43m=\u001b[39;49m\u001b[43msettings\u001b[49m\u001b[38;5;241;43m.\u001b[39;49m\u001b[43mCLIENT_ID\u001b[49m\u001b[43m,\u001b[49m\n\u001b[0;32m      9\u001b[0m \u001b[43m    \u001b[49m\u001b[43mclient_secret\u001b[49m\u001b[38;5;241;43m=\u001b[39;49m\u001b[43msettings\u001b[49m\u001b[38;5;241;43m.\u001b[39;49m\u001b[43mCLIENT_SECRET\u001b[49m\u001b[43m,\u001b[49m\n\u001b[0;32m     10\u001b[0m \u001b[43m    \u001b[49m\u001b[43mauth_url\u001b[49m\u001b[38;5;241;43m=\u001b[39;49m\u001b[43msettings\u001b[49m\u001b[38;5;241;43m.\u001b[39;49m\u001b[43mAUTH_URL\u001b[49m\u001b[43m,\u001b[49m\n\u001b[0;32m     11\u001b[0m \u001b[43m    \u001b[49m\u001b[43mapi_base\u001b[49m\u001b[38;5;241;43m=\u001b[39;49m\u001b[43msettings\u001b[49m\u001b[38;5;241;43m.\u001b[39;49m\u001b[43mAPI_BASE\u001b[49m\u001b[43m,\u001b[49m\n\u001b[0;32m     12\u001b[0m \u001b[43m    \u001b[49m\u001b[43mllm_deployment_id\u001b[49m\u001b[38;5;241;43m=\u001b[39;49m\u001b[38;5;124;43m\"\u001b[39;49m\u001b[38;5;124;43mgpt-4-32k\u001b[39;49m\u001b[38;5;124;43m\"\u001b[39;49m\u001b[43m,\u001b[49m\n\u001b[0;32m     13\u001b[0m \u001b[43m    \u001b[49m\u001b[43mllm_max_response_tokens\u001b[49m\u001b[38;5;241;43m=\u001b[39;49m\u001b[38;5;241;43m1000\u001b[39;49m\u001b[43m,\u001b[49m\n\u001b[0;32m     14\u001b[0m \u001b[43m    \u001b[49m\u001b[43mllm_temperature\u001b[49m\u001b[38;5;241;43m=\u001b[39;49m\u001b[38;5;241;43m0.0\u001b[39;49m\u001b[43m,\u001b[49m\n\u001b[0;32m     15\u001b[0m \u001b[43m)\u001b[49m\n\u001b[0;32m     16\u001b[0m agent \u001b[38;5;241m=\u001b[39m ReActAgent(client)\n\u001b[0;32m     18\u001b[0m test_results \u001b[38;5;241m=\u001b[39m []\n",
      "File \u001b[1;32m~\\AppData\\Roaming\\Python\\Python311\\site-packages\\pydantic\\main.py:164\u001b[0m, in \u001b[0;36mBaseModel.__init__\u001b[1;34m(__pydantic_self__, **data)\u001b[0m\n\u001b[0;32m    162\u001b[0m \u001b[38;5;66;03m# `__tracebackhide__` tells pytest and some other tools to omit this function from tracebacks\u001b[39;00m\n\u001b[0;32m    163\u001b[0m __tracebackhide__ \u001b[38;5;241m=\u001b[39m \u001b[38;5;28;01mTrue\u001b[39;00m\n\u001b[1;32m--> 164\u001b[0m \u001b[43m__pydantic_self__\u001b[49m\u001b[38;5;241;43m.\u001b[39;49m\u001b[43m__pydantic_validator__\u001b[49m\u001b[38;5;241;43m.\u001b[39;49m\u001b[43mvalidate_python\u001b[49m\u001b[43m(\u001b[49m\u001b[43mdata\u001b[49m\u001b[43m,\u001b[49m\u001b[43m \u001b[49m\u001b[43mself_instance\u001b[49m\u001b[38;5;241;43m=\u001b[39;49m\u001b[43m__pydantic_self__\u001b[49m\u001b[43m)\u001b[49m\n",
      "\u001b[1;31mValidationError\u001b[0m: 3 validation errors for GPTClient\ndeployment_id\n  Field required [type=missing, input_value={'client_id': 'sb-e0dc3d1... 'llm_temperature': 0.0}, input_type=dict]\n    For further information visit https://errors.pydantic.dev/2.5/v/missing\nmax_response_tokens\n  Field required [type=missing, input_value={'client_id': 'sb-e0dc3d1... 'llm_temperature': 0.0}, input_type=dict]\n    For further information visit https://errors.pydantic.dev/2.5/v/missing\ntemperature\n  Field required [type=missing, input_value={'client_id': 'sb-e0dc3d1... 'llm_temperature': 0.0}, input_type=dict]\n    For further information visit https://errors.pydantic.dev/2.5/v/missing"
     ]
    }
   ],
   "source": [
    "import pandas as pd\n",
    "from tests.pandas import TEST_CASES\n",
    "from llms.agents.react import ReActAgent\n",
    "from llms.clients.gpt import GPTClient\n",
    "from llms.settings import settings\n",
    "\n",
    "client = GPTClient(\n",
    "    client_id=settings.CLIENT_ID,\n",
    "    client_secret=settings.CLIENT_SECRET,\n",
    "    auth_url=settings.AUTH_URL,\n",
    "    api_base=settings.API_BASE,\n",
    "    llm_deployment_id=\"gpt-4-32k\",\n",
    "    llm_max_response_tokens=1000,\n",
    "    llm_temperature=0.0,\n",
    ")\n",
    "agent = ReActAgent(client)\n",
    "\n",
    "test_results = []\n",
    "\n",
    "for test_case in TEST_CASES:\n",
    "    agent_error = None # variable to store errors that the agent code produces\n",
    "\n",
    "    # get response function from agent\n",
    "    final_answer = agent.run(test_case['user_prompt'])\n",
    "    namespace_agent = {}\n",
    "    exec(final_answer, namespace_agent)\n",
    "    response_function = namespace_agent['response_function']\n",
    "\n",
    "    # get desired result and save it in a variable called data\n",
    "    data_string = test_case['data']\n",
    "    local_vars = {}\n",
    "    exec(data_string, globals(), local_vars)\n",
    "    if 'data_1' in local_vars and 'data_2' in local_vars and 'data_3' in local_vars:\n",
    "        data_1 = local_vars.get('data_1', None)\n",
    "        data_2 = local_vars.get('data_2', None)\n",
    "        data_3 = local_vars.get('data_3', None)\n",
    "    elif 'data_1' in local_vars and 'data_2' in local_vars:\n",
    "        data_1 = local_vars.get('data_1', None)\n",
    "        data_2 = local_vars.get('data_2', None)\n",
    "    else: # the maximum input of variables we have in the test cases is 3\n",
    "        data = local_vars.get('data', None)\n",
    "\n",
    "    # retrieve the correct function\n",
    "    correct_function_string = test_case['correct_function']\n",
    "    namespace_correct = {}\n",
    "    exec(correct_function_string, namespace_correct)\n",
    "    correct_function = namespace_correct['correct_function']\n",
    "\n",
    "    # execute the correct function with the data as parameter and save it as desired result\n",
    "    if 'data_1' in local_vars and 'data_2' in local_vars and 'data_3' in local_vars:\n",
    "        desired_result = correct_function(data_1, data_2, data_3)\n",
    "    elif 'data_1' in local_vars and 'data_2' in local_vars:\n",
    "        desired_result = correct_function(data_1, data_2)\n",
    "    else:\n",
    "        desired_result = correct_function(data)\n",
    "\n",
    "    # execute the agent function with the data as parameter and save it as agent_result, store error, if agent code produces an error\n",
    "    if 'data_1' in local_vars and 'data_2' in local_vars and 'data_3' in local_vars:\n",
    "        try:\n",
    "            agent_result = response_function(data_1, data_2, data_3)\n",
    "        except Exception as e:\n",
    "            agent_result = None\n",
    "            agent_error = e\n",
    "\n",
    "    elif 'data_1' in local_vars and 'data_2' in local_vars:\n",
    "        try:\n",
    "            agent_result = response_function(data_1, data_2)\n",
    "        except Exception as e:\n",
    "            agent_result = None\n",
    "            agent_error = e\n",
    "    else:\n",
    "        try:\n",
    "            agent_result = response_function(data)\n",
    "        except Exception as e:\n",
    "            agent_result = None\n",
    "            agent_error = e\n",
    "\n",
    "    # this has to be extended, each time we expect another data type as the desired output\n",
    "    if isinstance(desired_result, pd.DataFrame) or isinstance(desired_result, pd.Series) or isinstance(desired_result, pd.Index):\n",
    "        if desired_result.equals(agent_result):\n",
    "            print(f\"Agent output was correct for test case {test_case['id']}.\")\n",
    "            test_results.append({'result': f\"correct for test case {test_case['id']}\", 'agent_result': agent_result, 'desired_result': desired_result, 'agent_error': agent_error})\n",
    "        else:\n",
    "            print(f\"Agent output was not correct for test case {test_case['id']}.\")\n",
    "            test_results.append({'result': f\"false for test case {test_case['id']}\", 'agent_result': agent_result, 'desired_result': desired_result, 'agent_error': agent_error})\n",
    "\n",
    "    else:\n",
    "        if agent_result == desired_result:\n",
    "            print(f\"Agent output was correct for test case {test_case['id']}.\")\n",
    "            test_results.append({'result': f\"correct for test case {test_case['id']}\", 'agent_result': agent_result, 'desired_result': desired_result, 'agent_error': agent_error})\n",
    "        else:\n",
    "            print(f\"Agent output was not correct for test case {test_case['id']}.\")\n",
    "            test_results.append({'result': f\"false for test case {test_case['id']}\", 'agent_result': agent_result, 'desired_result': desired_result, 'agent_error': agent_error})"
   ]
  },
  {
   "cell_type": "markdown",
   "metadata": {},
   "source": [
    "# Experimentation"
   ]
  },
  {
   "cell_type": "code",
   "execution_count": null,
   "metadata": {},
   "outputs": [],
   "source": [
    "# experimentation code"
   ]
  }
 ],
 "metadata": {
  "kernelspec": {
   "display_name": "Python 3",
   "language": "python",
   "name": "python3"
  },
  "language_info": {
   "codemirror_mode": {
    "name": "ipython",
    "version": 3
   },
   "file_extension": ".py",
   "mimetype": "text/x-python",
   "name": "python",
   "nbconvert_exporter": "python",
   "pygments_lexer": "ipython3",
   "version": "3.11.0"
  }
 },
 "nbformat": 4,
 "nbformat_minor": 2
}
