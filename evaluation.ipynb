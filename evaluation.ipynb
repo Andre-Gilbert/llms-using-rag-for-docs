{
  "cells": [
    {
      "cell_type": "markdown",
      "metadata": {},
      "source": [
        "# Evaluation of RAG architectures"
      ]
    },
    {
      "cell_type": "code",
      "execution_count": null,
      "metadata": {},
      "outputs": [],
      "source": [
        "from tqdm import tqdm\n",
        "from pathlib import Path\n",
        "from llms.clients.gpt import GPTClient\n",
        "from llms.settings import settings\n",
        "from llms.rag.faiss import DistanceMetric\n",
        "from llms.evaluation.code import evaluate_code_generation, ConfigGrid, RAG, RAGRetriever\n",
        "from tests.pandas_zero_shot import TEST_CASES"
      ]
    },
    {
      "cell_type": "markdown",
      "metadata": {},
      "source": [
        "Read the pandas documentation we have scraped."
      ]
    },
    {
      "cell_type": "code",
      "execution_count": null,
      "metadata": {},
      "outputs": [],
      "source": [
        "def get_texts(folder_paths: list[str]) -> list[str]:\n",
        "    folder_paths = [Path(folder_path) for folder_path in folder_paths]\n",
        "    files = []\n",
        "    for folder_path in tqdm(folder_paths, desc=\"Searching for files\"):\n",
        "        for child in folder_path.iterdir():\n",
        "            if child.is_file():\n",
        "                files.append(child)\n",
        "    texts = []\n",
        "    for file in tqdm(files, desc=\"Reading files\"):\n",
        "        with open(file, \"r\", encoding=\"utf-8\") as f:\n",
        "            content = f.read()\n",
        "            texts.append(content)\n",
        "    return texts"
      ]
    },
    {
      "cell_type": "code",
      "execution_count": null,
      "metadata": {},
      "outputs": [],
      "source": [
        "folder_paths = [\"files/pandas/textfiles/textfiles1\", \"files/pandas/textfiles/textfiles2\", \"files/pandas/textfiles/textfiles3\"]\n",
        "texts = get_texts(folder_paths)"
      ]
    },
    {
      "cell_type": "markdown",
      "metadata": {},
      "source": [
        "Create a GPT-4 client"
      ]
    },
    {
      "cell_type": "code",
      "execution_count": null,
      "metadata": {},
      "outputs": [],
      "source": [
        "gpt_4_client = GPTClient(\n",
        "    client_id=settings.CLIENT_ID,\n",
        "    client_secret=settings.CLIENT_SECRET,\n",
        "    auth_url=settings.AUTH_URL,\n",
        "    api_base=settings.API_BASE,\n",
        "    deployment_id='gpt-4-32k',\n",
        "    max_response_tokens=250,\n",
        "    temperature=0.0,\n",
        ")"
      ]
    },
    {
      "cell_type": "markdown",
      "metadata": {},
      "source": [
        "Create a configuration grid. The combinations will be generated using the cartesian cartesian product."
      ]
    },
    {
      "cell_type": "code",
      "execution_count": null,
      "metadata": {},
      "outputs": [],
      "source": [
        "config_grid = ConfigGrid(\n",
        "    llms=[gpt_4_client],\n",
        "    rag=RAG(\n",
        "        retrievers=[\n",
        "            RAGRetriever.NONE,\n",
        "            RAGRetriever.RAG,\n",
        "            RAGRetriever.RAG_AS_TOOL,\n",
        "            RAGRetriever.CoALA,\n",
        "            RAGRetriever.CoALA_AS_TOOL,\n",
        "        ],\n",
        "        distance_metrics=[DistanceMetric.EUCLIDEAN_DISTANCE, DistanceMetric.MAX_INNER_PRODUCT],\n",
        "        num_search_results=[1, 3],\n",
        "        similarity_search_score_thresholds=[0.0],\n",
        "        text_chunk_sizes=[512],\n",
        "        use_weighted_average_of_text_chunks=[True],\n",
        "        texts=texts,\n",
        "    )\n",
        ")"
      ]
    },
    {
      "cell_type": "markdown",
      "metadata": {},
      "source": [
        "Evaluates code generation. Embeddings will be automatically created and can be found in the embeddings folder, while the results can be found in the results folder. The results are sorted by accuracy and each configuration will have a path to the details of the test cases. The details contains the test case, the generated code, whether the generated code leads to the expected result, the time taken, the total cost, and the agent reasoning, allowing a comprehensive understanding of what the AI agent actually did under the hood."
      ]
    },
    {
      "cell_type": "code",
      "execution_count": null,
      "metadata": {},
      "outputs": [],
      "source": [
        "results = evaluate_code_generation(config_grid=config_grid, test_cases=TEST_CASES, test_name=\"test_1\")"
      ]
    },
    {
      "cell_type": "code",
      "execution_count": 1,
      "metadata": {},
      "outputs": [],
      "source": [
        "import pandas as pd\n",
        "import matplotlib.pyplot as plt\n",
        "import plotly.express as px"
      ]
    },
    {
      "cell_type": "code",
      "execution_count": 2,
      "metadata": {},
      "outputs": [],
      "source": [
        "path = \"./results\"\n",
        "df_one_shot = pd.read_csv(f\"{path}/pandas_one_shot.csv\")\n",
        "df_zero_shot = pd.read_csv(f\"{path}/pandas_zero_shot.csv\")\n",
        "df_zero_shot_structured = pd.read_csv(f\"{path}/pandas_zero_shot_structured.csv\")"
      ]
    },
    {
      "cell_type": "code",
      "execution_count": 3,
      "metadata": {},
      "outputs": [
        {
          "data": {
            "text/html": [
              "<div>\n",
              "<style scoped>\n",
              "    .dataframe tbody tr th:only-of-type {\n",
              "        vertical-align: middle;\n",
              "    }\n",
              "\n",
              "    .dataframe tbody tr th {\n",
              "        vertical-align: top;\n",
              "    }\n",
              "\n",
              "    .dataframe thead th {\n",
              "        text-align: right;\n",
              "    }\n",
              "</style>\n",
              "<table border=\"1\" class=\"dataframe\">\n",
              "  <thead>\n",
              "    <tr style=\"text-align: right;\">\n",
              "      <th></th>\n",
              "      <th>index</th>\n",
              "      <th>config</th>\n",
              "    </tr>\n",
              "  </thead>\n",
              "  <tbody>\n",
              "    <tr>\n",
              "      <th>0</th>\n",
              "      <td>8</td>\n",
              "      <td>{'llm': 'gpt-4-32k', 'retriever': &lt;RAGRetrieve...</td>\n",
              "    </tr>\n",
              "    <tr>\n",
              "      <th>1</th>\n",
              "      <td>13</td>\n",
              "      <td>{'llm': 'gpt-4-32k', 'retriever': &lt;RAGRetrieve...</td>\n",
              "    </tr>\n",
              "    <tr>\n",
              "      <th>2</th>\n",
              "      <td>3</td>\n",
              "      <td>{'llm': 'gpt-4-32k', 'retriever': &lt;RAGRetrieve...</td>\n",
              "    </tr>\n",
              "    <tr>\n",
              "      <th>3</th>\n",
              "      <td>5</td>\n",
              "      <td>{'llm': 'gpt-4-32k', 'retriever': &lt;RAGRetrieve...</td>\n",
              "    </tr>\n",
              "    <tr>\n",
              "      <th>4</th>\n",
              "      <td>10</td>\n",
              "      <td>{'llm': 'gpt-4-32k', 'retriever': &lt;RAGRetrieve...</td>\n",
              "    </tr>\n",
              "    <tr>\n",
              "      <th>5</th>\n",
              "      <td>16</td>\n",
              "      <td>{'llm': 'gpt-4-32k', 'retriever': &lt;RAGRetrieve...</td>\n",
              "    </tr>\n",
              "    <tr>\n",
              "      <th>6</th>\n",
              "      <td>1</td>\n",
              "      <td>{'llm': 'gpt-4-32k', 'retriever': &lt;RAGRetrieve...</td>\n",
              "    </tr>\n",
              "    <tr>\n",
              "      <th>7</th>\n",
              "      <td>11</td>\n",
              "      <td>{'llm': 'gpt-4-32k', 'retriever': &lt;RAGRetrieve...</td>\n",
              "    </tr>\n",
              "    <tr>\n",
              "      <th>8</th>\n",
              "      <td>6</td>\n",
              "      <td>{'llm': 'gpt-4-32k', 'retriever': &lt;RAGRetrieve...</td>\n",
              "    </tr>\n",
              "    <tr>\n",
              "      <th>9</th>\n",
              "      <td>14</td>\n",
              "      <td>{'llm': 'gpt-4-32k', 'retriever': &lt;RAGRetrieve...</td>\n",
              "    </tr>\n",
              "    <tr>\n",
              "      <th>10</th>\n",
              "      <td>15</td>\n",
              "      <td>{'llm': 'gpt-4-32k', 'retriever': &lt;RAGRetrieve...</td>\n",
              "    </tr>\n",
              "    <tr>\n",
              "      <th>11</th>\n",
              "      <td>0</td>\n",
              "      <td>{'llm': 'gpt-4-32k', 'retriever': &lt;RAGRetrieve...</td>\n",
              "    </tr>\n",
              "    <tr>\n",
              "      <th>12</th>\n",
              "      <td>7</td>\n",
              "      <td>{'llm': 'gpt-4-32k', 'retriever': &lt;RAGRetrieve...</td>\n",
              "    </tr>\n",
              "    <tr>\n",
              "      <th>13</th>\n",
              "      <td>2</td>\n",
              "      <td>{'llm': 'gpt-4-32k', 'retriever': &lt;RAGRetrieve...</td>\n",
              "    </tr>\n",
              "    <tr>\n",
              "      <th>14</th>\n",
              "      <td>4</td>\n",
              "      <td>{'llm': 'gpt-4-32k', 'retriever': &lt;RAGRetrieve...</td>\n",
              "    </tr>\n",
              "    <tr>\n",
              "      <th>15</th>\n",
              "      <td>12</td>\n",
              "      <td>{'llm': 'gpt-4-32k', 'retriever': &lt;RAGRetrieve...</td>\n",
              "    </tr>\n",
              "    <tr>\n",
              "      <th>16</th>\n",
              "      <td>9</td>\n",
              "      <td>{'llm': 'gpt-4-32k', 'retriever': &lt;RAGRetrieve...</td>\n",
              "    </tr>\n",
              "    <tr>\n",
              "      <th>0</th>\n",
              "      <td>4</td>\n",
              "      <td>{'llm': 'gpt-4-32k', 'retriever': &lt;RAGRetrieve...</td>\n",
              "    </tr>\n",
              "    <tr>\n",
              "      <th>1</th>\n",
              "      <td>14</td>\n",
              "      <td>{'llm': 'gpt-4-32k', 'retriever': &lt;RAGRetrieve...</td>\n",
              "    </tr>\n",
              "    <tr>\n",
              "      <th>2</th>\n",
              "      <td>7</td>\n",
              "      <td>{'llm': 'gpt-4-32k', 'retriever': &lt;RAGRetrieve...</td>\n",
              "    </tr>\n",
              "    <tr>\n",
              "      <th>3</th>\n",
              "      <td>9</td>\n",
              "      <td>{'llm': 'gpt-4-32k', 'retriever': &lt;RAGRetrieve...</td>\n",
              "    </tr>\n",
              "    <tr>\n",
              "      <th>4</th>\n",
              "      <td>11</td>\n",
              "      <td>{'llm': 'gpt-4-32k', 'retriever': &lt;RAGRetrieve...</td>\n",
              "    </tr>\n",
              "    <tr>\n",
              "      <th>5</th>\n",
              "      <td>16</td>\n",
              "      <td>{'llm': 'gpt-4-32k', 'retriever': &lt;RAGRetrieve...</td>\n",
              "    </tr>\n",
              "    <tr>\n",
              "      <th>6</th>\n",
              "      <td>13</td>\n",
              "      <td>{'llm': 'gpt-4-32k', 'retriever': &lt;RAGRetrieve...</td>\n",
              "    </tr>\n",
              "    <tr>\n",
              "      <th>7</th>\n",
              "      <td>8</td>\n",
              "      <td>{'llm': 'gpt-4-32k', 'retriever': &lt;RAGRetrieve...</td>\n",
              "    </tr>\n",
              "    <tr>\n",
              "      <th>8</th>\n",
              "      <td>15</td>\n",
              "      <td>{'llm': 'gpt-4-32k', 'retriever': &lt;RAGRetrieve...</td>\n",
              "    </tr>\n",
              "    <tr>\n",
              "      <th>9</th>\n",
              "      <td>2</td>\n",
              "      <td>{'llm': 'gpt-4-32k', 'retriever': &lt;RAGRetrieve...</td>\n",
              "    </tr>\n",
              "    <tr>\n",
              "      <th>10</th>\n",
              "      <td>12</td>\n",
              "      <td>{'llm': 'gpt-4-32k', 'retriever': &lt;RAGRetrieve...</td>\n",
              "    </tr>\n",
              "    <tr>\n",
              "      <th>11</th>\n",
              "      <td>0</td>\n",
              "      <td>{'llm': 'gpt-4-32k', 'retriever': &lt;RAGRetrieve...</td>\n",
              "    </tr>\n",
              "    <tr>\n",
              "      <th>12</th>\n",
              "      <td>5</td>\n",
              "      <td>{'llm': 'gpt-4-32k', 'retriever': &lt;RAGRetrieve...</td>\n",
              "    </tr>\n",
              "    <tr>\n",
              "      <th>13</th>\n",
              "      <td>6</td>\n",
              "      <td>{'llm': 'gpt-4-32k', 'retriever': &lt;RAGRetrieve...</td>\n",
              "    </tr>\n",
              "    <tr>\n",
              "      <th>14</th>\n",
              "      <td>3</td>\n",
              "      <td>{'llm': 'gpt-4-32k', 'retriever': &lt;RAGRetrieve...</td>\n",
              "    </tr>\n",
              "    <tr>\n",
              "      <th>15</th>\n",
              "      <td>10</td>\n",
              "      <td>{'llm': 'gpt-4-32k', 'retriever': &lt;RAGRetrieve...</td>\n",
              "    </tr>\n",
              "    <tr>\n",
              "      <th>16</th>\n",
              "      <td>1</td>\n",
              "      <td>{'llm': 'gpt-4-32k', 'retriever': &lt;RAGRetrieve...</td>\n",
              "    </tr>\n",
              "    <tr>\n",
              "      <th>0</th>\n",
              "      <td>3</td>\n",
              "      <td>{'llm': 'gpt-4-32k', 'retriever': &lt;RAGRetrieve...</td>\n",
              "    </tr>\n",
              "    <tr>\n",
              "      <th>1</th>\n",
              "      <td>1</td>\n",
              "      <td>{'llm': 'gpt-4-32k', 'retriever': &lt;RAGRetrieve...</td>\n",
              "    </tr>\n",
              "    <tr>\n",
              "      <th>2</th>\n",
              "      <td>11</td>\n",
              "      <td>{'llm': 'gpt-4-32k', 'retriever': &lt;RAGRetrieve...</td>\n",
              "    </tr>\n",
              "    <tr>\n",
              "      <th>3</th>\n",
              "      <td>9</td>\n",
              "      <td>{'llm': 'gpt-4-32k', 'retriever': &lt;RAGRetrieve...</td>\n",
              "    </tr>\n",
              "    <tr>\n",
              "      <th>4</th>\n",
              "      <td>15</td>\n",
              "      <td>{'llm': 'gpt-4-32k', 'retriever': &lt;RAGRetrieve...</td>\n",
              "    </tr>\n",
              "    <tr>\n",
              "      <th>5</th>\n",
              "      <td>5</td>\n",
              "      <td>{'llm': 'gpt-4-32k', 'retriever': &lt;RAGRetrieve...</td>\n",
              "    </tr>\n",
              "    <tr>\n",
              "      <th>6</th>\n",
              "      <td>0</td>\n",
              "      <td>{'llm': 'gpt-4-32k', 'retriever': &lt;RAGRetrieve...</td>\n",
              "    </tr>\n",
              "    <tr>\n",
              "      <th>7</th>\n",
              "      <td>4</td>\n",
              "      <td>{'llm': 'gpt-4-32k', 'retriever': &lt;RAGRetrieve...</td>\n",
              "    </tr>\n",
              "    <tr>\n",
              "      <th>8</th>\n",
              "      <td>2</td>\n",
              "      <td>{'llm': 'gpt-4-32k', 'retriever': &lt;RAGRetrieve...</td>\n",
              "    </tr>\n",
              "    <tr>\n",
              "      <th>9</th>\n",
              "      <td>12</td>\n",
              "      <td>{'llm': 'gpt-4-32k', 'retriever': &lt;RAGRetrieve...</td>\n",
              "    </tr>\n",
              "    <tr>\n",
              "      <th>10</th>\n",
              "      <td>6</td>\n",
              "      <td>{'llm': 'gpt-4-32k', 'retriever': &lt;RAGRetrieve...</td>\n",
              "    </tr>\n",
              "    <tr>\n",
              "      <th>11</th>\n",
              "      <td>7</td>\n",
              "      <td>{'llm': 'gpt-4-32k', 'retriever': &lt;RAGRetrieve...</td>\n",
              "    </tr>\n",
              "    <tr>\n",
              "      <th>12</th>\n",
              "      <td>16</td>\n",
              "      <td>{'llm': 'gpt-4-32k', 'retriever': &lt;RAGRetrieve...</td>\n",
              "    </tr>\n",
              "    <tr>\n",
              "      <th>13</th>\n",
              "      <td>10</td>\n",
              "      <td>{'llm': 'gpt-4-32k', 'retriever': &lt;RAGRetrieve...</td>\n",
              "    </tr>\n",
              "    <tr>\n",
              "      <th>14</th>\n",
              "      <td>14</td>\n",
              "      <td>{'llm': 'gpt-4-32k', 'retriever': &lt;RAGRetrieve...</td>\n",
              "    </tr>\n",
              "    <tr>\n",
              "      <th>15</th>\n",
              "      <td>8</td>\n",
              "      <td>{'llm': 'gpt-4-32k', 'retriever': &lt;RAGRetrieve...</td>\n",
              "    </tr>\n",
              "    <tr>\n",
              "      <th>16</th>\n",
              "      <td>13</td>\n",
              "      <td>{'llm': 'gpt-4-32k', 'retriever': &lt;RAGRetrieve...</td>\n",
              "    </tr>\n",
              "  </tbody>\n",
              "</table>\n",
              "</div>"
            ],
            "text/plain": [
              "    index                                             config\n",
              "0       8  {'llm': 'gpt-4-32k', 'retriever': <RAGRetrieve...\n",
              "1      13  {'llm': 'gpt-4-32k', 'retriever': <RAGRetrieve...\n",
              "2       3  {'llm': 'gpt-4-32k', 'retriever': <RAGRetrieve...\n",
              "3       5  {'llm': 'gpt-4-32k', 'retriever': <RAGRetrieve...\n",
              "4      10  {'llm': 'gpt-4-32k', 'retriever': <RAGRetrieve...\n",
              "5      16  {'llm': 'gpt-4-32k', 'retriever': <RAGRetrieve...\n",
              "6       1  {'llm': 'gpt-4-32k', 'retriever': <RAGRetrieve...\n",
              "7      11  {'llm': 'gpt-4-32k', 'retriever': <RAGRetrieve...\n",
              "8       6  {'llm': 'gpt-4-32k', 'retriever': <RAGRetrieve...\n",
              "9      14  {'llm': 'gpt-4-32k', 'retriever': <RAGRetrieve...\n",
              "10     15  {'llm': 'gpt-4-32k', 'retriever': <RAGRetrieve...\n",
              "11      0  {'llm': 'gpt-4-32k', 'retriever': <RAGRetrieve...\n",
              "12      7  {'llm': 'gpt-4-32k', 'retriever': <RAGRetrieve...\n",
              "13      2  {'llm': 'gpt-4-32k', 'retriever': <RAGRetrieve...\n",
              "14      4  {'llm': 'gpt-4-32k', 'retriever': <RAGRetrieve...\n",
              "15     12  {'llm': 'gpt-4-32k', 'retriever': <RAGRetrieve...\n",
              "16      9  {'llm': 'gpt-4-32k', 'retriever': <RAGRetrieve...\n",
              "0       4  {'llm': 'gpt-4-32k', 'retriever': <RAGRetrieve...\n",
              "1      14  {'llm': 'gpt-4-32k', 'retriever': <RAGRetrieve...\n",
              "2       7  {'llm': 'gpt-4-32k', 'retriever': <RAGRetrieve...\n",
              "3       9  {'llm': 'gpt-4-32k', 'retriever': <RAGRetrieve...\n",
              "4      11  {'llm': 'gpt-4-32k', 'retriever': <RAGRetrieve...\n",
              "5      16  {'llm': 'gpt-4-32k', 'retriever': <RAGRetrieve...\n",
              "6      13  {'llm': 'gpt-4-32k', 'retriever': <RAGRetrieve...\n",
              "7       8  {'llm': 'gpt-4-32k', 'retriever': <RAGRetrieve...\n",
              "8      15  {'llm': 'gpt-4-32k', 'retriever': <RAGRetrieve...\n",
              "9       2  {'llm': 'gpt-4-32k', 'retriever': <RAGRetrieve...\n",
              "10     12  {'llm': 'gpt-4-32k', 'retriever': <RAGRetrieve...\n",
              "11      0  {'llm': 'gpt-4-32k', 'retriever': <RAGRetrieve...\n",
              "12      5  {'llm': 'gpt-4-32k', 'retriever': <RAGRetrieve...\n",
              "13      6  {'llm': 'gpt-4-32k', 'retriever': <RAGRetrieve...\n",
              "14      3  {'llm': 'gpt-4-32k', 'retriever': <RAGRetrieve...\n",
              "15     10  {'llm': 'gpt-4-32k', 'retriever': <RAGRetrieve...\n",
              "16      1  {'llm': 'gpt-4-32k', 'retriever': <RAGRetrieve...\n",
              "0       3  {'llm': 'gpt-4-32k', 'retriever': <RAGRetrieve...\n",
              "1       1  {'llm': 'gpt-4-32k', 'retriever': <RAGRetrieve...\n",
              "2      11  {'llm': 'gpt-4-32k', 'retriever': <RAGRetrieve...\n",
              "3       9  {'llm': 'gpt-4-32k', 'retriever': <RAGRetrieve...\n",
              "4      15  {'llm': 'gpt-4-32k', 'retriever': <RAGRetrieve...\n",
              "5       5  {'llm': 'gpt-4-32k', 'retriever': <RAGRetrieve...\n",
              "6       0  {'llm': 'gpt-4-32k', 'retriever': <RAGRetrieve...\n",
              "7       4  {'llm': 'gpt-4-32k', 'retriever': <RAGRetrieve...\n",
              "8       2  {'llm': 'gpt-4-32k', 'retriever': <RAGRetrieve...\n",
              "9      12  {'llm': 'gpt-4-32k', 'retriever': <RAGRetrieve...\n",
              "10      6  {'llm': 'gpt-4-32k', 'retriever': <RAGRetrieve...\n",
              "11      7  {'llm': 'gpt-4-32k', 'retriever': <RAGRetrieve...\n",
              "12     16  {'llm': 'gpt-4-32k', 'retriever': <RAGRetrieve...\n",
              "13     10  {'llm': 'gpt-4-32k', 'retriever': <RAGRetrieve...\n",
              "14     14  {'llm': 'gpt-4-32k', 'retriever': <RAGRetrieve...\n",
              "15      8  {'llm': 'gpt-4-32k', 'retriever': <RAGRetrieve...\n",
              "16     13  {'llm': 'gpt-4-32k', 'retriever': <RAGRetrieve..."
            ]
          },
          "metadata": {},
          "output_type": "display_data"
        }
      ],
      "source": [
        "dfs = [df_one_shot, df_zero_shot, df_zero_shot_structured]\n",
        "\n",
        "df_combined = pd.concat(dfs)\n",
        "display(df_combined[['index', 'config']])\n",
        "\n",
        "df_avg = df_combined.groupby('index').agg({'total_time': 'mean', 'total_cost': 'mean'}).reset_index()"
      ]
    },
    {
      "cell_type": "code",
      "execution_count": 4,
      "metadata": {},
      "outputs": [
        {
          "data": {
            "text/html": [
              "<div>\n",
              "<style scoped>\n",
              "    .dataframe tbody tr th:only-of-type {\n",
              "        vertical-align: middle;\n",
              "    }\n",
              "\n",
              "    .dataframe tbody tr th {\n",
              "        vertical-align: top;\n",
              "    }\n",
              "\n",
              "    .dataframe thead th {\n",
              "        text-align: right;\n",
              "    }\n",
              "</style>\n",
              "<table border=\"1\" class=\"dataframe\">\n",
              "  <thead>\n",
              "    <tr style=\"text-align: right;\">\n",
              "      <th></th>\n",
              "      <th>index</th>\n",
              "      <th>total_time</th>\n",
              "      <th>total_cost</th>\n",
              "    </tr>\n",
              "  </thead>\n",
              "  <tbody>\n",
              "    <tr>\n",
              "      <th>0</th>\n",
              "      <td>0</td>\n",
              "      <td>581.298378</td>\n",
              "      <td>9.059780</td>\n",
              "    </tr>\n",
              "    <tr>\n",
              "      <th>1</th>\n",
              "      <td>1</td>\n",
              "      <td>562.532245</td>\n",
              "      <td>15.032689</td>\n",
              "    </tr>\n",
              "    <tr>\n",
              "      <th>2</th>\n",
              "      <td>2</td>\n",
              "      <td>666.785234</td>\n",
              "      <td>33.479149</td>\n",
              "    </tr>\n",
              "    <tr>\n",
              "      <th>3</th>\n",
              "      <td>3</td>\n",
              "      <td>506.196917</td>\n",
              "      <td>13.694409</td>\n",
              "    </tr>\n",
              "    <tr>\n",
              "      <th>4</th>\n",
              "      <td>4</td>\n",
              "      <td>583.044284</td>\n",
              "      <td>28.827849</td>\n",
              "    </tr>\n",
              "    <tr>\n",
              "      <th>5</th>\n",
              "      <td>5</td>\n",
              "      <td>557.694712</td>\n",
              "      <td>7.155322</td>\n",
              "    </tr>\n",
              "    <tr>\n",
              "      <th>6</th>\n",
              "      <td>6</td>\n",
              "      <td>509.762362</td>\n",
              "      <td>4.533130</td>\n",
              "    </tr>\n",
              "    <tr>\n",
              "      <th>7</th>\n",
              "      <td>7</td>\n",
              "      <td>487.861469</td>\n",
              "      <td>16.250831</td>\n",
              "    </tr>\n",
              "    <tr>\n",
              "      <th>8</th>\n",
              "      <td>8</td>\n",
              "      <td>295.956861</td>\n",
              "      <td>2.111260</td>\n",
              "    </tr>\n",
              "    <tr>\n",
              "      <th>9</th>\n",
              "      <td>9</td>\n",
              "      <td>601.357738</td>\n",
              "      <td>14.521812</td>\n",
              "    </tr>\n",
              "    <tr>\n",
              "      <th>10</th>\n",
              "      <td>10</td>\n",
              "      <td>808.946063</td>\n",
              "      <td>38.641214</td>\n",
              "    </tr>\n",
              "    <tr>\n",
              "      <th>11</th>\n",
              "      <td>11</td>\n",
              "      <td>546.398847</td>\n",
              "      <td>14.483855</td>\n",
              "    </tr>\n",
              "    <tr>\n",
              "      <th>12</th>\n",
              "      <td>12</td>\n",
              "      <td>788.831881</td>\n",
              "      <td>36.518853</td>\n",
              "    </tr>\n",
              "    <tr>\n",
              "      <th>13</th>\n",
              "      <td>13</td>\n",
              "      <td>253.403037</td>\n",
              "      <td>2.147395</td>\n",
              "    </tr>\n",
              "    <tr>\n",
              "      <th>14</th>\n",
              "      <td>14</td>\n",
              "      <td>435.690588</td>\n",
              "      <td>6.184260</td>\n",
              "    </tr>\n",
              "    <tr>\n",
              "      <th>15</th>\n",
              "      <td>15</td>\n",
              "      <td>1070.968543</td>\n",
              "      <td>7.504415</td>\n",
              "    </tr>\n",
              "    <tr>\n",
              "      <th>16</th>\n",
              "      <td>16</td>\n",
              "      <td>509.780569</td>\n",
              "      <td>8.727660</td>\n",
              "    </tr>\n",
              "  </tbody>\n",
              "</table>\n",
              "</div>"
            ],
            "text/plain": [
              "    index   total_time  total_cost\n",
              "0       0   581.298378    9.059780\n",
              "1       1   562.532245   15.032689\n",
              "2       2   666.785234   33.479149\n",
              "3       3   506.196917   13.694409\n",
              "4       4   583.044284   28.827849\n",
              "5       5   557.694712    7.155322\n",
              "6       6   509.762362    4.533130\n",
              "7       7   487.861469   16.250831\n",
              "8       8   295.956861    2.111260\n",
              "9       9   601.357738   14.521812\n",
              "10     10   808.946063   38.641214\n",
              "11     11   546.398847   14.483855\n",
              "12     12   788.831881   36.518853\n",
              "13     13   253.403037    2.147395\n",
              "14     14   435.690588    6.184260\n",
              "15     15  1070.968543    7.504415\n",
              "16     16   509.780569    8.727660"
            ]
          },
          "metadata": {},
          "output_type": "display_data"
        }
      ],
      "source": [
        "display(df_avg)"
      ]
    },
    {
      "cell_type": "code",
      "execution_count": 5,
      "metadata": {},
      "outputs": [
        {
          "data": {
            "application/vnd.plotly.v1+json": {
              "config": {
                "plotlyServerURL": "https://plot.ly"
              },
              "data": [
                {
                  "alignmentgroup": "True",
                  "hovertemplate": "Id=%{x}<br>Accuracy=%{y}<extra></extra>",
                  "legendgroup": "",
                  "marker": {
                    "color": "#636efa",
                    "pattern": {
                      "shape": ""
                    }
                  },
                  "name": "",
                  "offsetgroup": "",
                  "orientation": "v",
                  "showlegend": false,
                  "textposition": "auto",
                  "type": "bar",
                  "x": [
                    8,
                    13,
                    3,
                    5,
                    10,
                    16,
                    1,
                    11,
                    6,
                    14,
                    15,
                    0,
                    7,
                    2,
                    4,
                    12,
                    9
                  ],
                  "xaxis": "x",
                  "y": [
                    0.75,
                    0.7,
                    0.7,
                    0.65,
                    0.65,
                    0.65,
                    0.65,
                    0.65,
                    0.6,
                    0.6,
                    0.6,
                    0.6,
                    0.6,
                    0.6,
                    0.6,
                    0.6,
                    0.55
                  ],
                  "yaxis": "y"
                }
              ],
              "layout": {
                "bargap": 0.2,
                "barmode": "relative",
                "height": 500,
                "legend": {
                  "tracegroupgap": 0
                },
                "showlegend": false,
                "template": {
                  "data": {
                    "bar": [
                      {
                        "error_x": {
                          "color": "#2a3f5f"
                        },
                        "error_y": {
                          "color": "#2a3f5f"
                        },
                        "marker": {
                          "line": {
                            "color": "#E5ECF6",
                            "width": 0.5
                          },
                          "pattern": {
                            "fillmode": "overlay",
                            "size": 10,
                            "solidity": 0.2
                          }
                        },
                        "type": "bar"
                      }
                    ],
                    "barpolar": [
                      {
                        "marker": {
                          "line": {
                            "color": "#E5ECF6",
                            "width": 0.5
                          },
                          "pattern": {
                            "fillmode": "overlay",
                            "size": 10,
                            "solidity": 0.2
                          }
                        },
                        "type": "barpolar"
                      }
                    ],
                    "carpet": [
                      {
                        "aaxis": {
                          "endlinecolor": "#2a3f5f",
                          "gridcolor": "white",
                          "linecolor": "white",
                          "minorgridcolor": "white",
                          "startlinecolor": "#2a3f5f"
                        },
                        "baxis": {
                          "endlinecolor": "#2a3f5f",
                          "gridcolor": "white",
                          "linecolor": "white",
                          "minorgridcolor": "white",
                          "startlinecolor": "#2a3f5f"
                        },
                        "type": "carpet"
                      }
                    ],
                    "choropleth": [
                      {
                        "colorbar": {
                          "outlinewidth": 0,
                          "ticks": ""
                        },
                        "type": "choropleth"
                      }
                    ],
                    "contour": [
                      {
                        "colorbar": {
                          "outlinewidth": 0,
                          "ticks": ""
                        },
                        "colorscale": [
                          [
                            0,
                            "#0d0887"
                          ],
                          [
                            0.1111111111111111,
                            "#46039f"
                          ],
                          [
                            0.2222222222222222,
                            "#7201a8"
                          ],
                          [
                            0.3333333333333333,
                            "#9c179e"
                          ],
                          [
                            0.4444444444444444,
                            "#bd3786"
                          ],
                          [
                            0.5555555555555556,
                            "#d8576b"
                          ],
                          [
                            0.6666666666666666,
                            "#ed7953"
                          ],
                          [
                            0.7777777777777778,
                            "#fb9f3a"
                          ],
                          [
                            0.8888888888888888,
                            "#fdca26"
                          ],
                          [
                            1,
                            "#f0f921"
                          ]
                        ],
                        "type": "contour"
                      }
                    ],
                    "contourcarpet": [
                      {
                        "colorbar": {
                          "outlinewidth": 0,
                          "ticks": ""
                        },
                        "type": "contourcarpet"
                      }
                    ],
                    "heatmap": [
                      {
                        "colorbar": {
                          "outlinewidth": 0,
                          "ticks": ""
                        },
                        "colorscale": [
                          [
                            0,
                            "#0d0887"
                          ],
                          [
                            0.1111111111111111,
                            "#46039f"
                          ],
                          [
                            0.2222222222222222,
                            "#7201a8"
                          ],
                          [
                            0.3333333333333333,
                            "#9c179e"
                          ],
                          [
                            0.4444444444444444,
                            "#bd3786"
                          ],
                          [
                            0.5555555555555556,
                            "#d8576b"
                          ],
                          [
                            0.6666666666666666,
                            "#ed7953"
                          ],
                          [
                            0.7777777777777778,
                            "#fb9f3a"
                          ],
                          [
                            0.8888888888888888,
                            "#fdca26"
                          ],
                          [
                            1,
                            "#f0f921"
                          ]
                        ],
                        "type": "heatmap"
                      }
                    ],
                    "heatmapgl": [
                      {
                        "colorbar": {
                          "outlinewidth": 0,
                          "ticks": ""
                        },
                        "colorscale": [
                          [
                            0,
                            "#0d0887"
                          ],
                          [
                            0.1111111111111111,
                            "#46039f"
                          ],
                          [
                            0.2222222222222222,
                            "#7201a8"
                          ],
                          [
                            0.3333333333333333,
                            "#9c179e"
                          ],
                          [
                            0.4444444444444444,
                            "#bd3786"
                          ],
                          [
                            0.5555555555555556,
                            "#d8576b"
                          ],
                          [
                            0.6666666666666666,
                            "#ed7953"
                          ],
                          [
                            0.7777777777777778,
                            "#fb9f3a"
                          ],
                          [
                            0.8888888888888888,
                            "#fdca26"
                          ],
                          [
                            1,
                            "#f0f921"
                          ]
                        ],
                        "type": "heatmapgl"
                      }
                    ],
                    "histogram": [
                      {
                        "marker": {
                          "pattern": {
                            "fillmode": "overlay",
                            "size": 10,
                            "solidity": 0.2
                          }
                        },
                        "type": "histogram"
                      }
                    ],
                    "histogram2d": [
                      {
                        "colorbar": {
                          "outlinewidth": 0,
                          "ticks": ""
                        },
                        "colorscale": [
                          [
                            0,
                            "#0d0887"
                          ],
                          [
                            0.1111111111111111,
                            "#46039f"
                          ],
                          [
                            0.2222222222222222,
                            "#7201a8"
                          ],
                          [
                            0.3333333333333333,
                            "#9c179e"
                          ],
                          [
                            0.4444444444444444,
                            "#bd3786"
                          ],
                          [
                            0.5555555555555556,
                            "#d8576b"
                          ],
                          [
                            0.6666666666666666,
                            "#ed7953"
                          ],
                          [
                            0.7777777777777778,
                            "#fb9f3a"
                          ],
                          [
                            0.8888888888888888,
                            "#fdca26"
                          ],
                          [
                            1,
                            "#f0f921"
                          ]
                        ],
                        "type": "histogram2d"
                      }
                    ],
                    "histogram2dcontour": [
                      {
                        "colorbar": {
                          "outlinewidth": 0,
                          "ticks": ""
                        },
                        "colorscale": [
                          [
                            0,
                            "#0d0887"
                          ],
                          [
                            0.1111111111111111,
                            "#46039f"
                          ],
                          [
                            0.2222222222222222,
                            "#7201a8"
                          ],
                          [
                            0.3333333333333333,
                            "#9c179e"
                          ],
                          [
                            0.4444444444444444,
                            "#bd3786"
                          ],
                          [
                            0.5555555555555556,
                            "#d8576b"
                          ],
                          [
                            0.6666666666666666,
                            "#ed7953"
                          ],
                          [
                            0.7777777777777778,
                            "#fb9f3a"
                          ],
                          [
                            0.8888888888888888,
                            "#fdca26"
                          ],
                          [
                            1,
                            "#f0f921"
                          ]
                        ],
                        "type": "histogram2dcontour"
                      }
                    ],
                    "mesh3d": [
                      {
                        "colorbar": {
                          "outlinewidth": 0,
                          "ticks": ""
                        },
                        "type": "mesh3d"
                      }
                    ],
                    "parcoords": [
                      {
                        "line": {
                          "colorbar": {
                            "outlinewidth": 0,
                            "ticks": ""
                          }
                        },
                        "type": "parcoords"
                      }
                    ],
                    "pie": [
                      {
                        "automargin": true,
                        "type": "pie"
                      }
                    ],
                    "scatter": [
                      {
                        "fillpattern": {
                          "fillmode": "overlay",
                          "size": 10,
                          "solidity": 0.2
                        },
                        "type": "scatter"
                      }
                    ],
                    "scatter3d": [
                      {
                        "line": {
                          "colorbar": {
                            "outlinewidth": 0,
                            "ticks": ""
                          }
                        },
                        "marker": {
                          "colorbar": {
                            "outlinewidth": 0,
                            "ticks": ""
                          }
                        },
                        "type": "scatter3d"
                      }
                    ],
                    "scattercarpet": [
                      {
                        "marker": {
                          "colorbar": {
                            "outlinewidth": 0,
                            "ticks": ""
                          }
                        },
                        "type": "scattercarpet"
                      }
                    ],
                    "scattergeo": [
                      {
                        "marker": {
                          "colorbar": {
                            "outlinewidth": 0,
                            "ticks": ""
                          }
                        },
                        "type": "scattergeo"
                      }
                    ],
                    "scattergl": [
                      {
                        "marker": {
                          "colorbar": {
                            "outlinewidth": 0,
                            "ticks": ""
                          }
                        },
                        "type": "scattergl"
                      }
                    ],
                    "scattermapbox": [
                      {
                        "marker": {
                          "colorbar": {
                            "outlinewidth": 0,
                            "ticks": ""
                          }
                        },
                        "type": "scattermapbox"
                      }
                    ],
                    "scatterpolar": [
                      {
                        "marker": {
                          "colorbar": {
                            "outlinewidth": 0,
                            "ticks": ""
                          }
                        },
                        "type": "scatterpolar"
                      }
                    ],
                    "scatterpolargl": [
                      {
                        "marker": {
                          "colorbar": {
                            "outlinewidth": 0,
                            "ticks": ""
                          }
                        },
                        "type": "scatterpolargl"
                      }
                    ],
                    "scatterternary": [
                      {
                        "marker": {
                          "colorbar": {
                            "outlinewidth": 0,
                            "ticks": ""
                          }
                        },
                        "type": "scatterternary"
                      }
                    ],
                    "surface": [
                      {
                        "colorbar": {
                          "outlinewidth": 0,
                          "ticks": ""
                        },
                        "colorscale": [
                          [
                            0,
                            "#0d0887"
                          ],
                          [
                            0.1111111111111111,
                            "#46039f"
                          ],
                          [
                            0.2222222222222222,
                            "#7201a8"
                          ],
                          [
                            0.3333333333333333,
                            "#9c179e"
                          ],
                          [
                            0.4444444444444444,
                            "#bd3786"
                          ],
                          [
                            0.5555555555555556,
                            "#d8576b"
                          ],
                          [
                            0.6666666666666666,
                            "#ed7953"
                          ],
                          [
                            0.7777777777777778,
                            "#fb9f3a"
                          ],
                          [
                            0.8888888888888888,
                            "#fdca26"
                          ],
                          [
                            1,
                            "#f0f921"
                          ]
                        ],
                        "type": "surface"
                      }
                    ],
                    "table": [
                      {
                        "cells": {
                          "fill": {
                            "color": "#EBF0F8"
                          },
                          "line": {
                            "color": "white"
                          }
                        },
                        "header": {
                          "fill": {
                            "color": "#C8D4E3"
                          },
                          "line": {
                            "color": "white"
                          }
                        },
                        "type": "table"
                      }
                    ]
                  },
                  "layout": {
                    "annotationdefaults": {
                      "arrowcolor": "#2a3f5f",
                      "arrowhead": 0,
                      "arrowwidth": 1
                    },
                    "autotypenumbers": "strict",
                    "coloraxis": {
                      "colorbar": {
                        "outlinewidth": 0,
                        "ticks": ""
                      }
                    },
                    "colorscale": {
                      "diverging": [
                        [
                          0,
                          "#8e0152"
                        ],
                        [
                          0.1,
                          "#c51b7d"
                        ],
                        [
                          0.2,
                          "#de77ae"
                        ],
                        [
                          0.3,
                          "#f1b6da"
                        ],
                        [
                          0.4,
                          "#fde0ef"
                        ],
                        [
                          0.5,
                          "#f7f7f7"
                        ],
                        [
                          0.6,
                          "#e6f5d0"
                        ],
                        [
                          0.7,
                          "#b8e186"
                        ],
                        [
                          0.8,
                          "#7fbc41"
                        ],
                        [
                          0.9,
                          "#4d9221"
                        ],
                        [
                          1,
                          "#276419"
                        ]
                      ],
                      "sequential": [
                        [
                          0,
                          "#0d0887"
                        ],
                        [
                          0.1111111111111111,
                          "#46039f"
                        ],
                        [
                          0.2222222222222222,
                          "#7201a8"
                        ],
                        [
                          0.3333333333333333,
                          "#9c179e"
                        ],
                        [
                          0.4444444444444444,
                          "#bd3786"
                        ],
                        [
                          0.5555555555555556,
                          "#d8576b"
                        ],
                        [
                          0.6666666666666666,
                          "#ed7953"
                        ],
                        [
                          0.7777777777777778,
                          "#fb9f3a"
                        ],
                        [
                          0.8888888888888888,
                          "#fdca26"
                        ],
                        [
                          1,
                          "#f0f921"
                        ]
                      ],
                      "sequentialminus": [
                        [
                          0,
                          "#0d0887"
                        ],
                        [
                          0.1111111111111111,
                          "#46039f"
                        ],
                        [
                          0.2222222222222222,
                          "#7201a8"
                        ],
                        [
                          0.3333333333333333,
                          "#9c179e"
                        ],
                        [
                          0.4444444444444444,
                          "#bd3786"
                        ],
                        [
                          0.5555555555555556,
                          "#d8576b"
                        ],
                        [
                          0.6666666666666666,
                          "#ed7953"
                        ],
                        [
                          0.7777777777777778,
                          "#fb9f3a"
                        ],
                        [
                          0.8888888888888888,
                          "#fdca26"
                        ],
                        [
                          1,
                          "#f0f921"
                        ]
                      ]
                    },
                    "colorway": [
                      "#636efa",
                      "#EF553B",
                      "#00cc96",
                      "#ab63fa",
                      "#FFA15A",
                      "#19d3f3",
                      "#FF6692",
                      "#B6E880",
                      "#FF97FF",
                      "#FECB52"
                    ],
                    "font": {
                      "color": "#2a3f5f"
                    },
                    "geo": {
                      "bgcolor": "white",
                      "lakecolor": "white",
                      "landcolor": "#E5ECF6",
                      "showlakes": true,
                      "showland": true,
                      "subunitcolor": "white"
                    },
                    "hoverlabel": {
                      "align": "left"
                    },
                    "hovermode": "closest",
                    "mapbox": {
                      "style": "light"
                    },
                    "paper_bgcolor": "white",
                    "plot_bgcolor": "#E5ECF6",
                    "polar": {
                      "angularaxis": {
                        "gridcolor": "white",
                        "linecolor": "white",
                        "ticks": ""
                      },
                      "bgcolor": "#E5ECF6",
                      "radialaxis": {
                        "gridcolor": "white",
                        "linecolor": "white",
                        "ticks": ""
                      }
                    },
                    "scene": {
                      "xaxis": {
                        "backgroundcolor": "#E5ECF6",
                        "gridcolor": "white",
                        "gridwidth": 2,
                        "linecolor": "white",
                        "showbackground": true,
                        "ticks": "",
                        "zerolinecolor": "white"
                      },
                      "yaxis": {
                        "backgroundcolor": "#E5ECF6",
                        "gridcolor": "white",
                        "gridwidth": 2,
                        "linecolor": "white",
                        "showbackground": true,
                        "ticks": "",
                        "zerolinecolor": "white"
                      },
                      "zaxis": {
                        "backgroundcolor": "#E5ECF6",
                        "gridcolor": "white",
                        "gridwidth": 2,
                        "linecolor": "white",
                        "showbackground": true,
                        "ticks": "",
                        "zerolinecolor": "white"
                      }
                    },
                    "shapedefaults": {
                      "line": {
                        "color": "#2a3f5f"
                      }
                    },
                    "ternary": {
                      "aaxis": {
                        "gridcolor": "white",
                        "linecolor": "white",
                        "ticks": ""
                      },
                      "baxis": {
                        "gridcolor": "white",
                        "linecolor": "white",
                        "ticks": ""
                      },
                      "bgcolor": "#E5ECF6",
                      "caxis": {
                        "gridcolor": "white",
                        "linecolor": "white",
                        "ticks": ""
                      }
                    },
                    "title": {
                      "x": 0.05
                    },
                    "xaxis": {
                      "automargin": true,
                      "gridcolor": "white",
                      "linecolor": "white",
                      "ticks": "",
                      "title": {
                        "standoff": 15
                      },
                      "zerolinecolor": "white",
                      "zerolinewidth": 2
                    },
                    "yaxis": {
                      "automargin": true,
                      "gridcolor": "white",
                      "linecolor": "white",
                      "ticks": "",
                      "title": {
                        "standoff": 15
                      },
                      "zerolinecolor": "white",
                      "zerolinewidth": 2
                    }
                  }
                },
                "title": {
                  "font": {
                    "size": 30
                  },
                  "text": "One-Shot prompting accuracy for solving test cases"
                },
                "width": 800,
                "xaxis": {
                  "anchor": "y",
                  "categoryarray": [
                    0.75,
                    0.7,
                    0.7,
                    0.65,
                    0.65,
                    0.65,
                    0.65,
                    0.65,
                    0.6,
                    0.6,
                    0.6,
                    0.6,
                    0.6,
                    0.6,
                    0.6,
                    0.6,
                    0.55
                  ],
                  "categoryorder": "array",
                  "domain": [
                    0,
                    1
                  ],
                  "dtick": 1,
                  "tick0": 0,
                  "tickfont": {
                    "size": 18
                  },
                  "tickmode": "linear",
                  "title": {
                    "font": {
                      "size": 24
                    },
                    "text": "Config"
                  }
                },
                "yaxis": {
                  "anchor": "x",
                  "domain": [
                    0,
                    1
                  ],
                  "tickfont": {
                    "size": 24
                  },
                  "title": {
                    "font": {
                      "size": 24
                    },
                    "text": "Accuracy"
                  }
                }
              }
            }
          },
          "metadata": {},
          "output_type": "display_data"
        }
      ],
      "source": [
        "fig = px.bar(df_one_shot, x='index', y='accuracy', title='One-Shot prompting accuracy for solving test cases',\n",
        "             labels={'index': 'Id', 'accuracy': 'Accuracy'}, width=800, height=500,\n",
        "             category_orders={\"index\": df_one_shot['accuracy'].sort_values(ascending=False)})\n",
        "\n",
        "fig.update_layout(xaxis_title='Config', yaxis_title='Accuracy', showlegend=False, bargap=0.2,\n",
        "                  xaxis=dict(tickmode='linear', tick0=0, dtick=1, tickfont=dict(size=18)),\n",
        "                  yaxis=dict(tickfont=dict(size=24)),\n",
        "                  yaxis_title_font=dict(size=24),\n",
        "                  xaxis_title_font=dict(size=24),\n",
        "                  title_font=dict(size=30))\n",
        "\n",
        "fig.show()\n",
        "fig.write_image(\"total_acc_one_shot.png\", width=1200, height=800, scale=2)"
      ]
    },
    {
      "cell_type": "code",
      "execution_count": 6,
      "metadata": {},
      "outputs": [
        {
          "data": {
            "application/vnd.plotly.v1+json": {
              "config": {
                "plotlyServerURL": "https://plot.ly"
              },
              "data": [
                {
                  "alignmentgroup": "True",
                  "hovertemplate": "Id=%{x}<br>Accuracy=%{y}<extra></extra>",
                  "legendgroup": "",
                  "marker": {
                    "color": "#636efa",
                    "pattern": {
                      "shape": ""
                    }
                  },
                  "name": "",
                  "offsetgroup": "",
                  "orientation": "v",
                  "showlegend": false,
                  "textposition": "auto",
                  "type": "bar",
                  "x": [
                    4,
                    14,
                    7,
                    9,
                    11,
                    16,
                    13,
                    8,
                    15,
                    2,
                    12,
                    0,
                    5,
                    6,
                    3,
                    10,
                    1
                  ],
                  "xaxis": "x",
                  "y": [
                    0.55,
                    0.5,
                    0.5,
                    0.5,
                    0.5,
                    0.45,
                    0.45,
                    0.45,
                    0.45,
                    0.45,
                    0.45,
                    0.4,
                    0.4,
                    0.4,
                    0.4,
                    0.4,
                    0.35
                  ],
                  "yaxis": "y"
                }
              ],
              "layout": {
                "bargap": 0.2,
                "barmode": "relative",
                "height": 500,
                "legend": {
                  "tracegroupgap": 0
                },
                "showlegend": false,
                "template": {
                  "data": {
                    "bar": [
                      {
                        "error_x": {
                          "color": "#2a3f5f"
                        },
                        "error_y": {
                          "color": "#2a3f5f"
                        },
                        "marker": {
                          "line": {
                            "color": "#E5ECF6",
                            "width": 0.5
                          },
                          "pattern": {
                            "fillmode": "overlay",
                            "size": 10,
                            "solidity": 0.2
                          }
                        },
                        "type": "bar"
                      }
                    ],
                    "barpolar": [
                      {
                        "marker": {
                          "line": {
                            "color": "#E5ECF6",
                            "width": 0.5
                          },
                          "pattern": {
                            "fillmode": "overlay",
                            "size": 10,
                            "solidity": 0.2
                          }
                        },
                        "type": "barpolar"
                      }
                    ],
                    "carpet": [
                      {
                        "aaxis": {
                          "endlinecolor": "#2a3f5f",
                          "gridcolor": "white",
                          "linecolor": "white",
                          "minorgridcolor": "white",
                          "startlinecolor": "#2a3f5f"
                        },
                        "baxis": {
                          "endlinecolor": "#2a3f5f",
                          "gridcolor": "white",
                          "linecolor": "white",
                          "minorgridcolor": "white",
                          "startlinecolor": "#2a3f5f"
                        },
                        "type": "carpet"
                      }
                    ],
                    "choropleth": [
                      {
                        "colorbar": {
                          "outlinewidth": 0,
                          "ticks": ""
                        },
                        "type": "choropleth"
                      }
                    ],
                    "contour": [
                      {
                        "colorbar": {
                          "outlinewidth": 0,
                          "ticks": ""
                        },
                        "colorscale": [
                          [
                            0,
                            "#0d0887"
                          ],
                          [
                            0.1111111111111111,
                            "#46039f"
                          ],
                          [
                            0.2222222222222222,
                            "#7201a8"
                          ],
                          [
                            0.3333333333333333,
                            "#9c179e"
                          ],
                          [
                            0.4444444444444444,
                            "#bd3786"
                          ],
                          [
                            0.5555555555555556,
                            "#d8576b"
                          ],
                          [
                            0.6666666666666666,
                            "#ed7953"
                          ],
                          [
                            0.7777777777777778,
                            "#fb9f3a"
                          ],
                          [
                            0.8888888888888888,
                            "#fdca26"
                          ],
                          [
                            1,
                            "#f0f921"
                          ]
                        ],
                        "type": "contour"
                      }
                    ],
                    "contourcarpet": [
                      {
                        "colorbar": {
                          "outlinewidth": 0,
                          "ticks": ""
                        },
                        "type": "contourcarpet"
                      }
                    ],
                    "heatmap": [
                      {
                        "colorbar": {
                          "outlinewidth": 0,
                          "ticks": ""
                        },
                        "colorscale": [
                          [
                            0,
                            "#0d0887"
                          ],
                          [
                            0.1111111111111111,
                            "#46039f"
                          ],
                          [
                            0.2222222222222222,
                            "#7201a8"
                          ],
                          [
                            0.3333333333333333,
                            "#9c179e"
                          ],
                          [
                            0.4444444444444444,
                            "#bd3786"
                          ],
                          [
                            0.5555555555555556,
                            "#d8576b"
                          ],
                          [
                            0.6666666666666666,
                            "#ed7953"
                          ],
                          [
                            0.7777777777777778,
                            "#fb9f3a"
                          ],
                          [
                            0.8888888888888888,
                            "#fdca26"
                          ],
                          [
                            1,
                            "#f0f921"
                          ]
                        ],
                        "type": "heatmap"
                      }
                    ],
                    "heatmapgl": [
                      {
                        "colorbar": {
                          "outlinewidth": 0,
                          "ticks": ""
                        },
                        "colorscale": [
                          [
                            0,
                            "#0d0887"
                          ],
                          [
                            0.1111111111111111,
                            "#46039f"
                          ],
                          [
                            0.2222222222222222,
                            "#7201a8"
                          ],
                          [
                            0.3333333333333333,
                            "#9c179e"
                          ],
                          [
                            0.4444444444444444,
                            "#bd3786"
                          ],
                          [
                            0.5555555555555556,
                            "#d8576b"
                          ],
                          [
                            0.6666666666666666,
                            "#ed7953"
                          ],
                          [
                            0.7777777777777778,
                            "#fb9f3a"
                          ],
                          [
                            0.8888888888888888,
                            "#fdca26"
                          ],
                          [
                            1,
                            "#f0f921"
                          ]
                        ],
                        "type": "heatmapgl"
                      }
                    ],
                    "histogram": [
                      {
                        "marker": {
                          "pattern": {
                            "fillmode": "overlay",
                            "size": 10,
                            "solidity": 0.2
                          }
                        },
                        "type": "histogram"
                      }
                    ],
                    "histogram2d": [
                      {
                        "colorbar": {
                          "outlinewidth": 0,
                          "ticks": ""
                        },
                        "colorscale": [
                          [
                            0,
                            "#0d0887"
                          ],
                          [
                            0.1111111111111111,
                            "#46039f"
                          ],
                          [
                            0.2222222222222222,
                            "#7201a8"
                          ],
                          [
                            0.3333333333333333,
                            "#9c179e"
                          ],
                          [
                            0.4444444444444444,
                            "#bd3786"
                          ],
                          [
                            0.5555555555555556,
                            "#d8576b"
                          ],
                          [
                            0.6666666666666666,
                            "#ed7953"
                          ],
                          [
                            0.7777777777777778,
                            "#fb9f3a"
                          ],
                          [
                            0.8888888888888888,
                            "#fdca26"
                          ],
                          [
                            1,
                            "#f0f921"
                          ]
                        ],
                        "type": "histogram2d"
                      }
                    ],
                    "histogram2dcontour": [
                      {
                        "colorbar": {
                          "outlinewidth": 0,
                          "ticks": ""
                        },
                        "colorscale": [
                          [
                            0,
                            "#0d0887"
                          ],
                          [
                            0.1111111111111111,
                            "#46039f"
                          ],
                          [
                            0.2222222222222222,
                            "#7201a8"
                          ],
                          [
                            0.3333333333333333,
                            "#9c179e"
                          ],
                          [
                            0.4444444444444444,
                            "#bd3786"
                          ],
                          [
                            0.5555555555555556,
                            "#d8576b"
                          ],
                          [
                            0.6666666666666666,
                            "#ed7953"
                          ],
                          [
                            0.7777777777777778,
                            "#fb9f3a"
                          ],
                          [
                            0.8888888888888888,
                            "#fdca26"
                          ],
                          [
                            1,
                            "#f0f921"
                          ]
                        ],
                        "type": "histogram2dcontour"
                      }
                    ],
                    "mesh3d": [
                      {
                        "colorbar": {
                          "outlinewidth": 0,
                          "ticks": ""
                        },
                        "type": "mesh3d"
                      }
                    ],
                    "parcoords": [
                      {
                        "line": {
                          "colorbar": {
                            "outlinewidth": 0,
                            "ticks": ""
                          }
                        },
                        "type": "parcoords"
                      }
                    ],
                    "pie": [
                      {
                        "automargin": true,
                        "type": "pie"
                      }
                    ],
                    "scatter": [
                      {
                        "fillpattern": {
                          "fillmode": "overlay",
                          "size": 10,
                          "solidity": 0.2
                        },
                        "type": "scatter"
                      }
                    ],
                    "scatter3d": [
                      {
                        "line": {
                          "colorbar": {
                            "outlinewidth": 0,
                            "ticks": ""
                          }
                        },
                        "marker": {
                          "colorbar": {
                            "outlinewidth": 0,
                            "ticks": ""
                          }
                        },
                        "type": "scatter3d"
                      }
                    ],
                    "scattercarpet": [
                      {
                        "marker": {
                          "colorbar": {
                            "outlinewidth": 0,
                            "ticks": ""
                          }
                        },
                        "type": "scattercarpet"
                      }
                    ],
                    "scattergeo": [
                      {
                        "marker": {
                          "colorbar": {
                            "outlinewidth": 0,
                            "ticks": ""
                          }
                        },
                        "type": "scattergeo"
                      }
                    ],
                    "scattergl": [
                      {
                        "marker": {
                          "colorbar": {
                            "outlinewidth": 0,
                            "ticks": ""
                          }
                        },
                        "type": "scattergl"
                      }
                    ],
                    "scattermapbox": [
                      {
                        "marker": {
                          "colorbar": {
                            "outlinewidth": 0,
                            "ticks": ""
                          }
                        },
                        "type": "scattermapbox"
                      }
                    ],
                    "scatterpolar": [
                      {
                        "marker": {
                          "colorbar": {
                            "outlinewidth": 0,
                            "ticks": ""
                          }
                        },
                        "type": "scatterpolar"
                      }
                    ],
                    "scatterpolargl": [
                      {
                        "marker": {
                          "colorbar": {
                            "outlinewidth": 0,
                            "ticks": ""
                          }
                        },
                        "type": "scatterpolargl"
                      }
                    ],
                    "scatterternary": [
                      {
                        "marker": {
                          "colorbar": {
                            "outlinewidth": 0,
                            "ticks": ""
                          }
                        },
                        "type": "scatterternary"
                      }
                    ],
                    "surface": [
                      {
                        "colorbar": {
                          "outlinewidth": 0,
                          "ticks": ""
                        },
                        "colorscale": [
                          [
                            0,
                            "#0d0887"
                          ],
                          [
                            0.1111111111111111,
                            "#46039f"
                          ],
                          [
                            0.2222222222222222,
                            "#7201a8"
                          ],
                          [
                            0.3333333333333333,
                            "#9c179e"
                          ],
                          [
                            0.4444444444444444,
                            "#bd3786"
                          ],
                          [
                            0.5555555555555556,
                            "#d8576b"
                          ],
                          [
                            0.6666666666666666,
                            "#ed7953"
                          ],
                          [
                            0.7777777777777778,
                            "#fb9f3a"
                          ],
                          [
                            0.8888888888888888,
                            "#fdca26"
                          ],
                          [
                            1,
                            "#f0f921"
                          ]
                        ],
                        "type": "surface"
                      }
                    ],
                    "table": [
                      {
                        "cells": {
                          "fill": {
                            "color": "#EBF0F8"
                          },
                          "line": {
                            "color": "white"
                          }
                        },
                        "header": {
                          "fill": {
                            "color": "#C8D4E3"
                          },
                          "line": {
                            "color": "white"
                          }
                        },
                        "type": "table"
                      }
                    ]
                  },
                  "layout": {
                    "annotationdefaults": {
                      "arrowcolor": "#2a3f5f",
                      "arrowhead": 0,
                      "arrowwidth": 1
                    },
                    "autotypenumbers": "strict",
                    "coloraxis": {
                      "colorbar": {
                        "outlinewidth": 0,
                        "ticks": ""
                      }
                    },
                    "colorscale": {
                      "diverging": [
                        [
                          0,
                          "#8e0152"
                        ],
                        [
                          0.1,
                          "#c51b7d"
                        ],
                        [
                          0.2,
                          "#de77ae"
                        ],
                        [
                          0.3,
                          "#f1b6da"
                        ],
                        [
                          0.4,
                          "#fde0ef"
                        ],
                        [
                          0.5,
                          "#f7f7f7"
                        ],
                        [
                          0.6,
                          "#e6f5d0"
                        ],
                        [
                          0.7,
                          "#b8e186"
                        ],
                        [
                          0.8,
                          "#7fbc41"
                        ],
                        [
                          0.9,
                          "#4d9221"
                        ],
                        [
                          1,
                          "#276419"
                        ]
                      ],
                      "sequential": [
                        [
                          0,
                          "#0d0887"
                        ],
                        [
                          0.1111111111111111,
                          "#46039f"
                        ],
                        [
                          0.2222222222222222,
                          "#7201a8"
                        ],
                        [
                          0.3333333333333333,
                          "#9c179e"
                        ],
                        [
                          0.4444444444444444,
                          "#bd3786"
                        ],
                        [
                          0.5555555555555556,
                          "#d8576b"
                        ],
                        [
                          0.6666666666666666,
                          "#ed7953"
                        ],
                        [
                          0.7777777777777778,
                          "#fb9f3a"
                        ],
                        [
                          0.8888888888888888,
                          "#fdca26"
                        ],
                        [
                          1,
                          "#f0f921"
                        ]
                      ],
                      "sequentialminus": [
                        [
                          0,
                          "#0d0887"
                        ],
                        [
                          0.1111111111111111,
                          "#46039f"
                        ],
                        [
                          0.2222222222222222,
                          "#7201a8"
                        ],
                        [
                          0.3333333333333333,
                          "#9c179e"
                        ],
                        [
                          0.4444444444444444,
                          "#bd3786"
                        ],
                        [
                          0.5555555555555556,
                          "#d8576b"
                        ],
                        [
                          0.6666666666666666,
                          "#ed7953"
                        ],
                        [
                          0.7777777777777778,
                          "#fb9f3a"
                        ],
                        [
                          0.8888888888888888,
                          "#fdca26"
                        ],
                        [
                          1,
                          "#f0f921"
                        ]
                      ]
                    },
                    "colorway": [
                      "#636efa",
                      "#EF553B",
                      "#00cc96",
                      "#ab63fa",
                      "#FFA15A",
                      "#19d3f3",
                      "#FF6692",
                      "#B6E880",
                      "#FF97FF",
                      "#FECB52"
                    ],
                    "font": {
                      "color": "#2a3f5f"
                    },
                    "geo": {
                      "bgcolor": "white",
                      "lakecolor": "white",
                      "landcolor": "#E5ECF6",
                      "showlakes": true,
                      "showland": true,
                      "subunitcolor": "white"
                    },
                    "hoverlabel": {
                      "align": "left"
                    },
                    "hovermode": "closest",
                    "mapbox": {
                      "style": "light"
                    },
                    "paper_bgcolor": "white",
                    "plot_bgcolor": "#E5ECF6",
                    "polar": {
                      "angularaxis": {
                        "gridcolor": "white",
                        "linecolor": "white",
                        "ticks": ""
                      },
                      "bgcolor": "#E5ECF6",
                      "radialaxis": {
                        "gridcolor": "white",
                        "linecolor": "white",
                        "ticks": ""
                      }
                    },
                    "scene": {
                      "xaxis": {
                        "backgroundcolor": "#E5ECF6",
                        "gridcolor": "white",
                        "gridwidth": 2,
                        "linecolor": "white",
                        "showbackground": true,
                        "ticks": "",
                        "zerolinecolor": "white"
                      },
                      "yaxis": {
                        "backgroundcolor": "#E5ECF6",
                        "gridcolor": "white",
                        "gridwidth": 2,
                        "linecolor": "white",
                        "showbackground": true,
                        "ticks": "",
                        "zerolinecolor": "white"
                      },
                      "zaxis": {
                        "backgroundcolor": "#E5ECF6",
                        "gridcolor": "white",
                        "gridwidth": 2,
                        "linecolor": "white",
                        "showbackground": true,
                        "ticks": "",
                        "zerolinecolor": "white"
                      }
                    },
                    "shapedefaults": {
                      "line": {
                        "color": "#2a3f5f"
                      }
                    },
                    "ternary": {
                      "aaxis": {
                        "gridcolor": "white",
                        "linecolor": "white",
                        "ticks": ""
                      },
                      "baxis": {
                        "gridcolor": "white",
                        "linecolor": "white",
                        "ticks": ""
                      },
                      "bgcolor": "#E5ECF6",
                      "caxis": {
                        "gridcolor": "white",
                        "linecolor": "white",
                        "ticks": ""
                      }
                    },
                    "title": {
                      "x": 0.05
                    },
                    "xaxis": {
                      "automargin": true,
                      "gridcolor": "white",
                      "linecolor": "white",
                      "ticks": "",
                      "title": {
                        "standoff": 15
                      },
                      "zerolinecolor": "white",
                      "zerolinewidth": 2
                    },
                    "yaxis": {
                      "automargin": true,
                      "gridcolor": "white",
                      "linecolor": "white",
                      "ticks": "",
                      "title": {
                        "standoff": 15
                      },
                      "zerolinecolor": "white",
                      "zerolinewidth": 2
                    }
                  }
                },
                "title": {
                  "font": {
                    "size": 30
                  },
                  "text": "Zero-shot prompting accuracy for solving test cases"
                },
                "width": 800,
                "xaxis": {
                  "anchor": "y",
                  "categoryarray": [
                    0.55,
                    0.5,
                    0.5,
                    0.5,
                    0.5,
                    0.45,
                    0.45,
                    0.45,
                    0.45,
                    0.45,
                    0.45,
                    0.4,
                    0.4,
                    0.4,
                    0.4,
                    0.4,
                    0.35
                  ],
                  "categoryorder": "array",
                  "domain": [
                    0,
                    1
                  ],
                  "dtick": 1,
                  "tick0": 0,
                  "tickfont": {
                    "size": 18
                  },
                  "tickmode": "linear",
                  "title": {
                    "font": {
                      "size": 24
                    },
                    "text": "Config"
                  }
                },
                "yaxis": {
                  "anchor": "x",
                  "domain": [
                    0,
                    1
                  ],
                  "tickfont": {
                    "size": 24
                  },
                  "title": {
                    "font": {
                      "size": 24
                    },
                    "text": "Accuracy"
                  }
                }
              }
            }
          },
          "metadata": {},
          "output_type": "display_data"
        }
      ],
      "source": [
        "fig = px.bar(df_zero_shot, x='index', y='accuracy', title='Zero-shot prompting accuracy for solving test cases',\n",
        "             labels={'index': 'Id', 'accuracy': 'Accuracy'}, width=800, height=500,\n",
        "             category_orders={\"index\": df_zero_shot['accuracy'].sort_values(ascending=False)})\n",
        "\n",
        "fig.update_layout(xaxis_title='Config', yaxis_title='Accuracy', showlegend=False, bargap=0.2,\n",
        "                  xaxis=dict(tickmode='linear', tick0=0, dtick=1, tickfont=dict(size=18)),\n",
        "                  yaxis=dict(tickfont=dict(size=24)),\n",
        "                  yaxis_title_font=dict(size=24),\n",
        "                  xaxis_title_font=dict(size=24),\n",
        "                  title_font=dict(size=30))\n",
        "\n",
        "fig.show()\n",
        "fig.write_image(\"total_acc_zero_shot.png\", width=1200, height=800, scale=2)"
      ]
    },
    {
      "cell_type": "code",
      "execution_count": 7,
      "metadata": {},
      "outputs": [
        {
          "data": {
            "application/vnd.plotly.v1+json": {
              "config": {
                "plotlyServerURL": "https://plot.ly"
              },
              "data": [
                {
                  "alignmentgroup": "True",
                  "hovertemplate": "Id=%{x}<br>Accuracy=%{y}<extra></extra>",
                  "legendgroup": "",
                  "marker": {
                    "color": "#636efa",
                    "pattern": {
                      "shape": ""
                    }
                  },
                  "name": "",
                  "offsetgroup": "",
                  "orientation": "v",
                  "showlegend": false,
                  "textposition": "auto",
                  "type": "bar",
                  "x": [
                    3,
                    1,
                    11,
                    9,
                    15,
                    5,
                    0,
                    4,
                    2,
                    12,
                    6,
                    7,
                    16,
                    10,
                    14,
                    8,
                    13
                  ],
                  "xaxis": "x",
                  "y": [
                    0.6,
                    0.6,
                    0.6,
                    0.6,
                    0.55,
                    0.55,
                    0.55,
                    0.55,
                    0.55,
                    0.55,
                    0.5,
                    0.5,
                    0.5,
                    0.5,
                    0.45,
                    0.4,
                    0.4
                  ],
                  "yaxis": "y"
                }
              ],
              "layout": {
                "bargap": 0.2,
                "barmode": "relative",
                "height": 500,
                "legend": {
                  "tracegroupgap": 0
                },
                "showlegend": false,
                "template": {
                  "data": {
                    "bar": [
                      {
                        "error_x": {
                          "color": "#2a3f5f"
                        },
                        "error_y": {
                          "color": "#2a3f5f"
                        },
                        "marker": {
                          "line": {
                            "color": "#E5ECF6",
                            "width": 0.5
                          },
                          "pattern": {
                            "fillmode": "overlay",
                            "size": 10,
                            "solidity": 0.2
                          }
                        },
                        "type": "bar"
                      }
                    ],
                    "barpolar": [
                      {
                        "marker": {
                          "line": {
                            "color": "#E5ECF6",
                            "width": 0.5
                          },
                          "pattern": {
                            "fillmode": "overlay",
                            "size": 10,
                            "solidity": 0.2
                          }
                        },
                        "type": "barpolar"
                      }
                    ],
                    "carpet": [
                      {
                        "aaxis": {
                          "endlinecolor": "#2a3f5f",
                          "gridcolor": "white",
                          "linecolor": "white",
                          "minorgridcolor": "white",
                          "startlinecolor": "#2a3f5f"
                        },
                        "baxis": {
                          "endlinecolor": "#2a3f5f",
                          "gridcolor": "white",
                          "linecolor": "white",
                          "minorgridcolor": "white",
                          "startlinecolor": "#2a3f5f"
                        },
                        "type": "carpet"
                      }
                    ],
                    "choropleth": [
                      {
                        "colorbar": {
                          "outlinewidth": 0,
                          "ticks": ""
                        },
                        "type": "choropleth"
                      }
                    ],
                    "contour": [
                      {
                        "colorbar": {
                          "outlinewidth": 0,
                          "ticks": ""
                        },
                        "colorscale": [
                          [
                            0,
                            "#0d0887"
                          ],
                          [
                            0.1111111111111111,
                            "#46039f"
                          ],
                          [
                            0.2222222222222222,
                            "#7201a8"
                          ],
                          [
                            0.3333333333333333,
                            "#9c179e"
                          ],
                          [
                            0.4444444444444444,
                            "#bd3786"
                          ],
                          [
                            0.5555555555555556,
                            "#d8576b"
                          ],
                          [
                            0.6666666666666666,
                            "#ed7953"
                          ],
                          [
                            0.7777777777777778,
                            "#fb9f3a"
                          ],
                          [
                            0.8888888888888888,
                            "#fdca26"
                          ],
                          [
                            1,
                            "#f0f921"
                          ]
                        ],
                        "type": "contour"
                      }
                    ],
                    "contourcarpet": [
                      {
                        "colorbar": {
                          "outlinewidth": 0,
                          "ticks": ""
                        },
                        "type": "contourcarpet"
                      }
                    ],
                    "heatmap": [
                      {
                        "colorbar": {
                          "outlinewidth": 0,
                          "ticks": ""
                        },
                        "colorscale": [
                          [
                            0,
                            "#0d0887"
                          ],
                          [
                            0.1111111111111111,
                            "#46039f"
                          ],
                          [
                            0.2222222222222222,
                            "#7201a8"
                          ],
                          [
                            0.3333333333333333,
                            "#9c179e"
                          ],
                          [
                            0.4444444444444444,
                            "#bd3786"
                          ],
                          [
                            0.5555555555555556,
                            "#d8576b"
                          ],
                          [
                            0.6666666666666666,
                            "#ed7953"
                          ],
                          [
                            0.7777777777777778,
                            "#fb9f3a"
                          ],
                          [
                            0.8888888888888888,
                            "#fdca26"
                          ],
                          [
                            1,
                            "#f0f921"
                          ]
                        ],
                        "type": "heatmap"
                      }
                    ],
                    "heatmapgl": [
                      {
                        "colorbar": {
                          "outlinewidth": 0,
                          "ticks": ""
                        },
                        "colorscale": [
                          [
                            0,
                            "#0d0887"
                          ],
                          [
                            0.1111111111111111,
                            "#46039f"
                          ],
                          [
                            0.2222222222222222,
                            "#7201a8"
                          ],
                          [
                            0.3333333333333333,
                            "#9c179e"
                          ],
                          [
                            0.4444444444444444,
                            "#bd3786"
                          ],
                          [
                            0.5555555555555556,
                            "#d8576b"
                          ],
                          [
                            0.6666666666666666,
                            "#ed7953"
                          ],
                          [
                            0.7777777777777778,
                            "#fb9f3a"
                          ],
                          [
                            0.8888888888888888,
                            "#fdca26"
                          ],
                          [
                            1,
                            "#f0f921"
                          ]
                        ],
                        "type": "heatmapgl"
                      }
                    ],
                    "histogram": [
                      {
                        "marker": {
                          "pattern": {
                            "fillmode": "overlay",
                            "size": 10,
                            "solidity": 0.2
                          }
                        },
                        "type": "histogram"
                      }
                    ],
                    "histogram2d": [
                      {
                        "colorbar": {
                          "outlinewidth": 0,
                          "ticks": ""
                        },
                        "colorscale": [
                          [
                            0,
                            "#0d0887"
                          ],
                          [
                            0.1111111111111111,
                            "#46039f"
                          ],
                          [
                            0.2222222222222222,
                            "#7201a8"
                          ],
                          [
                            0.3333333333333333,
                            "#9c179e"
                          ],
                          [
                            0.4444444444444444,
                            "#bd3786"
                          ],
                          [
                            0.5555555555555556,
                            "#d8576b"
                          ],
                          [
                            0.6666666666666666,
                            "#ed7953"
                          ],
                          [
                            0.7777777777777778,
                            "#fb9f3a"
                          ],
                          [
                            0.8888888888888888,
                            "#fdca26"
                          ],
                          [
                            1,
                            "#f0f921"
                          ]
                        ],
                        "type": "histogram2d"
                      }
                    ],
                    "histogram2dcontour": [
                      {
                        "colorbar": {
                          "outlinewidth": 0,
                          "ticks": ""
                        },
                        "colorscale": [
                          [
                            0,
                            "#0d0887"
                          ],
                          [
                            0.1111111111111111,
                            "#46039f"
                          ],
                          [
                            0.2222222222222222,
                            "#7201a8"
                          ],
                          [
                            0.3333333333333333,
                            "#9c179e"
                          ],
                          [
                            0.4444444444444444,
                            "#bd3786"
                          ],
                          [
                            0.5555555555555556,
                            "#d8576b"
                          ],
                          [
                            0.6666666666666666,
                            "#ed7953"
                          ],
                          [
                            0.7777777777777778,
                            "#fb9f3a"
                          ],
                          [
                            0.8888888888888888,
                            "#fdca26"
                          ],
                          [
                            1,
                            "#f0f921"
                          ]
                        ],
                        "type": "histogram2dcontour"
                      }
                    ],
                    "mesh3d": [
                      {
                        "colorbar": {
                          "outlinewidth": 0,
                          "ticks": ""
                        },
                        "type": "mesh3d"
                      }
                    ],
                    "parcoords": [
                      {
                        "line": {
                          "colorbar": {
                            "outlinewidth": 0,
                            "ticks": ""
                          }
                        },
                        "type": "parcoords"
                      }
                    ],
                    "pie": [
                      {
                        "automargin": true,
                        "type": "pie"
                      }
                    ],
                    "scatter": [
                      {
                        "fillpattern": {
                          "fillmode": "overlay",
                          "size": 10,
                          "solidity": 0.2
                        },
                        "type": "scatter"
                      }
                    ],
                    "scatter3d": [
                      {
                        "line": {
                          "colorbar": {
                            "outlinewidth": 0,
                            "ticks": ""
                          }
                        },
                        "marker": {
                          "colorbar": {
                            "outlinewidth": 0,
                            "ticks": ""
                          }
                        },
                        "type": "scatter3d"
                      }
                    ],
                    "scattercarpet": [
                      {
                        "marker": {
                          "colorbar": {
                            "outlinewidth": 0,
                            "ticks": ""
                          }
                        },
                        "type": "scattercarpet"
                      }
                    ],
                    "scattergeo": [
                      {
                        "marker": {
                          "colorbar": {
                            "outlinewidth": 0,
                            "ticks": ""
                          }
                        },
                        "type": "scattergeo"
                      }
                    ],
                    "scattergl": [
                      {
                        "marker": {
                          "colorbar": {
                            "outlinewidth": 0,
                            "ticks": ""
                          }
                        },
                        "type": "scattergl"
                      }
                    ],
                    "scattermapbox": [
                      {
                        "marker": {
                          "colorbar": {
                            "outlinewidth": 0,
                            "ticks": ""
                          }
                        },
                        "type": "scattermapbox"
                      }
                    ],
                    "scatterpolar": [
                      {
                        "marker": {
                          "colorbar": {
                            "outlinewidth": 0,
                            "ticks": ""
                          }
                        },
                        "type": "scatterpolar"
                      }
                    ],
                    "scatterpolargl": [
                      {
                        "marker": {
                          "colorbar": {
                            "outlinewidth": 0,
                            "ticks": ""
                          }
                        },
                        "type": "scatterpolargl"
                      }
                    ],
                    "scatterternary": [
                      {
                        "marker": {
                          "colorbar": {
                            "outlinewidth": 0,
                            "ticks": ""
                          }
                        },
                        "type": "scatterternary"
                      }
                    ],
                    "surface": [
                      {
                        "colorbar": {
                          "outlinewidth": 0,
                          "ticks": ""
                        },
                        "colorscale": [
                          [
                            0,
                            "#0d0887"
                          ],
                          [
                            0.1111111111111111,
                            "#46039f"
                          ],
                          [
                            0.2222222222222222,
                            "#7201a8"
                          ],
                          [
                            0.3333333333333333,
                            "#9c179e"
                          ],
                          [
                            0.4444444444444444,
                            "#bd3786"
                          ],
                          [
                            0.5555555555555556,
                            "#d8576b"
                          ],
                          [
                            0.6666666666666666,
                            "#ed7953"
                          ],
                          [
                            0.7777777777777778,
                            "#fb9f3a"
                          ],
                          [
                            0.8888888888888888,
                            "#fdca26"
                          ],
                          [
                            1,
                            "#f0f921"
                          ]
                        ],
                        "type": "surface"
                      }
                    ],
                    "table": [
                      {
                        "cells": {
                          "fill": {
                            "color": "#EBF0F8"
                          },
                          "line": {
                            "color": "white"
                          }
                        },
                        "header": {
                          "fill": {
                            "color": "#C8D4E3"
                          },
                          "line": {
                            "color": "white"
                          }
                        },
                        "type": "table"
                      }
                    ]
                  },
                  "layout": {
                    "annotationdefaults": {
                      "arrowcolor": "#2a3f5f",
                      "arrowhead": 0,
                      "arrowwidth": 1
                    },
                    "autotypenumbers": "strict",
                    "coloraxis": {
                      "colorbar": {
                        "outlinewidth": 0,
                        "ticks": ""
                      }
                    },
                    "colorscale": {
                      "diverging": [
                        [
                          0,
                          "#8e0152"
                        ],
                        [
                          0.1,
                          "#c51b7d"
                        ],
                        [
                          0.2,
                          "#de77ae"
                        ],
                        [
                          0.3,
                          "#f1b6da"
                        ],
                        [
                          0.4,
                          "#fde0ef"
                        ],
                        [
                          0.5,
                          "#f7f7f7"
                        ],
                        [
                          0.6,
                          "#e6f5d0"
                        ],
                        [
                          0.7,
                          "#b8e186"
                        ],
                        [
                          0.8,
                          "#7fbc41"
                        ],
                        [
                          0.9,
                          "#4d9221"
                        ],
                        [
                          1,
                          "#276419"
                        ]
                      ],
                      "sequential": [
                        [
                          0,
                          "#0d0887"
                        ],
                        [
                          0.1111111111111111,
                          "#46039f"
                        ],
                        [
                          0.2222222222222222,
                          "#7201a8"
                        ],
                        [
                          0.3333333333333333,
                          "#9c179e"
                        ],
                        [
                          0.4444444444444444,
                          "#bd3786"
                        ],
                        [
                          0.5555555555555556,
                          "#d8576b"
                        ],
                        [
                          0.6666666666666666,
                          "#ed7953"
                        ],
                        [
                          0.7777777777777778,
                          "#fb9f3a"
                        ],
                        [
                          0.8888888888888888,
                          "#fdca26"
                        ],
                        [
                          1,
                          "#f0f921"
                        ]
                      ],
                      "sequentialminus": [
                        [
                          0,
                          "#0d0887"
                        ],
                        [
                          0.1111111111111111,
                          "#46039f"
                        ],
                        [
                          0.2222222222222222,
                          "#7201a8"
                        ],
                        [
                          0.3333333333333333,
                          "#9c179e"
                        ],
                        [
                          0.4444444444444444,
                          "#bd3786"
                        ],
                        [
                          0.5555555555555556,
                          "#d8576b"
                        ],
                        [
                          0.6666666666666666,
                          "#ed7953"
                        ],
                        [
                          0.7777777777777778,
                          "#fb9f3a"
                        ],
                        [
                          0.8888888888888888,
                          "#fdca26"
                        ],
                        [
                          1,
                          "#f0f921"
                        ]
                      ]
                    },
                    "colorway": [
                      "#636efa",
                      "#EF553B",
                      "#00cc96",
                      "#ab63fa",
                      "#FFA15A",
                      "#19d3f3",
                      "#FF6692",
                      "#B6E880",
                      "#FF97FF",
                      "#FECB52"
                    ],
                    "font": {
                      "color": "#2a3f5f"
                    },
                    "geo": {
                      "bgcolor": "white",
                      "lakecolor": "white",
                      "landcolor": "#E5ECF6",
                      "showlakes": true,
                      "showland": true,
                      "subunitcolor": "white"
                    },
                    "hoverlabel": {
                      "align": "left"
                    },
                    "hovermode": "closest",
                    "mapbox": {
                      "style": "light"
                    },
                    "paper_bgcolor": "white",
                    "plot_bgcolor": "#E5ECF6",
                    "polar": {
                      "angularaxis": {
                        "gridcolor": "white",
                        "linecolor": "white",
                        "ticks": ""
                      },
                      "bgcolor": "#E5ECF6",
                      "radialaxis": {
                        "gridcolor": "white",
                        "linecolor": "white",
                        "ticks": ""
                      }
                    },
                    "scene": {
                      "xaxis": {
                        "backgroundcolor": "#E5ECF6",
                        "gridcolor": "white",
                        "gridwidth": 2,
                        "linecolor": "white",
                        "showbackground": true,
                        "ticks": "",
                        "zerolinecolor": "white"
                      },
                      "yaxis": {
                        "backgroundcolor": "#E5ECF6",
                        "gridcolor": "white",
                        "gridwidth": 2,
                        "linecolor": "white",
                        "showbackground": true,
                        "ticks": "",
                        "zerolinecolor": "white"
                      },
                      "zaxis": {
                        "backgroundcolor": "#E5ECF6",
                        "gridcolor": "white",
                        "gridwidth": 2,
                        "linecolor": "white",
                        "showbackground": true,
                        "ticks": "",
                        "zerolinecolor": "white"
                      }
                    },
                    "shapedefaults": {
                      "line": {
                        "color": "#2a3f5f"
                      }
                    },
                    "ternary": {
                      "aaxis": {
                        "gridcolor": "white",
                        "linecolor": "white",
                        "ticks": ""
                      },
                      "baxis": {
                        "gridcolor": "white",
                        "linecolor": "white",
                        "ticks": ""
                      },
                      "bgcolor": "#E5ECF6",
                      "caxis": {
                        "gridcolor": "white",
                        "linecolor": "white",
                        "ticks": ""
                      }
                    },
                    "title": {
                      "x": 0.05
                    },
                    "xaxis": {
                      "automargin": true,
                      "gridcolor": "white",
                      "linecolor": "white",
                      "ticks": "",
                      "title": {
                        "standoff": 15
                      },
                      "zerolinecolor": "white",
                      "zerolinewidth": 2
                    },
                    "yaxis": {
                      "automargin": true,
                      "gridcolor": "white",
                      "linecolor": "white",
                      "ticks": "",
                      "title": {
                        "standoff": 15
                      },
                      "zerolinecolor": "white",
                      "zerolinewidth": 2
                    }
                  }
                },
                "title": {
                  "font": {
                    "size": 30
                  },
                  "text": "Zero-Shot structured prompting accuracy for solving test cases"
                },
                "width": 800,
                "xaxis": {
                  "anchor": "y",
                  "categoryarray": [
                    0.6,
                    0.6,
                    0.6,
                    0.6,
                    0.55,
                    0.55,
                    0.55,
                    0.55,
                    0.55,
                    0.55,
                    0.5,
                    0.5,
                    0.5,
                    0.5,
                    0.45,
                    0.4,
                    0.4
                  ],
                  "categoryorder": "array",
                  "domain": [
                    0,
                    1
                  ],
                  "dtick": 1,
                  "tick0": 0,
                  "tickfont": {
                    "size": 18
                  },
                  "tickmode": "linear",
                  "title": {
                    "font": {
                      "size": 24
                    },
                    "text": "Config"
                  }
                },
                "yaxis": {
                  "anchor": "x",
                  "domain": [
                    0,
                    1
                  ],
                  "tickfont": {
                    "size": 24
                  },
                  "title": {
                    "font": {
                      "size": 24
                    },
                    "text": "Accuracy"
                  }
                }
              }
            }
          },
          "metadata": {},
          "output_type": "display_data"
        }
      ],
      "source": [
        "fig = px.bar(df_zero_shot_structured, x='index', y='accuracy', title='Zero-Shot structured prompting accuracy for solving test cases',\n",
        "             labels={'index': 'Id', 'accuracy': 'Accuracy'}, width=800, height=500,\n",
        "             category_orders={\"index\": df_zero_shot_structured['accuracy'].sort_values(ascending=False)})\n",
        "\n",
        "fig.update_layout(xaxis_title='Config', yaxis_title='Accuracy', showlegend=False, bargap=0.2,\n",
        "                  xaxis=dict(tickmode='linear', tick0=0, dtick=1, tickfont=dict(size=18)),\n",
        "                  yaxis=dict(tickfont=dict(size=24)),\n",
        "                  yaxis_title_font=dict(size=24),\n",
        "                  xaxis_title_font=dict(size=24),\n",
        "                  title_font=dict(size=30))\n",
        "\n",
        "fig.show()\n",
        "fig.write_image(\"total_acc_zero_shot_structured.png\", width=1200, height=800, scale=2)"
      ]
    },
    {
      "cell_type": "code",
      "execution_count": 8,
      "metadata": {},
      "outputs": [
        {
          "data": {
            "application/vnd.plotly.v1+json": {
              "config": {
                "plotlyServerURL": "https://plot.ly"
              },
              "data": [
                {
                  "alignmentgroup": "True",
                  "hovertemplate": "Id=%{x}<br>Total Cost=%{y}<extra></extra>",
                  "legendgroup": "",
                  "marker": {
                    "color": "#636efa",
                    "pattern": {
                      "shape": ""
                    }
                  },
                  "name": "",
                  "offsetgroup": "",
                  "orientation": "v",
                  "showlegend": false,
                  "textposition": "auto",
                  "type": "bar",
                  "x": [
                    0,
                    1,
                    2,
                    3,
                    4,
                    5,
                    6,
                    7,
                    8,
                    9,
                    10,
                    11,
                    12,
                    13,
                    14,
                    15,
                    16
                  ],
                  "xaxis": "x",
                  "y": [
                    9.059780000000002,
                    15.032688733333336,
                    33.47914873333333,
                    13.694408733333333,
                    28.827848733333337,
                    7.155321566666667,
                    4.5331299666666665,
                    16.25083073333333,
                    2.11126,
                    14.521812366666666,
                    38.64121359999999,
                    14.483854933333333,
                    36.518852966666664,
                    2.147394933333333,
                    6.184260000000001,
                    7.504414933333333,
                    8.72766
                  ],
                  "yaxis": "y"
                }
              ],
              "layout": {
                "bargap": 0.2,
                "barmode": "relative",
                "height": 500,
                "legend": {
                  "tracegroupgap": 0
                },
                "showlegend": false,
                "template": {
                  "data": {
                    "bar": [
                      {
                        "error_x": {
                          "color": "#2a3f5f"
                        },
                        "error_y": {
                          "color": "#2a3f5f"
                        },
                        "marker": {
                          "line": {
                            "color": "#E5ECF6",
                            "width": 0.5
                          },
                          "pattern": {
                            "fillmode": "overlay",
                            "size": 10,
                            "solidity": 0.2
                          }
                        },
                        "type": "bar"
                      }
                    ],
                    "barpolar": [
                      {
                        "marker": {
                          "line": {
                            "color": "#E5ECF6",
                            "width": 0.5
                          },
                          "pattern": {
                            "fillmode": "overlay",
                            "size": 10,
                            "solidity": 0.2
                          }
                        },
                        "type": "barpolar"
                      }
                    ],
                    "carpet": [
                      {
                        "aaxis": {
                          "endlinecolor": "#2a3f5f",
                          "gridcolor": "white",
                          "linecolor": "white",
                          "minorgridcolor": "white",
                          "startlinecolor": "#2a3f5f"
                        },
                        "baxis": {
                          "endlinecolor": "#2a3f5f",
                          "gridcolor": "white",
                          "linecolor": "white",
                          "minorgridcolor": "white",
                          "startlinecolor": "#2a3f5f"
                        },
                        "type": "carpet"
                      }
                    ],
                    "choropleth": [
                      {
                        "colorbar": {
                          "outlinewidth": 0,
                          "ticks": ""
                        },
                        "type": "choropleth"
                      }
                    ],
                    "contour": [
                      {
                        "colorbar": {
                          "outlinewidth": 0,
                          "ticks": ""
                        },
                        "colorscale": [
                          [
                            0,
                            "#0d0887"
                          ],
                          [
                            0.1111111111111111,
                            "#46039f"
                          ],
                          [
                            0.2222222222222222,
                            "#7201a8"
                          ],
                          [
                            0.3333333333333333,
                            "#9c179e"
                          ],
                          [
                            0.4444444444444444,
                            "#bd3786"
                          ],
                          [
                            0.5555555555555556,
                            "#d8576b"
                          ],
                          [
                            0.6666666666666666,
                            "#ed7953"
                          ],
                          [
                            0.7777777777777778,
                            "#fb9f3a"
                          ],
                          [
                            0.8888888888888888,
                            "#fdca26"
                          ],
                          [
                            1,
                            "#f0f921"
                          ]
                        ],
                        "type": "contour"
                      }
                    ],
                    "contourcarpet": [
                      {
                        "colorbar": {
                          "outlinewidth": 0,
                          "ticks": ""
                        },
                        "type": "contourcarpet"
                      }
                    ],
                    "heatmap": [
                      {
                        "colorbar": {
                          "outlinewidth": 0,
                          "ticks": ""
                        },
                        "colorscale": [
                          [
                            0,
                            "#0d0887"
                          ],
                          [
                            0.1111111111111111,
                            "#46039f"
                          ],
                          [
                            0.2222222222222222,
                            "#7201a8"
                          ],
                          [
                            0.3333333333333333,
                            "#9c179e"
                          ],
                          [
                            0.4444444444444444,
                            "#bd3786"
                          ],
                          [
                            0.5555555555555556,
                            "#d8576b"
                          ],
                          [
                            0.6666666666666666,
                            "#ed7953"
                          ],
                          [
                            0.7777777777777778,
                            "#fb9f3a"
                          ],
                          [
                            0.8888888888888888,
                            "#fdca26"
                          ],
                          [
                            1,
                            "#f0f921"
                          ]
                        ],
                        "type": "heatmap"
                      }
                    ],
                    "heatmapgl": [
                      {
                        "colorbar": {
                          "outlinewidth": 0,
                          "ticks": ""
                        },
                        "colorscale": [
                          [
                            0,
                            "#0d0887"
                          ],
                          [
                            0.1111111111111111,
                            "#46039f"
                          ],
                          [
                            0.2222222222222222,
                            "#7201a8"
                          ],
                          [
                            0.3333333333333333,
                            "#9c179e"
                          ],
                          [
                            0.4444444444444444,
                            "#bd3786"
                          ],
                          [
                            0.5555555555555556,
                            "#d8576b"
                          ],
                          [
                            0.6666666666666666,
                            "#ed7953"
                          ],
                          [
                            0.7777777777777778,
                            "#fb9f3a"
                          ],
                          [
                            0.8888888888888888,
                            "#fdca26"
                          ],
                          [
                            1,
                            "#f0f921"
                          ]
                        ],
                        "type": "heatmapgl"
                      }
                    ],
                    "histogram": [
                      {
                        "marker": {
                          "pattern": {
                            "fillmode": "overlay",
                            "size": 10,
                            "solidity": 0.2
                          }
                        },
                        "type": "histogram"
                      }
                    ],
                    "histogram2d": [
                      {
                        "colorbar": {
                          "outlinewidth": 0,
                          "ticks": ""
                        },
                        "colorscale": [
                          [
                            0,
                            "#0d0887"
                          ],
                          [
                            0.1111111111111111,
                            "#46039f"
                          ],
                          [
                            0.2222222222222222,
                            "#7201a8"
                          ],
                          [
                            0.3333333333333333,
                            "#9c179e"
                          ],
                          [
                            0.4444444444444444,
                            "#bd3786"
                          ],
                          [
                            0.5555555555555556,
                            "#d8576b"
                          ],
                          [
                            0.6666666666666666,
                            "#ed7953"
                          ],
                          [
                            0.7777777777777778,
                            "#fb9f3a"
                          ],
                          [
                            0.8888888888888888,
                            "#fdca26"
                          ],
                          [
                            1,
                            "#f0f921"
                          ]
                        ],
                        "type": "histogram2d"
                      }
                    ],
                    "histogram2dcontour": [
                      {
                        "colorbar": {
                          "outlinewidth": 0,
                          "ticks": ""
                        },
                        "colorscale": [
                          [
                            0,
                            "#0d0887"
                          ],
                          [
                            0.1111111111111111,
                            "#46039f"
                          ],
                          [
                            0.2222222222222222,
                            "#7201a8"
                          ],
                          [
                            0.3333333333333333,
                            "#9c179e"
                          ],
                          [
                            0.4444444444444444,
                            "#bd3786"
                          ],
                          [
                            0.5555555555555556,
                            "#d8576b"
                          ],
                          [
                            0.6666666666666666,
                            "#ed7953"
                          ],
                          [
                            0.7777777777777778,
                            "#fb9f3a"
                          ],
                          [
                            0.8888888888888888,
                            "#fdca26"
                          ],
                          [
                            1,
                            "#f0f921"
                          ]
                        ],
                        "type": "histogram2dcontour"
                      }
                    ],
                    "mesh3d": [
                      {
                        "colorbar": {
                          "outlinewidth": 0,
                          "ticks": ""
                        },
                        "type": "mesh3d"
                      }
                    ],
                    "parcoords": [
                      {
                        "line": {
                          "colorbar": {
                            "outlinewidth": 0,
                            "ticks": ""
                          }
                        },
                        "type": "parcoords"
                      }
                    ],
                    "pie": [
                      {
                        "automargin": true,
                        "type": "pie"
                      }
                    ],
                    "scatter": [
                      {
                        "fillpattern": {
                          "fillmode": "overlay",
                          "size": 10,
                          "solidity": 0.2
                        },
                        "type": "scatter"
                      }
                    ],
                    "scatter3d": [
                      {
                        "line": {
                          "colorbar": {
                            "outlinewidth": 0,
                            "ticks": ""
                          }
                        },
                        "marker": {
                          "colorbar": {
                            "outlinewidth": 0,
                            "ticks": ""
                          }
                        },
                        "type": "scatter3d"
                      }
                    ],
                    "scattercarpet": [
                      {
                        "marker": {
                          "colorbar": {
                            "outlinewidth": 0,
                            "ticks": ""
                          }
                        },
                        "type": "scattercarpet"
                      }
                    ],
                    "scattergeo": [
                      {
                        "marker": {
                          "colorbar": {
                            "outlinewidth": 0,
                            "ticks": ""
                          }
                        },
                        "type": "scattergeo"
                      }
                    ],
                    "scattergl": [
                      {
                        "marker": {
                          "colorbar": {
                            "outlinewidth": 0,
                            "ticks": ""
                          }
                        },
                        "type": "scattergl"
                      }
                    ],
                    "scattermapbox": [
                      {
                        "marker": {
                          "colorbar": {
                            "outlinewidth": 0,
                            "ticks": ""
                          }
                        },
                        "type": "scattermapbox"
                      }
                    ],
                    "scatterpolar": [
                      {
                        "marker": {
                          "colorbar": {
                            "outlinewidth": 0,
                            "ticks": ""
                          }
                        },
                        "type": "scatterpolar"
                      }
                    ],
                    "scatterpolargl": [
                      {
                        "marker": {
                          "colorbar": {
                            "outlinewidth": 0,
                            "ticks": ""
                          }
                        },
                        "type": "scatterpolargl"
                      }
                    ],
                    "scatterternary": [
                      {
                        "marker": {
                          "colorbar": {
                            "outlinewidth": 0,
                            "ticks": ""
                          }
                        },
                        "type": "scatterternary"
                      }
                    ],
                    "surface": [
                      {
                        "colorbar": {
                          "outlinewidth": 0,
                          "ticks": ""
                        },
                        "colorscale": [
                          [
                            0,
                            "#0d0887"
                          ],
                          [
                            0.1111111111111111,
                            "#46039f"
                          ],
                          [
                            0.2222222222222222,
                            "#7201a8"
                          ],
                          [
                            0.3333333333333333,
                            "#9c179e"
                          ],
                          [
                            0.4444444444444444,
                            "#bd3786"
                          ],
                          [
                            0.5555555555555556,
                            "#d8576b"
                          ],
                          [
                            0.6666666666666666,
                            "#ed7953"
                          ],
                          [
                            0.7777777777777778,
                            "#fb9f3a"
                          ],
                          [
                            0.8888888888888888,
                            "#fdca26"
                          ],
                          [
                            1,
                            "#f0f921"
                          ]
                        ],
                        "type": "surface"
                      }
                    ],
                    "table": [
                      {
                        "cells": {
                          "fill": {
                            "color": "#EBF0F8"
                          },
                          "line": {
                            "color": "white"
                          }
                        },
                        "header": {
                          "fill": {
                            "color": "#C8D4E3"
                          },
                          "line": {
                            "color": "white"
                          }
                        },
                        "type": "table"
                      }
                    ]
                  },
                  "layout": {
                    "annotationdefaults": {
                      "arrowcolor": "#2a3f5f",
                      "arrowhead": 0,
                      "arrowwidth": 1
                    },
                    "autotypenumbers": "strict",
                    "coloraxis": {
                      "colorbar": {
                        "outlinewidth": 0,
                        "ticks": ""
                      }
                    },
                    "colorscale": {
                      "diverging": [
                        [
                          0,
                          "#8e0152"
                        ],
                        [
                          0.1,
                          "#c51b7d"
                        ],
                        [
                          0.2,
                          "#de77ae"
                        ],
                        [
                          0.3,
                          "#f1b6da"
                        ],
                        [
                          0.4,
                          "#fde0ef"
                        ],
                        [
                          0.5,
                          "#f7f7f7"
                        ],
                        [
                          0.6,
                          "#e6f5d0"
                        ],
                        [
                          0.7,
                          "#b8e186"
                        ],
                        [
                          0.8,
                          "#7fbc41"
                        ],
                        [
                          0.9,
                          "#4d9221"
                        ],
                        [
                          1,
                          "#276419"
                        ]
                      ],
                      "sequential": [
                        [
                          0,
                          "#0d0887"
                        ],
                        [
                          0.1111111111111111,
                          "#46039f"
                        ],
                        [
                          0.2222222222222222,
                          "#7201a8"
                        ],
                        [
                          0.3333333333333333,
                          "#9c179e"
                        ],
                        [
                          0.4444444444444444,
                          "#bd3786"
                        ],
                        [
                          0.5555555555555556,
                          "#d8576b"
                        ],
                        [
                          0.6666666666666666,
                          "#ed7953"
                        ],
                        [
                          0.7777777777777778,
                          "#fb9f3a"
                        ],
                        [
                          0.8888888888888888,
                          "#fdca26"
                        ],
                        [
                          1,
                          "#f0f921"
                        ]
                      ],
                      "sequentialminus": [
                        [
                          0,
                          "#0d0887"
                        ],
                        [
                          0.1111111111111111,
                          "#46039f"
                        ],
                        [
                          0.2222222222222222,
                          "#7201a8"
                        ],
                        [
                          0.3333333333333333,
                          "#9c179e"
                        ],
                        [
                          0.4444444444444444,
                          "#bd3786"
                        ],
                        [
                          0.5555555555555556,
                          "#d8576b"
                        ],
                        [
                          0.6666666666666666,
                          "#ed7953"
                        ],
                        [
                          0.7777777777777778,
                          "#fb9f3a"
                        ],
                        [
                          0.8888888888888888,
                          "#fdca26"
                        ],
                        [
                          1,
                          "#f0f921"
                        ]
                      ]
                    },
                    "colorway": [
                      "#636efa",
                      "#EF553B",
                      "#00cc96",
                      "#ab63fa",
                      "#FFA15A",
                      "#19d3f3",
                      "#FF6692",
                      "#B6E880",
                      "#FF97FF",
                      "#FECB52"
                    ],
                    "font": {
                      "color": "#2a3f5f"
                    },
                    "geo": {
                      "bgcolor": "white",
                      "lakecolor": "white",
                      "landcolor": "#E5ECF6",
                      "showlakes": true,
                      "showland": true,
                      "subunitcolor": "white"
                    },
                    "hoverlabel": {
                      "align": "left"
                    },
                    "hovermode": "closest",
                    "mapbox": {
                      "style": "light"
                    },
                    "paper_bgcolor": "white",
                    "plot_bgcolor": "#E5ECF6",
                    "polar": {
                      "angularaxis": {
                        "gridcolor": "white",
                        "linecolor": "white",
                        "ticks": ""
                      },
                      "bgcolor": "#E5ECF6",
                      "radialaxis": {
                        "gridcolor": "white",
                        "linecolor": "white",
                        "ticks": ""
                      }
                    },
                    "scene": {
                      "xaxis": {
                        "backgroundcolor": "#E5ECF6",
                        "gridcolor": "white",
                        "gridwidth": 2,
                        "linecolor": "white",
                        "showbackground": true,
                        "ticks": "",
                        "zerolinecolor": "white"
                      },
                      "yaxis": {
                        "backgroundcolor": "#E5ECF6",
                        "gridcolor": "white",
                        "gridwidth": 2,
                        "linecolor": "white",
                        "showbackground": true,
                        "ticks": "",
                        "zerolinecolor": "white"
                      },
                      "zaxis": {
                        "backgroundcolor": "#E5ECF6",
                        "gridcolor": "white",
                        "gridwidth": 2,
                        "linecolor": "white",
                        "showbackground": true,
                        "ticks": "",
                        "zerolinecolor": "white"
                      }
                    },
                    "shapedefaults": {
                      "line": {
                        "color": "#2a3f5f"
                      }
                    },
                    "ternary": {
                      "aaxis": {
                        "gridcolor": "white",
                        "linecolor": "white",
                        "ticks": ""
                      },
                      "baxis": {
                        "gridcolor": "white",
                        "linecolor": "white",
                        "ticks": ""
                      },
                      "bgcolor": "#E5ECF6",
                      "caxis": {
                        "gridcolor": "white",
                        "linecolor": "white",
                        "ticks": ""
                      }
                    },
                    "title": {
                      "x": 0.05
                    },
                    "xaxis": {
                      "automargin": true,
                      "gridcolor": "white",
                      "linecolor": "white",
                      "ticks": "",
                      "title": {
                        "standoff": 15
                      },
                      "zerolinecolor": "white",
                      "zerolinewidth": 2
                    },
                    "yaxis": {
                      "automargin": true,
                      "gridcolor": "white",
                      "linecolor": "white",
                      "ticks": "",
                      "title": {
                        "standoff": 15
                      },
                      "zerolinecolor": "white",
                      "zerolinewidth": 2
                    }
                  }
                },
                "title": {
                  "font": {
                    "size": 30
                  },
                  "text": "Average Cost per Config"
                },
                "width": 800,
                "xaxis": {
                  "anchor": "y",
                  "domain": [
                    0,
                    1
                  ],
                  "dtick": 1,
                  "tick0": 0,
                  "tickfont": {
                    "size": 18
                  },
                  "tickmode": "linear",
                  "title": {
                    "font": {
                      "size": 24
                    },
                    "text": "Config"
                  }
                },
                "yaxis": {
                  "anchor": "x",
                  "domain": [
                    0,
                    1
                  ],
                  "tickfont": {
                    "size": 24
                  },
                  "title": {
                    "font": {
                      "size": 24
                    },
                    "text": "Accuracy"
                  }
                }
              }
            }
          },
          "metadata": {},
          "output_type": "display_data"
        }
      ],
      "source": [
        "fig = px.bar(df_avg, x='index', y='total_cost', title='Average Cost per Config',\n",
        "             labels={'index': 'Id', 'total_cost': 'Total Cost'}, width=800, height=500)\n",
        "\n",
        "fig.update_layout(xaxis_title='Config', yaxis_title='Accuracy', showlegend=False, bargap=0.2,\n",
        "                  xaxis=dict(tickmode='linear', tick0=0, dtick=1, tickfont=dict(size=18)),\n",
        "                  yaxis=dict(tickfont=dict(size=24)),\n",
        "                  yaxis_title_font=dict(size=24),\n",
        "                  xaxis_title_font=dict(size=24),\n",
        "                  title_font=dict(size=30))\n",
        "\n",
        "fig.show()\n",
        "fig.write_image(\"total_cost.png\", width=1200, height=800, scale=2)  # Adjust width, height, and scale as needed"
      ]
    },
    {
      "cell_type": "code",
      "execution_count": 9,
      "metadata": {},
      "outputs": [
        {
          "data": {
            "application/vnd.plotly.v1+json": {
              "config": {
                "plotlyServerURL": "https://plot.ly"
              },
              "data": [
                {
                  "alignmentgroup": "True",
                  "hovertemplate": "Id=%{x}<br>Total Time=%{y}<extra></extra>",
                  "legendgroup": "",
                  "marker": {
                    "color": "#636efa",
                    "pattern": {
                      "shape": ""
                    }
                  },
                  "name": "",
                  "offsetgroup": "",
                  "orientation": "v",
                  "showlegend": false,
                  "textposition": "auto",
                  "type": "bar",
                  "x": [
                    0,
                    1,
                    2,
                    3,
                    4,
                    5,
                    6,
                    7,
                    8,
                    9,
                    10,
                    11,
                    12,
                    13,
                    14,
                    15,
                    16
                  ],
                  "xaxis": "x",
                  "y": [
                    581.2983775138855,
                    562.5322453975677,
                    666.7852340539297,
                    506.1969172159831,
                    583.0442836284637,
                    557.694711526235,
                    509.7623620033264,
                    487.86146903038025,
                    295.95686109860736,
                    601.3577383359274,
                    808.9460634390513,
                    546.398847023646,
                    788.8318811257681,
                    253.403036514918,
                    435.69058752059937,
                    1070.9685430526733,
                    509.7805685202281
                  ],
                  "yaxis": "y"
                }
              ],
              "layout": {
                "bargap": 0.2,
                "barmode": "relative",
                "height": 500,
                "legend": {
                  "tracegroupgap": 0
                },
                "showlegend": false,
                "template": {
                  "data": {
                    "bar": [
                      {
                        "error_x": {
                          "color": "#2a3f5f"
                        },
                        "error_y": {
                          "color": "#2a3f5f"
                        },
                        "marker": {
                          "line": {
                            "color": "#E5ECF6",
                            "width": 0.5
                          },
                          "pattern": {
                            "fillmode": "overlay",
                            "size": 10,
                            "solidity": 0.2
                          }
                        },
                        "type": "bar"
                      }
                    ],
                    "barpolar": [
                      {
                        "marker": {
                          "line": {
                            "color": "#E5ECF6",
                            "width": 0.5
                          },
                          "pattern": {
                            "fillmode": "overlay",
                            "size": 10,
                            "solidity": 0.2
                          }
                        },
                        "type": "barpolar"
                      }
                    ],
                    "carpet": [
                      {
                        "aaxis": {
                          "endlinecolor": "#2a3f5f",
                          "gridcolor": "white",
                          "linecolor": "white",
                          "minorgridcolor": "white",
                          "startlinecolor": "#2a3f5f"
                        },
                        "baxis": {
                          "endlinecolor": "#2a3f5f",
                          "gridcolor": "white",
                          "linecolor": "white",
                          "minorgridcolor": "white",
                          "startlinecolor": "#2a3f5f"
                        },
                        "type": "carpet"
                      }
                    ],
                    "choropleth": [
                      {
                        "colorbar": {
                          "outlinewidth": 0,
                          "ticks": ""
                        },
                        "type": "choropleth"
                      }
                    ],
                    "contour": [
                      {
                        "colorbar": {
                          "outlinewidth": 0,
                          "ticks": ""
                        },
                        "colorscale": [
                          [
                            0,
                            "#0d0887"
                          ],
                          [
                            0.1111111111111111,
                            "#46039f"
                          ],
                          [
                            0.2222222222222222,
                            "#7201a8"
                          ],
                          [
                            0.3333333333333333,
                            "#9c179e"
                          ],
                          [
                            0.4444444444444444,
                            "#bd3786"
                          ],
                          [
                            0.5555555555555556,
                            "#d8576b"
                          ],
                          [
                            0.6666666666666666,
                            "#ed7953"
                          ],
                          [
                            0.7777777777777778,
                            "#fb9f3a"
                          ],
                          [
                            0.8888888888888888,
                            "#fdca26"
                          ],
                          [
                            1,
                            "#f0f921"
                          ]
                        ],
                        "type": "contour"
                      }
                    ],
                    "contourcarpet": [
                      {
                        "colorbar": {
                          "outlinewidth": 0,
                          "ticks": ""
                        },
                        "type": "contourcarpet"
                      }
                    ],
                    "heatmap": [
                      {
                        "colorbar": {
                          "outlinewidth": 0,
                          "ticks": ""
                        },
                        "colorscale": [
                          [
                            0,
                            "#0d0887"
                          ],
                          [
                            0.1111111111111111,
                            "#46039f"
                          ],
                          [
                            0.2222222222222222,
                            "#7201a8"
                          ],
                          [
                            0.3333333333333333,
                            "#9c179e"
                          ],
                          [
                            0.4444444444444444,
                            "#bd3786"
                          ],
                          [
                            0.5555555555555556,
                            "#d8576b"
                          ],
                          [
                            0.6666666666666666,
                            "#ed7953"
                          ],
                          [
                            0.7777777777777778,
                            "#fb9f3a"
                          ],
                          [
                            0.8888888888888888,
                            "#fdca26"
                          ],
                          [
                            1,
                            "#f0f921"
                          ]
                        ],
                        "type": "heatmap"
                      }
                    ],
                    "heatmapgl": [
                      {
                        "colorbar": {
                          "outlinewidth": 0,
                          "ticks": ""
                        },
                        "colorscale": [
                          [
                            0,
                            "#0d0887"
                          ],
                          [
                            0.1111111111111111,
                            "#46039f"
                          ],
                          [
                            0.2222222222222222,
                            "#7201a8"
                          ],
                          [
                            0.3333333333333333,
                            "#9c179e"
                          ],
                          [
                            0.4444444444444444,
                            "#bd3786"
                          ],
                          [
                            0.5555555555555556,
                            "#d8576b"
                          ],
                          [
                            0.6666666666666666,
                            "#ed7953"
                          ],
                          [
                            0.7777777777777778,
                            "#fb9f3a"
                          ],
                          [
                            0.8888888888888888,
                            "#fdca26"
                          ],
                          [
                            1,
                            "#f0f921"
                          ]
                        ],
                        "type": "heatmapgl"
                      }
                    ],
                    "histogram": [
                      {
                        "marker": {
                          "pattern": {
                            "fillmode": "overlay",
                            "size": 10,
                            "solidity": 0.2
                          }
                        },
                        "type": "histogram"
                      }
                    ],
                    "histogram2d": [
                      {
                        "colorbar": {
                          "outlinewidth": 0,
                          "ticks": ""
                        },
                        "colorscale": [
                          [
                            0,
                            "#0d0887"
                          ],
                          [
                            0.1111111111111111,
                            "#46039f"
                          ],
                          [
                            0.2222222222222222,
                            "#7201a8"
                          ],
                          [
                            0.3333333333333333,
                            "#9c179e"
                          ],
                          [
                            0.4444444444444444,
                            "#bd3786"
                          ],
                          [
                            0.5555555555555556,
                            "#d8576b"
                          ],
                          [
                            0.6666666666666666,
                            "#ed7953"
                          ],
                          [
                            0.7777777777777778,
                            "#fb9f3a"
                          ],
                          [
                            0.8888888888888888,
                            "#fdca26"
                          ],
                          [
                            1,
                            "#f0f921"
                          ]
                        ],
                        "type": "histogram2d"
                      }
                    ],
                    "histogram2dcontour": [
                      {
                        "colorbar": {
                          "outlinewidth": 0,
                          "ticks": ""
                        },
                        "colorscale": [
                          [
                            0,
                            "#0d0887"
                          ],
                          [
                            0.1111111111111111,
                            "#46039f"
                          ],
                          [
                            0.2222222222222222,
                            "#7201a8"
                          ],
                          [
                            0.3333333333333333,
                            "#9c179e"
                          ],
                          [
                            0.4444444444444444,
                            "#bd3786"
                          ],
                          [
                            0.5555555555555556,
                            "#d8576b"
                          ],
                          [
                            0.6666666666666666,
                            "#ed7953"
                          ],
                          [
                            0.7777777777777778,
                            "#fb9f3a"
                          ],
                          [
                            0.8888888888888888,
                            "#fdca26"
                          ],
                          [
                            1,
                            "#f0f921"
                          ]
                        ],
                        "type": "histogram2dcontour"
                      }
                    ],
                    "mesh3d": [
                      {
                        "colorbar": {
                          "outlinewidth": 0,
                          "ticks": ""
                        },
                        "type": "mesh3d"
                      }
                    ],
                    "parcoords": [
                      {
                        "line": {
                          "colorbar": {
                            "outlinewidth": 0,
                            "ticks": ""
                          }
                        },
                        "type": "parcoords"
                      }
                    ],
                    "pie": [
                      {
                        "automargin": true,
                        "type": "pie"
                      }
                    ],
                    "scatter": [
                      {
                        "fillpattern": {
                          "fillmode": "overlay",
                          "size": 10,
                          "solidity": 0.2
                        },
                        "type": "scatter"
                      }
                    ],
                    "scatter3d": [
                      {
                        "line": {
                          "colorbar": {
                            "outlinewidth": 0,
                            "ticks": ""
                          }
                        },
                        "marker": {
                          "colorbar": {
                            "outlinewidth": 0,
                            "ticks": ""
                          }
                        },
                        "type": "scatter3d"
                      }
                    ],
                    "scattercarpet": [
                      {
                        "marker": {
                          "colorbar": {
                            "outlinewidth": 0,
                            "ticks": ""
                          }
                        },
                        "type": "scattercarpet"
                      }
                    ],
                    "scattergeo": [
                      {
                        "marker": {
                          "colorbar": {
                            "outlinewidth": 0,
                            "ticks": ""
                          }
                        },
                        "type": "scattergeo"
                      }
                    ],
                    "scattergl": [
                      {
                        "marker": {
                          "colorbar": {
                            "outlinewidth": 0,
                            "ticks": ""
                          }
                        },
                        "type": "scattergl"
                      }
                    ],
                    "scattermapbox": [
                      {
                        "marker": {
                          "colorbar": {
                            "outlinewidth": 0,
                            "ticks": ""
                          }
                        },
                        "type": "scattermapbox"
                      }
                    ],
                    "scatterpolar": [
                      {
                        "marker": {
                          "colorbar": {
                            "outlinewidth": 0,
                            "ticks": ""
                          }
                        },
                        "type": "scatterpolar"
                      }
                    ],
                    "scatterpolargl": [
                      {
                        "marker": {
                          "colorbar": {
                            "outlinewidth": 0,
                            "ticks": ""
                          }
                        },
                        "type": "scatterpolargl"
                      }
                    ],
                    "scatterternary": [
                      {
                        "marker": {
                          "colorbar": {
                            "outlinewidth": 0,
                            "ticks": ""
                          }
                        },
                        "type": "scatterternary"
                      }
                    ],
                    "surface": [
                      {
                        "colorbar": {
                          "outlinewidth": 0,
                          "ticks": ""
                        },
                        "colorscale": [
                          [
                            0,
                            "#0d0887"
                          ],
                          [
                            0.1111111111111111,
                            "#46039f"
                          ],
                          [
                            0.2222222222222222,
                            "#7201a8"
                          ],
                          [
                            0.3333333333333333,
                            "#9c179e"
                          ],
                          [
                            0.4444444444444444,
                            "#bd3786"
                          ],
                          [
                            0.5555555555555556,
                            "#d8576b"
                          ],
                          [
                            0.6666666666666666,
                            "#ed7953"
                          ],
                          [
                            0.7777777777777778,
                            "#fb9f3a"
                          ],
                          [
                            0.8888888888888888,
                            "#fdca26"
                          ],
                          [
                            1,
                            "#f0f921"
                          ]
                        ],
                        "type": "surface"
                      }
                    ],
                    "table": [
                      {
                        "cells": {
                          "fill": {
                            "color": "#EBF0F8"
                          },
                          "line": {
                            "color": "white"
                          }
                        },
                        "header": {
                          "fill": {
                            "color": "#C8D4E3"
                          },
                          "line": {
                            "color": "white"
                          }
                        },
                        "type": "table"
                      }
                    ]
                  },
                  "layout": {
                    "annotationdefaults": {
                      "arrowcolor": "#2a3f5f",
                      "arrowhead": 0,
                      "arrowwidth": 1
                    },
                    "autotypenumbers": "strict",
                    "coloraxis": {
                      "colorbar": {
                        "outlinewidth": 0,
                        "ticks": ""
                      }
                    },
                    "colorscale": {
                      "diverging": [
                        [
                          0,
                          "#8e0152"
                        ],
                        [
                          0.1,
                          "#c51b7d"
                        ],
                        [
                          0.2,
                          "#de77ae"
                        ],
                        [
                          0.3,
                          "#f1b6da"
                        ],
                        [
                          0.4,
                          "#fde0ef"
                        ],
                        [
                          0.5,
                          "#f7f7f7"
                        ],
                        [
                          0.6,
                          "#e6f5d0"
                        ],
                        [
                          0.7,
                          "#b8e186"
                        ],
                        [
                          0.8,
                          "#7fbc41"
                        ],
                        [
                          0.9,
                          "#4d9221"
                        ],
                        [
                          1,
                          "#276419"
                        ]
                      ],
                      "sequential": [
                        [
                          0,
                          "#0d0887"
                        ],
                        [
                          0.1111111111111111,
                          "#46039f"
                        ],
                        [
                          0.2222222222222222,
                          "#7201a8"
                        ],
                        [
                          0.3333333333333333,
                          "#9c179e"
                        ],
                        [
                          0.4444444444444444,
                          "#bd3786"
                        ],
                        [
                          0.5555555555555556,
                          "#d8576b"
                        ],
                        [
                          0.6666666666666666,
                          "#ed7953"
                        ],
                        [
                          0.7777777777777778,
                          "#fb9f3a"
                        ],
                        [
                          0.8888888888888888,
                          "#fdca26"
                        ],
                        [
                          1,
                          "#f0f921"
                        ]
                      ],
                      "sequentialminus": [
                        [
                          0,
                          "#0d0887"
                        ],
                        [
                          0.1111111111111111,
                          "#46039f"
                        ],
                        [
                          0.2222222222222222,
                          "#7201a8"
                        ],
                        [
                          0.3333333333333333,
                          "#9c179e"
                        ],
                        [
                          0.4444444444444444,
                          "#bd3786"
                        ],
                        [
                          0.5555555555555556,
                          "#d8576b"
                        ],
                        [
                          0.6666666666666666,
                          "#ed7953"
                        ],
                        [
                          0.7777777777777778,
                          "#fb9f3a"
                        ],
                        [
                          0.8888888888888888,
                          "#fdca26"
                        ],
                        [
                          1,
                          "#f0f921"
                        ]
                      ]
                    },
                    "colorway": [
                      "#636efa",
                      "#EF553B",
                      "#00cc96",
                      "#ab63fa",
                      "#FFA15A",
                      "#19d3f3",
                      "#FF6692",
                      "#B6E880",
                      "#FF97FF",
                      "#FECB52"
                    ],
                    "font": {
                      "color": "#2a3f5f"
                    },
                    "geo": {
                      "bgcolor": "white",
                      "lakecolor": "white",
                      "landcolor": "#E5ECF6",
                      "showlakes": true,
                      "showland": true,
                      "subunitcolor": "white"
                    },
                    "hoverlabel": {
                      "align": "left"
                    },
                    "hovermode": "closest",
                    "mapbox": {
                      "style": "light"
                    },
                    "paper_bgcolor": "white",
                    "plot_bgcolor": "#E5ECF6",
                    "polar": {
                      "angularaxis": {
                        "gridcolor": "white",
                        "linecolor": "white",
                        "ticks": ""
                      },
                      "bgcolor": "#E5ECF6",
                      "radialaxis": {
                        "gridcolor": "white",
                        "linecolor": "white",
                        "ticks": ""
                      }
                    },
                    "scene": {
                      "xaxis": {
                        "backgroundcolor": "#E5ECF6",
                        "gridcolor": "white",
                        "gridwidth": 2,
                        "linecolor": "white",
                        "showbackground": true,
                        "ticks": "",
                        "zerolinecolor": "white"
                      },
                      "yaxis": {
                        "backgroundcolor": "#E5ECF6",
                        "gridcolor": "white",
                        "gridwidth": 2,
                        "linecolor": "white",
                        "showbackground": true,
                        "ticks": "",
                        "zerolinecolor": "white"
                      },
                      "zaxis": {
                        "backgroundcolor": "#E5ECF6",
                        "gridcolor": "white",
                        "gridwidth": 2,
                        "linecolor": "white",
                        "showbackground": true,
                        "ticks": "",
                        "zerolinecolor": "white"
                      }
                    },
                    "shapedefaults": {
                      "line": {
                        "color": "#2a3f5f"
                      }
                    },
                    "ternary": {
                      "aaxis": {
                        "gridcolor": "white",
                        "linecolor": "white",
                        "ticks": ""
                      },
                      "baxis": {
                        "gridcolor": "white",
                        "linecolor": "white",
                        "ticks": ""
                      },
                      "bgcolor": "#E5ECF6",
                      "caxis": {
                        "gridcolor": "white",
                        "linecolor": "white",
                        "ticks": ""
                      }
                    },
                    "title": {
                      "x": 0.05
                    },
                    "xaxis": {
                      "automargin": true,
                      "gridcolor": "white",
                      "linecolor": "white",
                      "ticks": "",
                      "title": {
                        "standoff": 15
                      },
                      "zerolinecolor": "white",
                      "zerolinewidth": 2
                    },
                    "yaxis": {
                      "automargin": true,
                      "gridcolor": "white",
                      "linecolor": "white",
                      "ticks": "",
                      "title": {
                        "standoff": 15
                      },
                      "zerolinecolor": "white",
                      "zerolinewidth": 2
                    }
                  }
                },
                "title": {
                  "font": {
                    "size": 30
                  },
                  "text": "Average Time taken per Config"
                },
                "width": 800,
                "xaxis": {
                  "anchor": "y",
                  "domain": [
                    0,
                    1
                  ],
                  "dtick": 1,
                  "tick0": 0,
                  "tickfont": {
                    "size": 18
                  },
                  "tickmode": "linear",
                  "title": {
                    "font": {
                      "size": 24
                    },
                    "text": "Configuration"
                  }
                },
                "yaxis": {
                  "anchor": "x",
                  "domain": [
                    0,
                    1
                  ],
                  "tickfont": {
                    "size": 24
                  },
                  "title": {
                    "font": {
                      "size": 24
                    },
                    "text": "Average Time taken (seconds)"
                  }
                }
              }
            }
          },
          "metadata": {},
          "output_type": "display_data"
        }
      ],
      "source": [
        "fig = px.bar(df_avg, x='index', y='total_time', title='Average Time taken per Config',\n",
        "             labels={'index': 'Id', 'total_time': 'Total Time'}, width=800, height=500)\n",
        "\n",
        "fig.update_layout(xaxis_title='Configuration', yaxis_title='Average Time taken (seconds)', showlegend=False, bargap=0.2,\n",
        "                  xaxis=dict(tickmode='linear', tick0=0, dtick=1, tickfont=dict(size=18)),\n",
        "                  yaxis=dict(tickfont=dict(size=24)),\n",
        "                  yaxis_title_font=dict(size=24),\n",
        "                  xaxis_title_font=dict(size=24),\n",
        "                  title_font=dict(size=30))\n",
        "\n",
        "fig.show()\n",
        "fig.write_image(\"total_time.png\", width=1200, height=800, scale=2)  # Adjust width, height, and scale as needed"
      ]
    },
    {
      "cell_type": "code",
      "execution_count": 10,
      "metadata": {},
      "outputs": [
        {
          "data": {
            "text/html": [
              "<div>\n",
              "<style scoped>\n",
              "    .dataframe tbody tr th:only-of-type {\n",
              "        vertical-align: middle;\n",
              "    }\n",
              "\n",
              "    .dataframe tbody tr th {\n",
              "        vertical-align: top;\n",
              "    }\n",
              "\n",
              "    .dataframe thead th {\n",
              "        text-align: right;\n",
              "    }\n",
              "</style>\n",
              "<table border=\"1\" class=\"dataframe\">\n",
              "  <thead>\n",
              "    <tr style=\"text-align: right;\">\n",
              "      <th></th>\n",
              "      <th>index</th>\n",
              "      <th>correct</th>\n",
              "      <th>time_taken</th>\n",
              "      <th>cost</th>\n",
              "      <th>test_case</th>\n",
              "      <th>test_case_output</th>\n",
              "      <th>test_case_input_data</th>\n",
              "      <th>test_case_correct_function</th>\n",
              "      <th>generated_code</th>\n",
              "      <th>generated_code_output</th>\n",
              "      <th>agent_error</th>\n",
              "      <th>agent_reasoning</th>\n",
              "    </tr>\n",
              "  </thead>\n",
              "  <tbody>\n",
              "    <tr>\n",
              "      <th>0</th>\n",
              "      <td>0</td>\n",
              "      <td>1</td>\n",
              "      <td>30.293166</td>\n",
              "      <td>0.19458</td>\n",
              "      <td>\\n        I have a one-hot encoded DataFrame w...</td>\n",
              "      <td>col1 col2\\n0    a    b\\n1    b    a\\n2    a ...</td>\n",
              "      <td>data = pd.DataFrame({\"col1_a\": [1, 0, 1], \"col...</td>\n",
              "      <td>import pandas as pd\\ndef correct_function(data...</td>\n",
              "      <td>def response_function(df):\\n    import pandas ...</td>\n",
              "      <td>col1 col2\\n0    a    b\\n1    b    a\\n2    a ...</td>\n",
              "      <td>NaN</td>\n",
              "      <td>[{'User prompt': \"\\n        I have a one-hot e...</td>\n",
              "    </tr>\n",
              "    <tr>\n",
              "      <th>1</th>\n",
              "      <td>1</td>\n",
              "      <td>1</td>\n",
              "      <td>7.936067</td>\n",
              "      <td>0.08478</td>\n",
              "      <td>\\n        I want to change the indices of the ...</td>\n",
              "      <td>Name  Age  Location\\n100   Alice   25  ...</td>\n",
              "      <td>data = pd.DataFrame({'Name': ['Alice', 'Bob', ...</td>\n",
              "      <td>import pandas as pd\\ndef correct_function(data...</td>\n",
              "      <td>def response_function(df):\\n    import pandas ...</td>\n",
              "      <td>Name  Age  Location\\n100   Alice   25  ...</td>\n",
              "      <td>NaN</td>\n",
              "      <td>[{'User prompt': \"\\n        I want to change t...</td>\n",
              "    </tr>\n",
              "    <tr>\n",
              "      <th>2</th>\n",
              "      <td>2</td>\n",
              "      <td>1</td>\n",
              "      <td>8.219776</td>\n",
              "      <td>0.07914</td>\n",
              "      <td>\\n        Return all rows of the DataFrame exc...</td>\n",
              "      <td>animal\\n0  alligator\\n1        bee\\n2   ...</td>\n",
              "      <td>data = pd.DataFrame({'animal': ['alligator', '...</td>\n",
              "      <td>import pandas as pd\\ndef correct_function(data...</td>\n",
              "      <td>def response_function(df):\\n    import pandas ...</td>\n",
              "      <td>animal\\n0  alligator\\n1        bee\\n2   ...</td>\n",
              "      <td>NaN</td>\n",
              "      <td>[{'User prompt': \"\\n        Return all rows of...</td>\n",
              "    </tr>\n",
              "    <tr>\n",
              "      <th>3</th>\n",
              "      <td>3</td>\n",
              "      <td>1</td>\n",
              "      <td>7.965719</td>\n",
              "      <td>0.07218</td>\n",
              "      <td>\\n        Please add 2 months to the timestamp...</td>\n",
              "      <td>2017-03-01 09:10:11</td>\n",
              "      <td>data = pd.Timestamp('2017-01-01 09:10:11')</td>\n",
              "      <td>import pandas as pd\\ndef correct_function(data...</td>\n",
              "      <td>def response_function(ts):\\n    import pandas ...</td>\n",
              "      <td>2017-03-01 09:10:11</td>\n",
              "      <td>NaN</td>\n",
              "      <td>[{'User prompt': \"\\n        Please add 2 month...</td>\n",
              "    </tr>\n",
              "    <tr>\n",
              "      <th>4</th>\n",
              "      <td>4</td>\n",
              "      <td>1</td>\n",
              "      <td>7.933401</td>\n",
              "      <td>0.07872</td>\n",
              "      <td>\\n        Calculate the sum using the expandin...</td>\n",
              "      <td>a     1.0\\nb     3.0\\nc     6.0\\nd    10.0\\ndt...</td>\n",
              "      <td>data = pd.Series([1, 2, 3, 4], index=['a', 'b'...</td>\n",
              "      <td>import pandas as pd\\ndef correct_function(data...</td>\n",
              "      <td>def response_function(data):\\n    import panda...</td>\n",
              "      <td>a     1.0\\nb     3.0\\nc     6.0\\nd    10.0\\ndt...</td>\n",
              "      <td>NaN</td>\n",
              "      <td>[{'User prompt': \"\\n        Calculate the sum ...</td>\n",
              "    </tr>\n",
              "    <tr>\n",
              "      <th>5</th>\n",
              "      <td>5</td>\n",
              "      <td>1</td>\n",
              "      <td>10.103331</td>\n",
              "      <td>0.08190</td>\n",
              "      <td>\\n        First group the DataFrame by 'a'. Th...</td>\n",
              "      <td>b   c\\na        \\n1  16  10\\n2  30  72</td>\n",
              "      <td>data = pd.DataFrame([[1, 8, 2], [1, 2, 5], [2,...</td>\n",
              "      <td>import pandas as pd\\ndef correct_function(data...</td>\n",
              "      <td>def response_function(df):\\n    import pandas ...</td>\n",
              "      <td>b   c\\na        \\n1  16  10\\n2  30  72</td>\n",
              "      <td>NaN</td>\n",
              "      <td>[{'User prompt': \"\\n        First group the Da...</td>\n",
              "    </tr>\n",
              "    <tr>\n",
              "      <th>6</th>\n",
              "      <td>6</td>\n",
              "      <td>1</td>\n",
              "      <td>10.020241</td>\n",
              "      <td>0.09156</td>\n",
              "      <td>\\n        Please give me the floating division...</td>\n",
              "      <td>a    1.0\\nb    inf\\nc    inf\\nd    0.0\\ne    N...</td>\n",
              "      <td>data_1 = pd.Series([1, 1, 1, None], index=['a'...</td>\n",
              "      <td>import pandas as pd\\nimport numpy as np\\ndef c...</td>\n",
              "      <td>def response_function(data_1, data_2):\\n    im...</td>\n",
              "      <td>a    1.0\\nb    inf\\nc    inf\\nd    0.0\\ne    N...</td>\n",
              "      <td>NaN</td>\n",
              "      <td>[{'User prompt': \"\\n        Please give me the...</td>\n",
              "    </tr>\n",
              "    <tr>\n",
              "      <th>7</th>\n",
              "      <td>7</td>\n",
              "      <td>0</td>\n",
              "      <td>14.128871</td>\n",
              "      <td>0.10710</td>\n",
              "      <td>\\n        Please drop column 'a' of the DataFr...</td>\n",
              "      <td>level_1     level_2      \\n        c   d    ...</td>\n",
              "      <td>data = pd.DataFrame({('level_1', 'c', 'a'): [3...</td>\n",
              "      <td>import pandas as pd\\ndef correct_function(data...</td>\n",
              "      <td>def response_function(df):\\n    import pandas ...</td>\n",
              "      <td>level_1 level_2\\n        d       f\\n        ...</td>\n",
              "      <td>NaN</td>\n",
              "      <td>[{'User prompt': \"\\n        Please drop column...</td>\n",
              "    </tr>\n",
              "    <tr>\n",
              "      <th>8</th>\n",
              "      <td>8</td>\n",
              "      <td>0</td>\n",
              "      <td>13.514547</td>\n",
              "      <td>0.07980</td>\n",
              "      <td>\\n        Sort the pandas Series in ascending ...</td>\n",
              "      <td>0    0     NaN\\n1     1.0\\n2     3.0\\n3    10....</td>\n",
              "      <td>data = pd.Series([None, 1, 3, 10, 5, None])</td>\n",
              "      <td>import pandas as pd\\ndef correct_function(*arg...</td>\n",
              "      <td>def response_function(data):\\n    import panda...</td>\n",
              "      <td>0     NaN\\n5     NaN\\n1     1.0\\n2     3.0\\n4 ...</td>\n",
              "      <td>NaN</td>\n",
              "      <td>[{'User prompt': '\\n        Sort the pandas Se...</td>\n",
              "    </tr>\n",
              "    <tr>\n",
              "      <th>9</th>\n",
              "      <td>9</td>\n",
              "      <td>1</td>\n",
              "      <td>23.240142</td>\n",
              "      <td>0.17694</td>\n",
              "      <td>\\n        Convert the following dictionaries i...</td>\n",
              "      <td>23.5</td>\n",
              "      <td>data_1 = {'Name': ['Alice', 'Bob', 'Charlie'],...</td>\n",
              "      <td>import pandas as pd\\ndef correct_function(data...</td>\n",
              "      <td>def response_function(data1, data2):\\n    impo...</td>\n",
              "      <td>23.5</td>\n",
              "      <td>NaN</td>\n",
              "      <td>[{'User prompt': \"\\n        Convert the follow...</td>\n",
              "    </tr>\n",
              "    <tr>\n",
              "      <th>10</th>\n",
              "      <td>10</td>\n",
              "      <td>1</td>\n",
              "      <td>33.793851</td>\n",
              "      <td>0.29514</td>\n",
              "      <td>\\n        First, convert the Timestamp of the ...</td>\n",
              "      <td>Timestamp  User      Page  Session...</td>\n",
              "      <td>data = pd.DataFrame({'Timestamp': ['2023-01-01...</td>\n",
              "      <td>import pandas as pd\\ndef correct_function(data...</td>\n",
              "      <td>def response_function(df):\\n    import pandas ...</td>\n",
              "      <td>Timestamp  User      Page  Session...</td>\n",
              "      <td>NaN</td>\n",
              "      <td>[{'User prompt': \"\\n        First, convert the...</td>\n",
              "    </tr>\n",
              "    <tr>\n",
              "      <th>11</th>\n",
              "      <td>11</td>\n",
              "      <td>1</td>\n",
              "      <td>10.218947</td>\n",
              "      <td>0.08244</td>\n",
              "      <td>\\n        Calculate the rolling rank of the Se...</td>\n",
              "      <td>0    NaN\\n1    NaN\\n2    2.0\\n3    2.0\\n4    3...</td>\n",
              "      <td>data = pd.Series([1, 4, 2, 3, 5, 3])</td>\n",
              "      <td>import pandas as pd\\ndef correct_function(data...</td>\n",
              "      <td>def response_function(data):\\n    import panda...</td>\n",
              "      <td>0    NaN\\n1    NaN\\n2    2.0\\n3    2.0\\n4    3...</td>\n",
              "      <td>NaN</td>\n",
              "      <td>[{'User prompt': '\\n        Calculate the roll...</td>\n",
              "    </tr>\n",
              "    <tr>\n",
              "      <th>12</th>\n",
              "      <td>12</td>\n",
              "      <td>1</td>\n",
              "      <td>14.133933</td>\n",
              "      <td>0.10500</td>\n",
              "      <td>\\n        Please create a dictionary from the ...</td>\n",
              "      <td>{'index': [('a', 'b'), ('a', 'c')], 'columns':...</td>\n",
              "      <td>data = pd.DataFrame.from_records([[1, 3], [2, ...</td>\n",
              "      <td>import pandas as pd\\ndef correct_function(data...</td>\n",
              "      <td>def response_function(df):\\n    import pandas ...</td>\n",
              "      <td>{'index': [('a', 'b'), ('a', 'c')], 'columns':...</td>\n",
              "      <td>NaN</td>\n",
              "      <td>[{'User prompt': '\\n        Please create a di...</td>\n",
              "    </tr>\n",
              "    <tr>\n",
              "      <th>13</th>\n",
              "      <td>13</td>\n",
              "      <td>1</td>\n",
              "      <td>14.117624</td>\n",
              "      <td>0.09888</td>\n",
              "      <td>\\n        Please group the DataFrame by column...</td>\n",
              "      <td>A   B\\n0  g  g0\\n1  g  g1\\n2  g  g2\\n3  g  ...</td>\n",
              "      <td>data = pd.DataFrame([[\"g\", \"g0\"], [\"g\", \"g1\"],...</td>\n",
              "      <td>import pandas as pd\\ndef correct_function(data...</td>\n",
              "      <td>def response_function(df):\\n    import pandas ...</td>\n",
              "      <td>A   B\\n0  g  g0\\n1  g  g1\\n2  g  g2\\n3  g  ...</td>\n",
              "      <td>NaN</td>\n",
              "      <td>[{'User prompt': '\\n        Please group the D...</td>\n",
              "    </tr>\n",
              "    <tr>\n",
              "      <th>14</th>\n",
              "      <td>14</td>\n",
              "      <td>1</td>\n",
              "      <td>13.402211</td>\n",
              "      <td>0.09294</td>\n",
              "      <td>\\n        Remove the following suffix '_str' f...</td>\n",
              "      <td>0              foo\\n1         _strhead\\n2    t...</td>\n",
              "      <td>data = pd.Series([\"foo_str\",\"_strhead\" , \"text...</td>\n",
              "      <td>import pandas as pd\\ndef correct_function(data...</td>\n",
              "      <td>def response_function(data):\\n    import panda...</td>\n",
              "      <td>0              foo\\n1         _strhead\\n2    t...</td>\n",
              "      <td>NaN</td>\n",
              "      <td>[{'User prompt': \"\\n        Remove the followi...</td>\n",
              "    </tr>\n",
              "    <tr>\n",
              "      <th>15</th>\n",
              "      <td>15</td>\n",
              "      <td>1</td>\n",
              "      <td>20.869038</td>\n",
              "      <td>0.12240</td>\n",
              "      <td>\\n        I have 2 DataFrames. How do I join t...</td>\n",
              "      <td>key   A    B\\n0  K0  A0   B0\\n1  K1  A1   B1...</td>\n",
              "      <td>data_1 = pd.DataFrame({'key': ['K0', 'K1', 'K1...</td>\n",
              "      <td>import pandas as pd\\ndef correct_function(data...</td>\n",
              "      <td>def response_function(df1, df2):\\n    import p...</td>\n",
              "      <td>key   A    B\\n0  K0  A0   B0\\n1  K1  A1   B1...</td>\n",
              "      <td>NaN</td>\n",
              "      <td>[{'User prompt': \"\\n        I have 2 DataFrame...</td>\n",
              "    </tr>\n",
              "    <tr>\n",
              "      <th>16</th>\n",
              "      <td>16</td>\n",
              "      <td>0</td>\n",
              "      <td>16.397797</td>\n",
              "      <td>0.11826</td>\n",
              "      <td>\\n        Please create a DataFrame using the ...</td>\n",
              "      <td>classes   names  speed species\\n            ...</td>\n",
              "      <td>index = pd.MultiIndex.from_tuples([('bird', 'f...</td>\n",
              "      <td>import pandas as pd\\ndef correct_function(*arg...</td>\n",
              "      <td>def response_function(data, index, columns):\\n...</td>\n",
              "      <td>NaN</td>\n",
              "      <td>Shape of passed values is (4, 1), indices impl...</td>\n",
              "      <td>[{'User prompt': \"\\n        Please create a Da...</td>\n",
              "    </tr>\n",
              "    <tr>\n",
              "      <th>17</th>\n",
              "      <td>17</td>\n",
              "      <td>0</td>\n",
              "      <td>8.857155</td>\n",
              "      <td>0.07044</td>\n",
              "      <td>\\n        Please return the count of unique va...</td>\n",
              "      <td>0    quetzal\\n1    quetzal\\n2        elk\\nName...</td>\n",
              "      <td>data = pd.Series(['quetzal', 'quetzal', 'elk']...</td>\n",
              "      <td>import pandas as pd\\ndef correct_function(data...</td>\n",
              "      <td>def response_function(data):\\n    import panda...</td>\n",
              "      <td>2</td>\n",
              "      <td>NaN</td>\n",
              "      <td>[{'User prompt': \"\\n        Please return the ...</td>\n",
              "    </tr>\n",
              "    <tr>\n",
              "      <th>18</th>\n",
              "      <td>18</td>\n",
              "      <td>1</td>\n",
              "      <td>26.547594</td>\n",
              "      <td>0.24018</td>\n",
              "      <td>\\n        Please compute the difference betwee...</td>\n",
              "      <td>Index([nan, 10.0, 10.0, 10.0, 10.0], dtype='fl...</td>\n",
              "      <td>data = pd.Index([10, 20, 30, 40, 50])</td>\n",
              "      <td>import pandas as pd\\ndef correct_function(data...</td>\n",
              "      <td>def response_function(data):\\n    import panda...</td>\n",
              "      <td>Index([nan, 10.0, 10.0, 10.0, 10.0], dtype='fl...</td>\n",
              "      <td>NaN</td>\n",
              "      <td>[{'User prompt': \"\\n        Please compute the...</td>\n",
              "    </tr>\n",
              "    <tr>\n",
              "      <th>19</th>\n",
              "      <td>19</td>\n",
              "      <td>0</td>\n",
              "      <td>12.508044</td>\n",
              "      <td>0.08982</td>\n",
              "      <td>\\n        Please change the data type of all c...</td>\n",
              "      <td>a     b\\n0  1  &lt;NA&gt;\\n1  1     2\\n2  2     3...</td>\n",
              "      <td>data = pd.DataFrame({\"a\": [1, 1, 2, 1], \"b\": [...</td>\n",
              "      <td>\\nimport pandas as pd\\nimport pyarrow as pa\\nd...</td>\n",
              "      <td>def response_function(df):\\n    import pandas ...</td>\n",
              "      <td>NaN</td>\n",
              "      <td>cannot convert NA to integer</td>\n",
              "      <td>[{'User prompt': '\\n        Please change the ...</td>\n",
              "    </tr>\n",
              "  </tbody>\n",
              "</table>\n",
              "</div>"
            ],
            "text/plain": [
              "    index  correct  time_taken     cost  \\\n",
              "0       0        1   30.293166  0.19458   \n",
              "1       1        1    7.936067  0.08478   \n",
              "2       2        1    8.219776  0.07914   \n",
              "3       3        1    7.965719  0.07218   \n",
              "4       4        1    7.933401  0.07872   \n",
              "5       5        1   10.103331  0.08190   \n",
              "6       6        1   10.020241  0.09156   \n",
              "7       7        0   14.128871  0.10710   \n",
              "8       8        0   13.514547  0.07980   \n",
              "9       9        1   23.240142  0.17694   \n",
              "10     10        1   33.793851  0.29514   \n",
              "11     11        1   10.218947  0.08244   \n",
              "12     12        1   14.133933  0.10500   \n",
              "13     13        1   14.117624  0.09888   \n",
              "14     14        1   13.402211  0.09294   \n",
              "15     15        1   20.869038  0.12240   \n",
              "16     16        0   16.397797  0.11826   \n",
              "17     17        0    8.857155  0.07044   \n",
              "18     18        1   26.547594  0.24018   \n",
              "19     19        0   12.508044  0.08982   \n",
              "\n",
              "                                            test_case  \\\n",
              "0   \\n        I have a one-hot encoded DataFrame w...   \n",
              "1   \\n        I want to change the indices of the ...   \n",
              "2   \\n        Return all rows of the DataFrame exc...   \n",
              "3   \\n        Please add 2 months to the timestamp...   \n",
              "4   \\n        Calculate the sum using the expandin...   \n",
              "5   \\n        First group the DataFrame by 'a'. Th...   \n",
              "6   \\n        Please give me the floating division...   \n",
              "7   \\n        Please drop column 'a' of the DataFr...   \n",
              "8   \\n        Sort the pandas Series in ascending ...   \n",
              "9   \\n        Convert the following dictionaries i...   \n",
              "10  \\n        First, convert the Timestamp of the ...   \n",
              "11  \\n        Calculate the rolling rank of the Se...   \n",
              "12  \\n        Please create a dictionary from the ...   \n",
              "13  \\n        Please group the DataFrame by column...   \n",
              "14  \\n        Remove the following suffix '_str' f...   \n",
              "15  \\n        I have 2 DataFrames. How do I join t...   \n",
              "16  \\n        Please create a DataFrame using the ...   \n",
              "17  \\n        Please return the count of unique va...   \n",
              "18  \\n        Please compute the difference betwee...   \n",
              "19  \\n        Please change the data type of all c...   \n",
              "\n",
              "                                     test_case_output  \\\n",
              "0     col1 col2\\n0    a    b\\n1    b    a\\n2    a ...   \n",
              "1          Name  Age  Location\\n100   Alice   25  ...   \n",
              "2         animal\\n0  alligator\\n1        bee\\n2   ...   \n",
              "3                                 2017-03-01 09:10:11   \n",
              "4   a     1.0\\nb     3.0\\nc     6.0\\nd    10.0\\ndt...   \n",
              "5              b   c\\na        \\n1  16  10\\n2  30  72   \n",
              "6   a    1.0\\nb    inf\\nc    inf\\nd    0.0\\ne    N...   \n",
              "7     level_1     level_2      \\n        c   d    ...   \n",
              "8   0    0     NaN\\n1     1.0\\n2     3.0\\n3    10....   \n",
              "9                                                23.5   \n",
              "10              Timestamp  User      Page  Session...   \n",
              "11  0    NaN\\n1    NaN\\n2    2.0\\n3    2.0\\n4    3...   \n",
              "12  {'index': [('a', 'b'), ('a', 'c')], 'columns':...   \n",
              "13     A   B\\n0  g  g0\\n1  g  g1\\n2  g  g2\\n3  g  ...   \n",
              "14  0              foo\\n1         _strhead\\n2    t...   \n",
              "15    key   A    B\\n0  K0  A0   B0\\n1  K1  A1   B1...   \n",
              "16    classes   names  speed species\\n            ...   \n",
              "17  0    quetzal\\n1    quetzal\\n2        elk\\nName...   \n",
              "18  Index([nan, 10.0, 10.0, 10.0, 10.0], dtype='fl...   \n",
              "19     a     b\\n0  1  <NA>\\n1  1     2\\n2  2     3...   \n",
              "\n",
              "                                 test_case_input_data  \\\n",
              "0   data = pd.DataFrame({\"col1_a\": [1, 0, 1], \"col...   \n",
              "1   data = pd.DataFrame({'Name': ['Alice', 'Bob', ...   \n",
              "2   data = pd.DataFrame({'animal': ['alligator', '...   \n",
              "3          data = pd.Timestamp('2017-01-01 09:10:11')   \n",
              "4   data = pd.Series([1, 2, 3, 4], index=['a', 'b'...   \n",
              "5   data = pd.DataFrame([[1, 8, 2], [1, 2, 5], [2,...   \n",
              "6   data_1 = pd.Series([1, 1, 1, None], index=['a'...   \n",
              "7   data = pd.DataFrame({('level_1', 'c', 'a'): [3...   \n",
              "8         data = pd.Series([None, 1, 3, 10, 5, None])   \n",
              "9   data_1 = {'Name': ['Alice', 'Bob', 'Charlie'],...   \n",
              "10  data = pd.DataFrame({'Timestamp': ['2023-01-01...   \n",
              "11               data = pd.Series([1, 4, 2, 3, 5, 3])   \n",
              "12  data = pd.DataFrame.from_records([[1, 3], [2, ...   \n",
              "13  data = pd.DataFrame([[\"g\", \"g0\"], [\"g\", \"g1\"],...   \n",
              "14  data = pd.Series([\"foo_str\",\"_strhead\" , \"text...   \n",
              "15  data_1 = pd.DataFrame({'key': ['K0', 'K1', 'K1...   \n",
              "16  index = pd.MultiIndex.from_tuples([('bird', 'f...   \n",
              "17  data = pd.Series(['quetzal', 'quetzal', 'elk']...   \n",
              "18              data = pd.Index([10, 20, 30, 40, 50])   \n",
              "19  data = pd.DataFrame({\"a\": [1, 1, 2, 1], \"b\": [...   \n",
              "\n",
              "                           test_case_correct_function  \\\n",
              "0   import pandas as pd\\ndef correct_function(data...   \n",
              "1   import pandas as pd\\ndef correct_function(data...   \n",
              "2   import pandas as pd\\ndef correct_function(data...   \n",
              "3   import pandas as pd\\ndef correct_function(data...   \n",
              "4   import pandas as pd\\ndef correct_function(data...   \n",
              "5   import pandas as pd\\ndef correct_function(data...   \n",
              "6   import pandas as pd\\nimport numpy as np\\ndef c...   \n",
              "7   import pandas as pd\\ndef correct_function(data...   \n",
              "8   import pandas as pd\\ndef correct_function(*arg...   \n",
              "9   import pandas as pd\\ndef correct_function(data...   \n",
              "10  import pandas as pd\\ndef correct_function(data...   \n",
              "11  import pandas as pd\\ndef correct_function(data...   \n",
              "12  import pandas as pd\\ndef correct_function(data...   \n",
              "13  import pandas as pd\\ndef correct_function(data...   \n",
              "14  import pandas as pd\\ndef correct_function(data...   \n",
              "15  import pandas as pd\\ndef correct_function(data...   \n",
              "16  import pandas as pd\\ndef correct_function(*arg...   \n",
              "17  import pandas as pd\\ndef correct_function(data...   \n",
              "18  import pandas as pd\\ndef correct_function(data...   \n",
              "19  \\nimport pandas as pd\\nimport pyarrow as pa\\nd...   \n",
              "\n",
              "                                       generated_code  \\\n",
              "0   def response_function(df):\\n    import pandas ...   \n",
              "1   def response_function(df):\\n    import pandas ...   \n",
              "2   def response_function(df):\\n    import pandas ...   \n",
              "3   def response_function(ts):\\n    import pandas ...   \n",
              "4   def response_function(data):\\n    import panda...   \n",
              "5   def response_function(df):\\n    import pandas ...   \n",
              "6   def response_function(data_1, data_2):\\n    im...   \n",
              "7   def response_function(df):\\n    import pandas ...   \n",
              "8   def response_function(data):\\n    import panda...   \n",
              "9   def response_function(data1, data2):\\n    impo...   \n",
              "10  def response_function(df):\\n    import pandas ...   \n",
              "11  def response_function(data):\\n    import panda...   \n",
              "12  def response_function(df):\\n    import pandas ...   \n",
              "13  def response_function(df):\\n    import pandas ...   \n",
              "14  def response_function(data):\\n    import panda...   \n",
              "15  def response_function(df1, df2):\\n    import p...   \n",
              "16  def response_function(data, index, columns):\\n...   \n",
              "17  def response_function(data):\\n    import panda...   \n",
              "18  def response_function(data):\\n    import panda...   \n",
              "19  def response_function(df):\\n    import pandas ...   \n",
              "\n",
              "                                generated_code_output  \\\n",
              "0     col1 col2\\n0    a    b\\n1    b    a\\n2    a ...   \n",
              "1          Name  Age  Location\\n100   Alice   25  ...   \n",
              "2         animal\\n0  alligator\\n1        bee\\n2   ...   \n",
              "3                                 2017-03-01 09:10:11   \n",
              "4   a     1.0\\nb     3.0\\nc     6.0\\nd    10.0\\ndt...   \n",
              "5              b   c\\na        \\n1  16  10\\n2  30  72   \n",
              "6   a    1.0\\nb    inf\\nc    inf\\nd    0.0\\ne    N...   \n",
              "7     level_1 level_2\\n        d       f\\n        ...   \n",
              "8   0     NaN\\n5     NaN\\n1     1.0\\n2     3.0\\n4 ...   \n",
              "9                                                23.5   \n",
              "10              Timestamp  User      Page  Session...   \n",
              "11  0    NaN\\n1    NaN\\n2    2.0\\n3    2.0\\n4    3...   \n",
              "12  {'index': [('a', 'b'), ('a', 'c')], 'columns':...   \n",
              "13     A   B\\n0  g  g0\\n1  g  g1\\n2  g  g2\\n3  g  ...   \n",
              "14  0              foo\\n1         _strhead\\n2    t...   \n",
              "15    key   A    B\\n0  K0  A0   B0\\n1  K1  A1   B1...   \n",
              "16                                                NaN   \n",
              "17                                                  2   \n",
              "18  Index([nan, 10.0, 10.0, 10.0, 10.0], dtype='fl...   \n",
              "19                                                NaN   \n",
              "\n",
              "                                          agent_error  \\\n",
              "0                                                 NaN   \n",
              "1                                                 NaN   \n",
              "2                                                 NaN   \n",
              "3                                                 NaN   \n",
              "4                                                 NaN   \n",
              "5                                                 NaN   \n",
              "6                                                 NaN   \n",
              "7                                                 NaN   \n",
              "8                                                 NaN   \n",
              "9                                                 NaN   \n",
              "10                                                NaN   \n",
              "11                                                NaN   \n",
              "12                                                NaN   \n",
              "13                                                NaN   \n",
              "14                                                NaN   \n",
              "15                                                NaN   \n",
              "16  Shape of passed values is (4, 1), indices impl...   \n",
              "17                                                NaN   \n",
              "18                                                NaN   \n",
              "19                       cannot convert NA to integer   \n",
              "\n",
              "                                      agent_reasoning  \n",
              "0   [{'User prompt': \"\\n        I have a one-hot e...  \n",
              "1   [{'User prompt': \"\\n        I want to change t...  \n",
              "2   [{'User prompt': \"\\n        Return all rows of...  \n",
              "3   [{'User prompt': \"\\n        Please add 2 month...  \n",
              "4   [{'User prompt': \"\\n        Calculate the sum ...  \n",
              "5   [{'User prompt': \"\\n        First group the Da...  \n",
              "6   [{'User prompt': \"\\n        Please give me the...  \n",
              "7   [{'User prompt': \"\\n        Please drop column...  \n",
              "8   [{'User prompt': '\\n        Sort the pandas Se...  \n",
              "9   [{'User prompt': \"\\n        Convert the follow...  \n",
              "10  [{'User prompt': \"\\n        First, convert the...  \n",
              "11  [{'User prompt': '\\n        Calculate the roll...  \n",
              "12  [{'User prompt': '\\n        Please create a di...  \n",
              "13  [{'User prompt': '\\n        Please group the D...  \n",
              "14  [{'User prompt': \"\\n        Remove the followi...  \n",
              "15  [{'User prompt': \"\\n        I have 2 DataFrame...  \n",
              "16  [{'User prompt': \"\\n        Please create a Da...  \n",
              "17  [{'User prompt': \"\\n        Please return the ...  \n",
              "18  [{'User prompt': \"\\n        Please compute the...  \n",
              "19  [{'User prompt': '\\n        Please change the ...  "
            ]
          },
          "execution_count": 10,
          "metadata": {},
          "output_type": "execute_result"
        }
      ],
      "source": [
        "details_path = df_one_shot.iloc[0].details_csv_filepath\n",
        "details_df = pd.read_csv(details_path)\n",
        "details_df"
      ]
    },
    {
      "cell_type": "code",
      "execution_count": 11,
      "metadata": {},
      "outputs": [
        {
          "name": "stdout",
          "output_type": "stream",
          "text": [
            "Correct: 1\n",
            "Test case:\n",
            "        I have a one-hot encoded DataFrame with '_' as the separator.\n",
            "        How can I revert this one-hot encoded DataFrame back into a categorical DataFrame using pandas?\n",
            "\n",
            "        The following DataFrame will be the only function argument:\n",
            "        df = pd.DataFrame({\n",
            "            'col1_a': [1, 0, 1],\n",
            "            'col1_b': [0, 1, 0],\n",
            "            'col2_a': [0, 1, 0],\n",
            "            'col2_b': [1, 0, 0],\n",
            "            'col2_c': [0, 0, 1],\n",
            "        })\n",
            "\n",
            "        Desired Output:\n",
            "            col1 col2\n",
            "        0    a    b\n",
            "        1    b    a\n",
            "        2    a    c\n",
            "        \n",
            "Correct function:\n",
            "import pandas as pd\n",
            "def correct_function(data):\n",
            "    result = pd.from_dummies(data, sep=\"_\")\n",
            "    return result\n",
            "Generated function:\n",
            "def response_function(df):\n",
            "    import pandas as pd\n",
            "    \n",
            "    def revert_one_hot(row):\n",
            "        return row.idxmax().split('_')[1]\n",
            "    \n",
            "    df = df.groupby(by=lambda x: x.split('_')[0], axis=1).apply(lambda x: x.apply(revert_one_hot, axis=1))\n",
            "    return df\n"
          ]
        }
      ],
      "source": [
        "print(f\"Correct: {details_df.iloc[0].correct}\")\n",
        "print(f\"Test case:{details_df.iloc[0].test_case}\")\n",
        "print(f\"Correct function:\\n{details_df.iloc[0].test_case_correct_function}\")\n",
        "print(f\"Generated function:\\n{details_df.iloc[0].generated_code}\")"
      ]
    },
    {
      "cell_type": "code",
      "execution_count": 12,
      "metadata": {},
      "outputs": [
        {
          "name": "stdout",
          "output_type": "stream",
          "text": [
            "AI agent reasoning:\n",
            "('[{\\'User prompt\\': \"\\\\n        I have a one-hot encoded DataFrame with \\'_\\' '\n",
            " 'as the separator.\\\\n        How can I revert this one-hot encoded DataFrame '\n",
            " 'back into a categorical DataFrame using pandas?\\\\n\\\\n        The following '\n",
            " 'DataFrame will be the only function argument:\\\\n        df = '\n",
            " \"pd.DataFrame({\\\\n            'col1_a': [1, 0, 1],\\\\n            'col1_b': \"\n",
            " \"[0, 1, 0],\\\\n            'col2_a': [0, 1, 0],\\\\n            'col2_b': [1, 0, \"\n",
            " \"0],\\\\n            'col2_c': [0, 0, 1],\\\\n        })\\\\n\\\\n        Desired \"\n",
            " 'Output:\\\\n            col1 col2\\\\n        0    a    b\\\\n        1    b    '\n",
            " 'a\\\\n        2    a    c\\\\n        \"}, {\\'Thought\\': \"To revert a one-hot '\n",
            " 'encoded DataFrame back into a categorical DataFrame, we need to iterate over '\n",
            " 'each row and for each column, find the column name where the value is 1. '\n",
            " \"This column name will be split by the separator '_' and the second part will \"\n",
            " \"be the category. We can use the pandas function 'apply' to apply a function \"\n",
            " \"to each row. We will also use the 'idxmax' function to find the column with \"\n",
            " 'the maximum value (which will be 1 in a one-hot encoded DataFrame).\"}, '\n",
            " '{\\'Tool\\': \"def response_function(df):\\\\n    import pandas as pd\\\\n    '\n",
            " '\\\\n    def revert_one_hot(row):\\\\n        return '\n",
            " \"row.idxmax().split('_')[1]\\\\n    \\\\n    df = df.apply(revert_one_hot)\\\\n    \"\n",
            " 'return df\"}, {\\'Thought\\': \"The function seems to be correct. It applies the '\n",
            " \"'revert_one_hot' function to each row of the DataFrame. This function finds \"\n",
            " 'the column with the maximum value (which will be 1 in a one-hot encoded '\n",
            " 'DataFrame) and returns the second part of the column name (after splitting '\n",
            " \"by '_'). This will revert the one-hot encoding back to categories. However, \"\n",
            " \"the function currently applies the 'revert_one_hot' function to the entire \"\n",
            " 'DataFrame, not to each group of columns that belong to the same original '\n",
            " \"column. We need to modify the function to apply 'revert_one_hot' to each \"\n",
            " 'group of columns separately.\"}, {\\'Tool\\': \"def response_function(df):\\\\n    '\n",
            " 'import pandas as pd\\\\n    \\\\n    def revert_one_hot(row):\\\\n        return '\n",
            " \"row.idxmax().split('_')[1]\\\\n    \\\\n    df = df.groupby(by=lambda x: \"\n",
            " \"x.split('_')[0], axis=1).apply(lambda x: x.apply(revert_one_hot, \"\n",
            " 'axis=1))\\\\n    return df\"}, {\\'Thought\\': \"The function now correctly '\n",
            " \"applies the 'revert_one_hot' function to each group of columns that belong \"\n",
            " 'to the same original column. This will correctly revert the one-hot encoding '\n",
            " 'back to categories for each original column. I am confident that this is the '\n",
            " 'correct solution.\"}, {\\'Answer\\': \"def response_function(df):\\\\n    import '\n",
            " 'pandas as pd\\\\n    \\\\n    def revert_one_hot(row):\\\\n        return '\n",
            " \"row.idxmax().split('_')[1]\\\\n    \\\\n    df = df.groupby(by=lambda x: \"\n",
            " \"x.split('_')[0], axis=1).apply(lambda x: x.apply(revert_one_hot, \"\n",
            " 'axis=1))\\\\n    return df\"}]')\n"
          ]
        }
      ],
      "source": [
        "from pprint import pprint\n",
        "print(\"AI agent reasoning:\")\n",
        "pprint(details_df.iloc[0].agent_reasoning)"
      ]
    },
    {
      "cell_type": "code",
      "execution_count": null,
      "metadata": {},
      "outputs": [],
      "source": []
    }
  ],
  "metadata": {
    "kernelspec": {
      "display_name": "llms-using-rag-for-docs",
      "language": "python",
      "name": "python3"
    },
    "language_info": {
      "codemirror_mode": {
        "name": "ipython",
        "version": 3
      },
      "file_extension": ".py",
      "mimetype": "text/x-python",
      "name": "python",
      "nbconvert_exporter": "python",
      "pygments_lexer": "ipython3",
      "version": "3.11.6"
    }
  },
  "nbformat": 4,
  "nbformat_minor": 2
}
