{
 "cells": [
  {
   "cell_type": "markdown",
   "metadata": {},
   "source": [
    "# Evaluation of RAG architectures"
   ]
  },
  {
   "cell_type": "code",
   "execution_count": null,
   "metadata": {},
   "outputs": [],
   "source": [
    "from llms.rag.faiss import FAISS\n",
    "from llms.rag.coala import CoALA\n",
    "from llms.agents.react import ReActAgent\n",
    "from llms.clients.gpt import GPTClient\n",
    "from llms.settings import settings\n",
    "from llms.rag.tools import Tools\n",
    "from llms.rag.faiss import DistanceMetric\n",
    "from llms.evaluation.code import evaluate_code_generation, ConfigGrid, RAG, RAGRetriever"
   ]
  },
  {
   "cell_type": "code",
   "execution_count": null,
   "metadata": {},
   "outputs": [],
   "source": [
    "gpt_4_client = GPTClient(\n",
    "    client_id=settings.CLIENT_ID,\n",
    "    client_secret=settings.CLIENT_SECRET,\n",
    "    auth_url=settings.AUTH_URL,\n",
    "    api_base=settings.API_BASE,\n",
    "    deployment_id='gpt-4-32k',\n",
    "    max_response_tokens=100,\n",
    "    temperature=0.0,\n",
    ")\n",
    "\n",
    "gpt_35_client = GPTClient(\n",
    "    client_id=settings.CLIENT_ID,\n",
    "    client_secret=settings.CLIENT_SECRET,\n",
    "    auth_url=settings.AUTH_URL,\n",
    "    api_base=settings.API_BASE,\n",
    "    deployment_id='gpt-35-turbo-16k',\n",
    "    max_response_tokens=100,\n",
    "    temperature=0.0,\n",
    ")"
   ]
  },
  {
   "cell_type": "code",
   "execution_count": null,
   "metadata": {},
   "outputs": [],
   "source": [
    "print(settings.STANDARD_SYSTEM_INSTRUCTION)"
   ]
  },
  {
   "cell_type": "code",
   "execution_count": null,
   "metadata": {},
   "outputs": [],
   "source": [
    "config = ConfigGrid(\n",
    "    llms=[gpt_4_client, gpt_35_client],\n",
    "    rag=RAG(\n",
    "        retrievers=[RAGRetriever.NONE, RAGRetriever.RAG, RAGRetriever.CoALA, RAGRetriever.RAG_AS_TOOL, RAGRetriever.CoALA_AS_TOOL],\n",
    "        distance_metrics=[DistanceMetric.EUCLIDEAN_DISTANCE, DistanceMetric.MAX_INNER_PRODUCT, DistanceMetric.COSINE_SIMILARITY],\n",
    "        num_search_results=[1, 3, 5],\n",
    "        similarity_search_score_thresholds=[0.0, 0.5, 0.75],\n",
    "        texts=[],\n",
    "        text_chunk_sizes=[128, 256, 512],\n",
    "        use_weighted_average_of_text_chunks=[True, False],\n",
    "    )\n",
    ")"
   ]
  },
  {
   "cell_type": "code",
   "execution_count": null,
   "metadata": {},
   "outputs": [],
   "source": [
    "evaluate_code_generation(config, [])"
   ]
  }
 ],
 "metadata": {
  "kernelspec": {
   "display_name": "llms-using-rag-for-docs",
   "language": "python",
   "name": "python3"
  },
  "language_info": {
   "codemirror_mode": {
    "name": "ipython",
    "version": 3
   },
   "file_extension": ".py",
   "mimetype": "text/x-python",
   "name": "python",
   "nbconvert_exporter": "python",
   "pygments_lexer": "ipython3",
   "version": "3.11.6"
  }
 },
 "nbformat": 4,
 "nbformat_minor": 2
}
