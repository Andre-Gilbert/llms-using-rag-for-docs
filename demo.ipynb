{
 "cells": [
  {
   "cell_type": "markdown",
   "metadata": {},
   "source": [
    "# Evaluation of RAG architectures"
   ]
  },
  {
   "cell_type": "code",
   "execution_count": null,
   "metadata": {},
   "outputs": [],
   "source": [
    "from tqdm import tqdm\n",
    "from pathlib import Path\n",
    "from llms.clients.gpt import GPTClient\n",
    "from llms.settings import settings\n",
    "from llms.rag.faiss import DistanceMetric\n",
    "from llms.evaluation.code import evaluate_code_generation, ConfigGrid, RAG, RAGRetriever\n",
    "from tests.pandas import TEST_CASES"
   ]
  },
  {
   "cell_type": "code",
   "execution_count": null,
   "metadata": {},
   "outputs": [],
   "source": [
    "def get_texts(folder_paths: list[str]) -> list[str]:\n",
    "    folder_paths = [Path(folder_path) for folder_path in folder_paths]\n",
    "    files = []\n",
    "    for folder_path in tqdm(folder_paths, desc=\"Searching for files\"):\n",
    "        for child in folder_path.iterdir():\n",
    "            if child.is_file():\n",
    "                files.append(child)\n",
    "    texts = []\n",
    "    for file in tqdm(files, desc=\"Reading files\"):\n",
    "        with open(file, \"r\", encoding=\"utf-8\") as f:\n",
    "            content = f.read()\n",
    "            texts.append(content)\n",
    "    return texts"
   ]
  },
  {
   "cell_type": "code",
   "execution_count": null,
   "metadata": {},
   "outputs": [],
   "source": [
    "folder_paths = [\"files/pandas/textfiles/textfiles1\", \"files/pandas/textfiles/textfiles2\", \"files/pandas/textfiles/textfiles3\"]\n",
    "texts = get_texts(folder_paths)"
   ]
  },
  {
   "cell_type": "code",
   "execution_count": null,
   "metadata": {},
   "outputs": [],
   "source": [
    "gpt_4_client = GPTClient(\n",
    "    client_id=settings.CLIENT_ID,\n",
    "    client_secret=settings.CLIENT_SECRET,\n",
    "    auth_url=settings.AUTH_URL,\n",
    "    api_base=settings.API_BASE,\n",
    "    deployment_id='gpt-4-32k',\n",
    "    max_response_tokens=1000,\n",
    "    temperature=0.0,\n",
    ")"
   ]
  },
  {
   "cell_type": "code",
   "execution_count": null,
   "metadata": {},
   "outputs": [],
   "source": [
    "config = ConfigGrid(\n",
    "    llms=[gpt_4_client],\n",
    "    rag=RAG(\n",
    "        retrievers=[\n",
    "            RAGRetriever.NONE,\n",
    "            RAGRetriever.RAG,\n",
    "            RAGRetriever.CoALA,\n",
    "        ],\n",
    "        distance_metrics=[\n",
    "            DistanceMetric.EUCLIDEAN_DISTANCE,\n",
    "            DistanceMetric.MAX_INNER_PRODUCT,\n",
    "            DistanceMetric.COSINE_SIMILARITY,\n",
    "        ],\n",
    "        num_search_results=[3],\n",
    "        similarity_search_score_thresholds=[0.0],\n",
    "        text_chunk_sizes=[128, 256],\n",
    "        use_weighted_average_of_text_chunks=[True, False],\n",
    "        texts=texts,\n",
    "    )\n",
    ")"
   ]
  },
  {
   "cell_type": "code",
   "execution_count": null,
   "metadata": {},
   "outputs": [],
   "source": [
    "results = evaluate_code_generation(config, TEST_CASES)"
   ]
  },
  {
   "cell_type": "code",
   "execution_count": null,
   "metadata": {},
   "outputs": [],
   "source": []
  }
 ],
 "metadata": {
  "kernelspec": {
   "display_name": "llms-using-rag-for-docs",
   "language": "python",
   "name": "python3"
  },
  "language_info": {
   "codemirror_mode": {
    "name": "ipython",
    "version": 3
   },
   "file_extension": ".py",
   "mimetype": "text/x-python",
   "name": "python",
   "nbconvert_exporter": "python",
   "pygments_lexer": "ipython3",
   "version": "3.11.6"
  }
 },
 "nbformat": 4,
 "nbformat_minor": 2
}
