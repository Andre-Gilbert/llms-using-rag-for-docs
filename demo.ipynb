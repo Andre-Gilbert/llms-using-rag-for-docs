{
 "cells": [
  {
   "cell_type": "markdown",
   "metadata": {},
   "source": [
    "# Demo Notebook "
   ]
  },
  {
   "cell_type": "markdown",
   "metadata": {},
   "source": [
    "This notebook serves the purpose of demonstrating how the Retriaval Augmented Generation improves the LLM code generation. "
   ]
  },
  {
   "cell_type": "markdown",
   "metadata": {},
   "source": [
    "## LLM code creation without RAG and CoALA"
   ]
  },
  {
   "cell_type": "markdown",
   "metadata": {},
   "source": [
    "Firstly, we import the necessary libraries and create an agent object."
   ]
  },
  {
   "cell_type": "code",
   "execution_count": 1,
   "metadata": {},
   "outputs": [],
   "source": [
    "# imports and agent creation\n",
    "import pandas as pd\n",
    "from llms.agents.react import ReActAgent\n",
    "from llms.clients.gpt import GPTClient\n",
    "from llms.settings import settings\n",
    "\n",
    "client = GPTClient(\n",
    "    client_id=settings.CLIENT_ID,\n",
    "    client_secret=settings.CLIENT_SECRET,\n",
    "    auth_url=settings.AUTH_URL,\n",
    "    api_base=settings.API_BASE,\n",
    "    deployment_id=\"gpt-4-32k\",\n",
    "    max_response_tokens=1000,\n",
    "    temperature=0.0,\n",
    ")\n",
    "agent = ReActAgent(client)"
   ]
  },
  {
   "cell_type": "markdown",
   "metadata": {},
   "source": [
    "Then we define a prompt and ask the agent without RAG and CoALA implemented for the code. Then we execute the function code and save the function that the agent generated under `agent_func`."
   ]
  },
  {
   "cell_type": "code",
   "execution_count": 2,
   "metadata": {},
   "outputs": [
    {
     "name": "stderr",
     "output_type": "stream",
     "text": [
      "22/01/24 09:48:30 INFO User prompt: Please return the rolling rank(3) of this Series [1, 4, 2, 3, 5, 3]. Make sure to code your solution using the pandas lib.\n",
      "22/01/24 09:48:31 INFO Waiting 1s to avoid rate limit\n",
      "22/01/24 09:48:32 INFO Starting call to 'llms.clients.base.BaseLLMClient._request_handler', this is the 1st time calling it.\n",
      "22/01/24 09:48:43 INFO API response: \n",
      "{'choices': [{'finish_reason': 'stop', 'index': 0, 'message': {'content': '{\\n    \"Thought\": \"The user wants to calculate the rolling rank of a pandas Series. The rolling rank is calculated over a specified window of values. In this case, the window size is 3. The rank function ranks each number in the window from smallest to largest. If there are duplicate values, they get the average rank. The pandas library has a function called rolling which can be used to calculate the rolling rank.\",\\n    \"Action\": \"def response_function(series):\\\\n    import pandas as pd\\\\n    s = pd.Series(series)\\\\n    return s.rolling(3).apply(lambda x: x.rank().iloc[-1])\"\\n}', 'role': 'assistant'}}], 'created': 1705913313, 'id': 'chatcmpl-8jkGnDWH4GP77OD0Cbb9Y5RKbLE3c', 'model': 'gpt-4-32k', 'object': 'chat.completion', 'system_fingerprint': None, 'usage': {'completion_tokens': 132, 'prompt_tokens': 377, 'total_tokens': 509}}\n",
      "22/01/24 09:48:43 INFO API response content: \n",
      "{\n",
      "    \"Thought\": \"The user wants to calculate the rolling rank of a pandas Series. The rolling rank is calculated over a specified window of values. In this case, the window size is 3. The rank function ranks each number in the window from smallest to largest. If there are duplicate values, they get the average rank. The pandas library has a function called rolling which can be used to calculate the rolling rank.\",\n",
      "    \"Action\": \"def response_function(series):\\n    import pandas as pd\\n    s = pd.Series(series)\\n    return s.rolling(3).apply(lambda x: x.rank().iloc[-1])\"\n",
      "}\n",
      "22/01/24 09:48:43 INFO AI agent thought: The user wants to calculate the rolling rank of a pandas Series. The rolling rank is calculated over a specified window of values. In this case, the window size is 3. The rank function ranks each number in the window from smallest to largest. If there are duplicate values, they get the average rank. The pandas library has a function called rolling which can be used to calculate the rolling rank.\n",
      "22/01/24 09:48:43 INFO Checking code for syntax errors.\n",
      "22/01/24 09:48:43 INFO Code is valid.\n",
      "22/01/24 09:48:43 INFO Appending observation to the conversation history. Observation: Your response format was correct and the code does not have any syntax errors.\n",
      "22/01/24 09:48:43 INFO Waiting 1s to avoid rate limit\n",
      "22/01/24 09:48:44 INFO Starting call to 'llms.clients.base.BaseLLMClient._request_handler', this is the 1st time calling it.\n",
      "22/01/24 09:48:48 INFO API response: \n",
      "{'choices': [{'finish_reason': 'stop', 'index': 0, 'message': {'content': '{\\n    \"Thought\": \"The code is correct and it will return the rolling rank of the series. Now I will provide the final answer.\",\\n    \"Answer\": \"def response_function(series):\\\\n    import pandas as pd\\\\n    s = pd.Series(series)\\\\n    return s.rolling(3).apply(lambda x: x.rank().iloc[-1])\"\\n}', 'role': 'assistant'}}], 'created': 1705913325, 'id': 'chatcmpl-8jkGzfs2MZ5WzbpzTLWckc4lSlKab', 'model': 'gpt-4-32k', 'object': 'chat.completion', 'system_fingerprint': None, 'usage': {'completion_tokens': 75, 'prompt_tokens': 535, 'total_tokens': 610}}\n",
      "22/01/24 09:48:48 INFO API response content: \n",
      "{\n",
      "    \"Thought\": \"The code is correct and it will return the rolling rank of the series. Now I will provide the final answer.\",\n",
      "    \"Answer\": \"def response_function(series):\\n    import pandas as pd\\n    s = pd.Series(series)\\n    return s.rolling(3).apply(lambda x: x.rank().iloc[-1])\"\n",
      "}\n",
      "22/01/24 09:48:48 INFO AI agent thought: The code is correct and it will return the rolling rank of the series. Now I will provide the final answer.\n",
      "22/01/24 09:48:48 INFO AI agent final answer: \n",
      "def response_function(series):\n",
      "    import pandas as pd\n",
      "    s = pd.Series(series)\n",
      "    return s.rolling(3).apply(lambda x: x.rank().iloc[-1])\n"
     ]
    }
   ],
   "source": [
    "prompt = \"\"\"Please return the rolling rank(3) of this Series [1, 4, 2, 3, 5, 3]. Make sure to code your solution using the pandas lib.\"\"\"\n",
    "\n",
    "generated_code = agent.run(prompt)\n",
    "\n",
    "namespace_agent = {}\n",
    "exec(generated_code, namespace_agent)\n",
    "agent_func = namespace_agent['response_function']"
   ]
  },
  {
   "cell_type": "markdown",
   "metadata": {},
   "source": [
    "Next, we define our input and the expected function."
   ]
  },
  {
   "cell_type": "code",
   "execution_count": 3,
   "metadata": {},
   "outputs": [],
   "source": [
    "input = pd.Series([1, 4, 2, 3, 5, 3])\n",
    "\n",
    "def expected_func(input):\n",
    "    result = input.rolling(3).rank()\n",
    "    return result"
   ]
  },
  {
   "cell_type": "markdown",
   "metadata": {},
   "source": [
    "Now we can compare the results of the two functions:"
   ]
  },
  {
   "cell_type": "code",
   "execution_count": 4,
   "metadata": {},
   "outputs": [
    {
     "name": "stdout",
     "output_type": "stream",
     "text": [
      "Desired result:\n",
      "0    NaN\n",
      "1    NaN\n",
      "2    2.0\n",
      "3    2.0\n",
      "4    3.0\n",
      "5    1.5\n",
      "dtype: float64\n",
      "\n",
      "Agent result:\n",
      "0    NaN\n",
      "1    NaN\n",
      "2    2.0\n",
      "3    2.0\n",
      "4    3.0\n",
      "5    1.5\n",
      "dtype: float64\n"
     ]
    }
   ],
   "source": [
    "print('Desired result:')\n",
    "print(expected_func(input))\n",
    "print()\n",
    "print('Agent result:')\n",
    "print(agent_func(input))"
   ]
  },
  {
   "cell_type": "code",
   "execution_count": 5,
   "metadata": {},
   "outputs": [
    {
     "data": {
      "text/plain": [
       "[{'User prompt': 'Please return the rolling rank(3) of this Series [1, 4, 2, 3, 5, 3]. Make sure to code your solution using the pandas lib.'},\n",
       " {'Thought': 'The user wants to calculate the rolling rank of a pandas Series. The rolling rank is calculated over a specified window of values. In this case, the window size is 3. The rank function ranks each number in the window from smallest to largest. If there are duplicate values, they get the average rank. The pandas library has a function called rolling which can be used to calculate the rolling rank.'},\n",
       " {'Tool': 'def response_function(series):\\n    import pandas as pd\\n    s = pd.Series(series)\\n    return s.rolling(3).apply(lambda x: x.rank().iloc[-1])'},\n",
       " {'Observation': 'Your response format was correct and the code does not have any syntax errors.'},\n",
       " {'Thought': 'The code is correct and it will return the rolling rank of the series. Now I will provide the final answer.'},\n",
       " {'Answer': 'def response_function(series):\\n    import pandas as pd\\n    s = pd.Series(series)\\n    return s.rolling(3).apply(lambda x: x.rank().iloc[-1])'}]"
      ]
     },
     "execution_count": 5,
     "metadata": {},
     "output_type": "execute_result"
    }
   ],
   "source": [
    "agent.reasoning"
   ]
  },
  {
   "cell_type": "markdown",
   "metadata": {},
   "source": [
    "## LLM code creation with RAG and CoALA"
   ]
  },
  {
   "cell_type": "markdown",
   "metadata": {},
   "source": [
    "We start by creating a new LLM agent that is augmented by RAG and CoALA."
   ]
  },
  {
   "cell_type": "code",
   "execution_count": 7,
   "metadata": {},
   "outputs": [],
   "source": [
    "# import the FAISS vector storage for the retrieval augmented generation and CoALA\n",
    "from llms.rag.faiss import FAISS\n",
    "from llms.rag.coala import CoALA\n",
    "\n",
    "filename = \"embeddings_EUCLIDEAN_DISTANCE_k_results_1_threshold_0.0_chunk_size_512_avg_True\"\n",
    "\n",
    "docs_vector_store = FAISS.load_local(\"embeddings/semantic/\", filename, client)\n",
    "\n",
    "code_vector_store = FAISS.load_local(\"embeddings/episodic/\", filename, client)\n",
    "\n",
    "coala = CoALA(docs_vector_store, code_vector_store)"
   ]
  },
  {
   "cell_type": "code",
   "execution_count": 8,
   "metadata": {},
   "outputs": [],
   "source": [
    "rag_agent = ReActAgent(client, rag=None, tools={\"CoALA\": coala})"
   ]
  },
  {
   "cell_type": "code",
   "execution_count": 9,
   "metadata": {},
   "outputs": [
    {
     "name": "stderr",
     "output_type": "stream",
     "text": [
      "22/01/24 09:54:18 INFO User prompt: Please return the rolling rank(3) of this Series [1, 4, 2, 3, 5, 3]. Make sure to code your solution using the pandas lib.\n",
      "22/01/24 09:54:18 INFO Waiting 1s to avoid rate limit\n",
      "22/01/24 09:54:19 INFO Starting call to 'llms.clients.base.BaseLLMClient._request_handler', this is the 1st time calling it.\n",
      "22/01/24 09:54:33 INFO Finished call to 'llms.clients.base.BaseLLMClient._request_handler' after 13.974(s), this was the 1st time calling it.\n",
      "22/01/24 09:54:36 INFO Starting call to 'llms.clients.base.BaseLLMClient._request_handler', this is the 2nd time calling it.\n",
      "22/01/24 09:54:47 INFO API response: \n",
      "{'choices': [{'finish_reason': 'stop', 'index': 0, 'message': {'content': '{\\n    \"Thought\": \"The user wants to calculate the rolling rank of a pandas Series. The rolling rank is a measure of how a value compares to the previous values in a rolling window. In this case, the window size is 3. I will use the pandas library to create a Series from the given list and then use the rolling and rank methods to calculate the rolling rank.\",\\n    \"Action\": \"def response_function(input_list):\\\\n    import pandas as pd\\\\n    \\\\n    # Create a pandas Series from the input list\\\\n    series = pd.Series(input_list)\\\\n    \\\\n    # Calculate the rolling rank with a window size of 3\\\\n    rolling_rank = series.rolling(3).apply(lambda x: x.rank().iloc[-1])\\\\n    \\\\n    return rolling_rank.tolist()\"\\n}', 'role': 'assistant'}}], 'created': 1705913681, 'id': 'chatcmpl-8jkMjCzystTuzy8IXjubEUvKUgJTm', 'model': 'gpt-4-32k', 'object': 'chat.completion', 'system_fingerprint': None, 'usage': {'completion_tokens': 169, 'prompt_tokens': 421, 'total_tokens': 590}}\n",
      "22/01/24 09:54:47 INFO API response content: \n",
      "{\n",
      "    \"Thought\": \"The user wants to calculate the rolling rank of a pandas Series. The rolling rank is a measure of how a value compares to the previous values in a rolling window. In this case, the window size is 3. I will use the pandas library to create a Series from the given list and then use the rolling and rank methods to calculate the rolling rank.\",\n",
      "    \"Action\": \"def response_function(input_list):\\n    import pandas as pd\\n    \\n    # Create a pandas Series from the input list\\n    series = pd.Series(input_list)\\n    \\n    # Calculate the rolling rank with a window size of 3\\n    rolling_rank = series.rolling(3).apply(lambda x: x.rank().iloc[-1])\\n    \\n    return rolling_rank.tolist()\"\n",
      "}\n",
      "22/01/24 09:54:47 INFO AI agent thought: The user wants to calculate the rolling rank of a pandas Series. The rolling rank is a measure of how a value compares to the previous values in a rolling window. In this case, the window size is 3. I will use the pandas library to create a Series from the given list and then use the rolling and rank methods to calculate the rolling rank.\n",
      "22/01/24 09:54:47 INFO Checking code for syntax errors.\n",
      "22/01/24 09:54:47 INFO Code is valid.\n",
      "22/01/24 09:54:47 INFO Appending observation to the conversation history. Observation: Your response format was correct and the code does not have any syntax errors.\n",
      "22/01/24 09:54:47 INFO Waiting 1s to avoid rate limit\n",
      "22/01/24 09:54:48 INFO Starting call to 'llms.clients.base.BaseLLMClient._request_handler', this is the 1st time calling it.\n",
      "22/01/24 09:54:59 INFO API response: \n",
      "{'choices': [{'finish_reason': 'stop', 'index': 0, 'message': {'content': '{\\n    \"Thought\": \"The code is correct and it should return the expected output. The rolling rank of the series is calculated correctly with a window size of 3. The rank function ranks the values in the window from 1 to the window size. The lambda function in the apply method returns the rank of the last value in the window, which is the rolling rank of the series.\",\\n    \"Answer\": \"def response_function(input_list):\\\\n    import pandas as pd\\\\n    \\\\n    # Create a pandas Series from the input list\\\\n    series = pd.Series(input_list)\\\\n    \\\\n    # Calculate the rolling rank with a window size of 3\\\\n    rolling_rank = series.rolling(3).apply(lambda x: x.rank().iloc[-1])\\\\n    \\\\n    return rolling_rank.tolist()\"\\n}', 'role': 'assistant'}}], 'created': 1705913690, 'id': 'chatcmpl-8jkMs2LqsqjHTOz31PwK0nUTCkAT7', 'model': 'gpt-4-32k', 'object': 'chat.completion', 'system_fingerprint': None, 'usage': {'completion_tokens': 170, 'prompt_tokens': 616, 'total_tokens': 786}}\n",
      "22/01/24 09:54:59 INFO API response content: \n",
      "{\n",
      "    \"Thought\": \"The code is correct and it should return the expected output. The rolling rank of the series is calculated correctly with a window size of 3. The rank function ranks the values in the window from 1 to the window size. The lambda function in the apply method returns the rank of the last value in the window, which is the rolling rank of the series.\",\n",
      "    \"Answer\": \"def response_function(input_list):\\n    import pandas as pd\\n    \\n    # Create a pandas Series from the input list\\n    series = pd.Series(input_list)\\n    \\n    # Calculate the rolling rank with a window size of 3\\n    rolling_rank = series.rolling(3).apply(lambda x: x.rank().iloc[-1])\\n    \\n    return rolling_rank.tolist()\"\n",
      "}\n",
      "22/01/24 09:54:59 INFO AI agent thought: The code is correct and it should return the expected output. The rolling rank of the series is calculated correctly with a window size of 3. The rank function ranks the values in the window from 1 to the window size. The lambda function in the apply method returns the rank of the last value in the window, which is the rolling rank of the series.\n",
      "22/01/24 09:54:59 INFO AI agent final answer: \n",
      "def response_function(input_list):\n",
      "    import pandas as pd\n",
      "    \n",
      "    # Create a pandas Series from the input list\n",
      "    series = pd.Series(input_list)\n",
      "    \n",
      "    # Calculate the rolling rank with a window size of 3\n",
      "    rolling_rank = series.rolling(3).apply(lambda x: x.rank().iloc[-1])\n",
      "    \n",
      "    return rolling_rank.tolist()\n"
     ]
    }
   ],
   "source": [
    "# reminder\n",
    "prompt = \"\"\"Please return the rolling rank(3) of this Series [1, 4, 2, 3, 5, 3]. Make sure to code your solution using the pandas lib.\"\"\"\n",
    "\n",
    "generated_code_rag = rag_agent.run(prompt)\n",
    "\n",
    "namespace_rag_agent = {}\n",
    "exec(generated_code_rag, namespace_rag_agent)\n",
    "rag_agent_func = namespace_rag_agent['response_function']"
   ]
  },
  {
   "cell_type": "markdown",
   "metadata": {},
   "source": [
    "As the `input` and `expected_func` stay the same, we can now compare the results of the rag enhanced agent with the expected result."
   ]
  },
  {
   "cell_type": "code",
   "execution_count": 10,
   "metadata": {},
   "outputs": [],
   "source": [
    "input = pd.Series([1, 4, 2, 3, 5, 3])"
   ]
  },
  {
   "cell_type": "code",
   "execution_count": 11,
   "metadata": {},
   "outputs": [
    {
     "name": "stdout",
     "output_type": "stream",
     "text": [
      "Desired result:\n",
      "0    NaN\n",
      "1    NaN\n",
      "2    2.0\n",
      "3    2.0\n",
      "4    3.0\n",
      "5    1.5\n",
      "dtype: float64\n",
      "\n",
      "Rag enhanced agent result:\n",
      "[nan, nan, 2.0, 2.0, 3.0, 1.5]\n"
     ]
    }
   ],
   "source": [
    "print('Desired result:')\n",
    "print(expected_func(input))\n",
    "print()\n",
    "print('Rag enhanced agent result:')\n",
    "print(rag_agent_func(input))"
   ]
  },
  {
   "cell_type": "code",
   "execution_count": 12,
   "metadata": {},
   "outputs": [
    {
     "data": {
      "text/plain": [
       "[{'User prompt': 'Please return the rolling rank(3) of this Series [1, 4, 2, 3, 5, 3]. Make sure to code your solution using the pandas lib.'},\n",
       " {'Thought': 'The user wants to calculate the rolling rank of a pandas Series. The rolling rank is calculated over a specified window of values. In this case, the window size is 3. The rank function ranks each number in the window from smallest to largest. If there are duplicate values, they get the average rank. The pandas library has a function called rolling which can be used to calculate the rolling rank.'},\n",
       " {'Tool': 'def response_function(series):\\n    import pandas as pd\\n    s = pd.Series(series)\\n    return s.rolling(3).apply(lambda x: x.rank().iloc[-1])'},\n",
       " {'Observation': 'Your response format was correct and the code does not have any syntax errors.'},\n",
       " {'Thought': 'The code is correct and it will return the rolling rank of the series. Now I will provide the final answer.'},\n",
       " {'Answer': 'def response_function(series):\\n    import pandas as pd\\n    s = pd.Series(series)\\n    return s.rolling(3).apply(lambda x: x.rank().iloc[-1])'}]"
      ]
     },
     "execution_count": 12,
     "metadata": {},
     "output_type": "execute_result"
    }
   ],
   "source": [
    "agent.reasoning"
   ]
  },
  {
   "cell_type": "code",
   "execution_count": null,
   "metadata": {},
   "outputs": [],
   "source": []
  }
 ],
 "metadata": {
  "kernelspec": {
   "display_name": "nlp-env",
   "language": "python",
   "name": "python3"
  },
  "language_info": {
   "codemirror_mode": {
    "name": "ipython",
    "version": 3
   },
   "file_extension": ".py",
   "mimetype": "text/x-python",
   "name": "python",
   "nbconvert_exporter": "python",
   "pygments_lexer": "ipython3",
   "version": "3.11.6"
  }
 },
 "nbformat": 4,
 "nbformat_minor": 2
}
