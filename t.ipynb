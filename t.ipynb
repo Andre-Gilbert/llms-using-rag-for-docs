{
 "cells": [
  {
   "cell_type": "code",
   "execution_count": 4,
   "metadata": {},
   "outputs": [
    {
     "name": "stdout",
     "output_type": "stream",
     "text": [
      "Your response format was incorrect. Please correct as specified in the first message. The error was: ERROR\n"
     ]
    }
   ],
   "source": [
    "e = \"ERROR\"\n",
    "observation = f\"Your response format was incorrect. Please correct as specified in the first message. \\\n",
    "The error was: {e}\"\n",
    "\n",
    "print(observation)"
   ]
  }
 ],
 "metadata": {
  "kernelspec": {
   "display_name": "llms-using-rag-for-docs",
   "language": "python",
   "name": "python3"
  },
  "language_info": {
   "codemirror_mode": {
    "name": "ipython",
    "version": 3
   },
   "file_extension": ".py",
   "mimetype": "text/x-python",
   "name": "python",
   "nbconvert_exporter": "python",
   "pygments_lexer": "ipython3",
   "version": "3.11.6"
  }
 },
 "nbformat": 4,
 "nbformat_minor": 2
}
