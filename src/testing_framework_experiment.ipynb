{
 "cells": [
  {
   "cell_type": "markdown",
   "metadata": {},
   "source": [
    "## Beispiel wie man code aus einem String ausführen kann"
   ]
  },
  {
   "cell_type": "code",
   "execution_count": null,
   "metadata": {},
   "outputs": [],
   "source": [
    "code_to_execute = \"print('Hello, World!')\"\n",
    "\n",
    "try:\n",
    "    exec(code_to_execute)\n",
    "except Exception as e:\n",
    "    print(f\"An error occurred: {e}\")"
   ]
  },
  {
   "cell_type": "markdown",
   "metadata": {},
   "source": [
    "## Following steps are needed for testing:\n",
    "1. Identify code from agent output string (ask agent to respond only with code)\n",
    "2. Save code in dedicated variable \n",
    "3. Compare code output with ground trouth output defined by researcher\n",
    "\n",
    "Before setting up the testing framework like this, we have to know which functions we want to test because this determines the ground truth ouput. Therefore the research for which functions to use should happen before setting up the framework @Felix\n",
    "\n",
    "See below for sample test walkthrough:"
   ]
  },
  {
   "cell_type": "code",
   "execution_count": null,
   "metadata": {},
   "outputs": [],
   "source": [
    "import pandas as pd\n",
    "\n",
    "agent_input = \"How can I calculate the mean of all the values this list: [1, 2, 3, 4, 5] in Python? Please answer only with the code. Save the result in a variable called 'result'.\"\n",
    "\n",
    "agent_output = \"\"\"\n",
    "my_list = [1, 2, 3, 4, 5]\n",
    "result = sum(my_list) / len(my_list)\n",
    "print(result)\n",
    "\"\"\"\n",
    "\n",
    "code = agent_output # for this example this is not needed, however if the agent ouput requires extraction this should happen before this statement\n",
    "\n",
    "desired_result = 3.0 # to be defined by the researcher\n",
    "\n",
    "def test_my_function(code, desired_result):\n",
    "    local_vars = {}\n",
    "    exec(code, globals(), local_vars)\n",
    "    agent_result = local_vars.get('result', None)\n",
    "\n",
    "    if isinstance(agent_result, pd.DataFrame):\n",
    "        if desired_result.equals(agent_output):\n",
    "            print(\"Agent output was correct.\")\n",
    "        else:\n",
    "            print(\"Agent output was not correct.\")\n",
    "\n",
    "    else:\n",
    "        if agent_result == desired_result:\n",
    "            print(\"Agent output was correct.\")\n",
    "        else:\n",
    "            print('Agent output was not correct.')\n",
    "\n",
    "test_my_function(code, desired_result)"
   ]
  },
  {
   "cell_type": "markdown",
   "metadata": {},
   "source": [
    "## Testing this with sample pandas function \".from_dummies()\""
   ]
  },
  {
   "cell_type": "code",
   "execution_count": null,
   "metadata": {},
   "outputs": [],
   "source": [
    "import pandas as pd"
   ]
  },
  {
   "cell_type": "code",
   "execution_count": null,
   "metadata": {},
   "outputs": [],
   "source": [
    "df = pd.DataFrame({\"col1_a\": [1, 0, 1], \"col1_b\": [0, 1, 0], \"col2_a\": [0, 1, 0], \"col2_b\": [1, 0, 0], \"col2_c\": [0, 0, 1]})\n",
    "\n",
    "desired_result = pd.from_dummies(df, sep=\"_\")\n",
    "\n",
    "agent_input = \"\"\"\n",
    "How can I convert this dataframe: df = pd.DataFrame({\"col1_a\": [1, 0, 1], \"col1_b\": [0, 1, 0], \"col2_a\": [0, 1, 0], \"col2_b\": [1, 0, 0], \"col2_c\": [0, 0, 1]}) into a categorical dataframe,\n",
    "using only pandas. Please only respond with the code. Use only pandas and the standard libraries. Save the result dataframe in a variable called \"result\".\n",
    "\"\"\"\n",
    "\n",
    "agent_output = \"\"\"\n",
    "import pandas as pd\n",
    "\n",
    "df = pd.DataFrame({\"col1_a\": [1, 0, 1], \"col1_b\": [0, 1, 0], \"col2_a\": [0, 1, 0], \"col2_b\": [1, 0, 0], \"col2_c\": [0, 0, 1]})\n",
    "\n",
    "result = df.astype(\"category\")\n",
    "\"\"\"\n",
    "\n",
    "\n",
    "test_my_function(agent_output, desired_result)"
   ]
  },
  {
   "cell_type": "markdown",
   "metadata": {},
   "source": [
    "## Testing with agent"
   ]
  },
  {
   "cell_type": "code",
   "execution_count": null,
   "metadata": {},
   "outputs": [],
   "source": [
    "from agent import AIAgent\n",
    "from clients import OpenAIClient\n",
    "import json\n",
    "\n",
    "# import dotenv\n",
    "# import os\n",
    "from settings import settings\n",
    "\n",
    "# dotenv.load_dotenv()\n",
    "# service_key = eval(os.getenv('SERVICE_KEY'))\n",
    "\n",
    "client = OpenAIClient(settings.SERVICE_KEY, settings.LLM_CONFIG)\n",
    "agent = AIAgent(client)\n",
    "\n",
    "# Get the user's order\n",
    "user_prompt = \"\"\"\n",
    "How can I convert this dataframe: df = pd.DataFrame({\"col1_a\": [1, 0, 1], \"col1_b\": [0, 1, 0], \"col2_a\": [0, 1, 0], \"col2_b\": [1, 0, 0], \"col2_c\": [0, 0, 1]}) into a categorical dataframe?\n",
    "\"\"\"\n",
    "\n",
    "final_answer = agent.run(user_prompt)"
   ]
  },
  {
   "cell_type": "code",
   "execution_count": null,
   "metadata": {},
   "outputs": [],
   "source": [
    "final_answer # response function"
   ]
  },
  {
   "cell_type": "code",
   "execution_count": null,
   "metadata": {},
   "outputs": [],
   "source": [
    "# Create a namespace for the execution\n",
    "namespace = {}\n",
    "\n",
    "exec(final_answer, namespace)\n",
    "\n",
    "response_function = namespace['response_function']\n",
    "\n",
    "sample_df = pd.DataFrame({\"col1_a\": [1, 0, 1], \"col1_b\": [0, 1, 0], \"col2_a\": [0, 1, 0], \"col2_b\": [1, 0, 0], \"col2_c\": [0, 0, 1]})\n",
    "result_df = response_function(sample_df)\n",
    "\n",
    "print(result_df)"
   ]
  },
  {
   "cell_type": "markdown",
   "metadata": {},
   "source": [
    "## Testing the .from_dummies() function with test framework"
   ]
  },
  {
   "cell_type": "code",
   "execution_count": null,
   "metadata": {},
   "outputs": [],
   "source": [
    "import pandas as pd\n",
    "from test_cases import TEST_CASES\n",
    "from agent import AIAgent\n",
    "from clients import GPTClient\n",
    "from settings import settings\n",
    "\n",
    "client = GPTClient(\n",
    "    client_id=settings.CLIENT_ID,\n",
    "    client_secret=settings.CLIENT_SECRET,\n",
    "    auth_url=settings.AUTH_URL,\n",
    "    api_base=settings.API_BASE,\n",
    "    llm_deployment_id=\"gpt-4-32k\",\n",
    "    llm_max_response_tokens=1000,\n",
    "    llm_temperature=0.0,\n",
    ")\n",
    "agent = AIAgent(client)\n",
    "\n",
    "for test_case in TEST_CASES[0]:\n",
    "    # get response function from agent\n",
    "    final_answer = agent.run(test_case['user_prompt'])\n",
    "    namespace_agent = {}\n",
    "    exec(final_answer, namespace_agent)\n",
    "    response_function = namespace_agent['response_function']\n",
    "\n",
    "    # get desired result and save it in a variable called data\n",
    "    data_string = test_case['data']\n",
    "    local_vars = {}\n",
    "    exec(data_string, globals(), local_vars)\n",
    "    if len(local_vars) == 1:\n",
    "        data = local_vars.get('data', None)\n",
    "    else: # the maximum input of variables we have in the test cases is 2\n",
    "        data_1 = local_vars.get('data_1', None)\n",
    "        data_2 = local_vars.get('data_2', None)\n",
    "\n",
    "    # retrieve the correct function\n",
    "    correct_function_string = test_case['correct_function']\n",
    "    namespace_correct = {}\n",
    "    exec(correct_function_string, namespace_correct)\n",
    "    correct_function = namespace_correct['correct_function']\n",
    "\n",
    "    # execute the correct function with the data as parameter and save it as desired result\n",
    "    if len(local_vars) == 1:\n",
    "        desired_result = correct_function(data)\n",
    "    else:\n",
    "        desired_result = correct_function(data_1, data_2)\n",
    "\n",
    "    # execute the agent function with the data as parameter and save it as agent_result\n",
    "    if len(local_vars) == 1:\n",
    "        agent_result = response_function(data)\n",
    "    else:\n",
    "        agent_result = response_function(data_1, data_2)\n",
    "\n",
    "    # this has to be extended, each time we expect another data type as the desired output\n",
    "    if isinstance(desired_result, pd.DataFrame):\n",
    "        if desired_result.equals(agent_result):\n",
    "            print(f\"Agent output was correct for test case {test_case['id']}.\")\n",
    "        else:\n",
    "            print(f\"Agent output was not correct for test case {test_case['id']}.\")\n",
    "\n",
    "    elif isinstance(desired_result, pd.Series):\n",
    "        pass\n",
    "\n",
    "    else:\n",
    "        if agent_result == desired_result:\n",
    "            print(f\"Agent output was correct for test case {test_case['id']}.\")\n",
    "        else:\n",
    "            print(f\"Agent output was not correct for test case {test_case['id']}.\")"
   ]
  },
  {
   "cell_type": "markdown",
   "metadata": {},
   "source": [
    "# Experimentation"
   ]
  },
  {
   "cell_type": "code",
   "execution_count": null,
   "metadata": {},
   "outputs": [],
   "source": [
    "test_case =      {\n",
    "        \"id\": 0,\n",
    "        \"user_prompt\": \"\"\"How can I convert this dataframe: df = pd.DataFrame({\"col1_a\": [1, 0, 1], \"col1_b\": [0, 1, 0], \"col2_a\": [0, 1, 0], \"col2_b\": [1, 0, 0], \"col2_c\": [0, 0, 1]}) into a categorical dataframe? \"\"\", # prompt that we send the agent\n",
    "        \"data\": \"\"\"data_1 = pd.DataFrame({\"col1_a\": [1, 0, 1], \"col1_b\": [0, 1, 0], \"col2_a\": [0, 1, 0], \"col2_b\": [1, 0, 0], \"col2_c\": [0, 0, 1]})\"\"\", # the data needed should always be named 'data'\n",
    "        \"correct_function\": \"\"\"import pandas as pd\\ndef correct_function(data):\\n    data=pd.from_dummies(data, sep=\"_\")\\n    return data\"\"\", # this is a response function that takes the parameter 'data' and does the correct thing with it\n",
    "    }"
   ]
  },
  {
   "cell_type": "code",
   "execution_count": null,
   "metadata": {},
   "outputs": [],
   "source": [
    "import pandas as pd\n",
    "import numpy as np\n",
    "from agent import AIAgent\n",
    "from clients import GPTClient\n",
    "from settings import settings\n",
    "\n",
    "client = GPTClient(\n",
    "    client_id=settings.CLIENT_ID,\n",
    "    client_secret=settings.CLIENT_SECRET,\n",
    "    auth_url=settings.AUTH_URL,\n",
    "    api_base=settings.API_BASE,\n",
    "    llm_deployment_id=\"gpt-4-32k\",\n",
    "    llm_max_response_tokens=1000,\n",
    "    llm_temperature=0.0,\n",
    ")\n",
    "agent = AIAgent(client)\n",
    "\n",
    "# get response function from agent\n",
    "final_answer = agent.run(test_case['user_prompt'])\n",
    "namespace_agent = {}\n",
    "exec(final_answer, namespace_agent)\n",
    "response_function = namespace_agent['response_function']\n",
    "\n",
    "# get desired result and save it in a variable called data\n",
    "data_string = test_case['data']\n",
    "local_vars = {}\n",
    "exec(data_string, globals(), local_vars)\n",
    "if len(local_vars) == 1:\n",
    "    data = local_vars.get('data', None)\n",
    "else: # the maximum input of variables we have in the test cases is 2\n",
    "    data_1 = local_vars.get('data_1', None)\n",
    "    data_2 = local_vars.get('data_2', None)\n",
    "\n",
    "# retrieve the correct function\n",
    "correct_function_string = test_case['correct_function']\n",
    "namespace_correct = {}\n",
    "exec(correct_function_string, namespace_correct)\n",
    "correct_function = namespace_correct['correct_function']\n",
    "\n",
    "# execute the correct function with the data as parameter and save it as desired result\n",
    "if len(local_vars) == 1:\n",
    "    desired_result = correct_function(data)\n",
    "else:\n",
    "    desired_result = correct_function(data_1, data_2)\n",
    "\n",
    "# execute the agent function with the data as parameter and save it as agent_result\n",
    "if len(local_vars) == 1:\n",
    "    agent_result = response_function(data)\n",
    "else:\n",
    "    agent_result = response_function(data_1, data_2)\n",
    "\n",
    "# this has to be extended, each time we expect another data type as the desired output\n",
    "if isinstance(desired_result, pd.DataFrame):\n",
    "    if desired_result.equals(agent_result):\n",
    "        print(f\"Agent output was correct for test case {test_case['id']}.\")\n",
    "    else:\n",
    "        print(f\"Agent output was not correct for test case {test_case['id']}.\")\n",
    "\n",
    "elif isinstance(desired_result, pd.Series):\n",
    "    if np.array_equal(desired_result.values, agent_result.values):\n",
    "        print(f\"Agent output was correct for test case {test_case['id']}.\")\n",
    "    else:\n",
    "        print(f\"Agent output was not correct for test case {test_case['id']}.\")\n",
    "\n",
    "else:\n",
    "    if agent_result == desired_result:\n",
    "        print(f\"Agent output was correct for test case {test_case['id']}.\")\n",
    "    else:\n",
    "        print(f\"Agent output was not correct for test case {test_case['id']}.\")"
   ]
  }
 ],
 "metadata": {
  "kernelspec": {
   "display_name": "Python 3",
   "language": "python",
   "name": "python3"
  },
  "language_info": {
   "codemirror_mode": {
    "name": "ipython",
    "version": 3
   },
   "file_extension": ".py",
   "mimetype": "text/x-python",
   "name": "python",
   "nbconvert_exporter": "python",
   "pygments_lexer": "ipython3",
   "version": "3.11.0"
  }
 },
 "nbformat": 4,
 "nbformat_minor": 2
}
