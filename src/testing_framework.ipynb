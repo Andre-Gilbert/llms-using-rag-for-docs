{
 "cells": [
  {
   "cell_type": "markdown",
   "metadata": {},
   "source": [
    "## Beispiel wie man code aus einem String ausführen kann"
   ]
  },
  {
   "cell_type": "code",
   "execution_count": 21,
   "metadata": {},
   "outputs": [
    {
     "name": "stdout",
     "output_type": "stream",
     "text": [
      "Hello, World!\n"
     ]
    }
   ],
   "source": [
    "code_to_execute = \"print('Hello, World!')\"\n",
    "\n",
    "try:\n",
    "    exec(code_to_execute)\n",
    "except Exception as e:\n",
    "    print(f\"An error occurred: {e}\")"
   ]
  },
  {
   "cell_type": "markdown",
   "metadata": {},
   "source": [
    "## Following steps are needed for testing:\n",
    "1. Identify code from agent output string (ask agent to respond only with code)\n",
    "2. Save code in dedicated variable \n",
    "3. Compare code output with ground trouth output defined by researcher\n",
    "\n",
    "Before setting up the testing framework like this, we have to know which functions we want to test because this determines the ground truth ouput. Therefore the research for which functions to use should happen before setting up the framework @Felix\n",
    "\n",
    "See below for sample test walkthrough:"
   ]
  },
  {
   "cell_type": "code",
   "execution_count": 7,
   "metadata": {},
   "outputs": [
    {
     "name": "stdout",
     "output_type": "stream",
     "text": [
      "3.0\n",
      "Agent output was correct.\n"
     ]
    }
   ],
   "source": [
    "import pandas as pd\n",
    "\n",
    "agent_input = \"How can I calculate the mean of all the values this list: [1, 2, 3, 4, 5] in Python? Please answer only with the code. Save the result in a variable called 'result'.\"\n",
    "\n",
    "agent_output = \"\"\"\n",
    "my_list = [1, 2, 3, 4, 5]\n",
    "result = sum(my_list) / len(my_list)\n",
    "print(result)\n",
    "\"\"\"\n",
    "\n",
    "code = agent_output # for this example this is not needed, however if the agent ouput requires extraction this should happen before this statement\n",
    "\n",
    "desired_result = 3.0 # to be defined by the researcher\n",
    "\n",
    "def test_my_function(code, desired_result):\n",
    "    local_vars = {}\n",
    "    exec(code, globals(), local_vars)\n",
    "    agent_result = local_vars.get('result', None)\n",
    "\n",
    "    if isinstance(agent_result, pd.DataFrame):\n",
    "        if desired_result.equals(agent_output):\n",
    "            print(\"Agent output was correct.\")\n",
    "        else:\n",
    "            print(\"Agent output was not correct.\")\n",
    "\n",
    "    else:\n",
    "        if agent_result == desired_result:\n",
    "            print(\"Agent output was correct.\")\n",
    "        else:\n",
    "            print('Agent output was not correct.')\n",
    "\n",
    "test_my_function(code, desired_result)"
   ]
  },
  {
   "cell_type": "markdown",
   "metadata": {},
   "source": [
    "## Testing this with sample pandas function \".from_dummies()\""
   ]
  },
  {
   "cell_type": "code",
   "execution_count": 34,
   "metadata": {},
   "outputs": [],
   "source": [
    "import pandas as pd"
   ]
  },
  {
   "cell_type": "code",
   "execution_count": 56,
   "metadata": {},
   "outputs": [
    {
     "name": "stdout",
     "output_type": "stream",
     "text": [
      "Agent output was not correct.\n"
     ]
    }
   ],
   "source": [
    "df = pd.DataFrame({\"col1_a\": [1, 0, 1], \"col1_b\": [0, 1, 0], \"col2_a\": [0, 1, 0], \"col2_b\": [1, 0, 0], \"col2_c\": [0, 0, 1]})\n",
    "\n",
    "desired_result = pd.from_dummies(df, sep=\"_\")\n",
    "\n",
    "agent_input = \"\"\"\n",
    "How can I convert this dataframe: df = pd.DataFrame({\"col1_a\": [1, 0, 1], \"col1_b\": [0, 1, 0], \"col2_a\": [0, 1, 0], \"col2_b\": [1, 0, 0], \"col2_c\": [0, 0, 1]}) into a categorical dataframe,\n",
    "using only pandas. Please only respond with the code. Use only pandas and the standard libraries. Save the result dataframe in a variable called \"result\".\n",
    "\"\"\"\n",
    "\n",
    "agent_output = \"\"\"\n",
    "import pandas as pd\n",
    "\n",
    "df = pd.DataFrame({\"col1_a\": [1, 0, 1], \"col1_b\": [0, 1, 0], \"col2_a\": [0, 1, 0], \"col2_b\": [1, 0, 0], \"col2_c\": [0, 0, 1]})\n",
    "\n",
    "result = df.astype(\"category\")\n",
    "\"\"\"\n",
    "\n",
    "\n",
    "test_my_function(agent_output, desired_result)"
   ]
  },
  {
   "cell_type": "markdown",
   "metadata": {},
   "source": [
    "## Testing with agent"
   ]
  },
  {
   "cell_type": "code",
   "execution_count": 1,
   "metadata": {},
   "outputs": [
    {
     "name": "stdout",
     "output_type": "stream",
     "text": [
      "{'choices': [{'finish_reason': 'stop', 'index': 0, 'message': {'content': '{\"Question\": \"How can I convert this dataframe: df = pd.DataFrame({\\\\\"col1_a\\\\\": [1, 0, 1], \\\\\"col1_b\\\\\": [0, 1, 0], \\\\\"col2_a\\\\\": [0, 1, 0], \\\\\"col2_b\\\\\": [1, 0, 0], \\\\\"col2_c\\\\\": [0, 0, 1]}) into a categorical dataframe?\",\\n \"Thought\": \"To convert the dataframe into a categorical dataframe, we need to iterate over each column and convert it to a categorical type. We can use the astype(\\'category\\') function in pandas to do this.\",\\n \"Action\": \"def response_function(df):\\\\n    for col in df.columns:\\\\n        df[col] = df[col].astype(\\'category\\')\\\\n    return df\"}', 'role': 'assistant'}}], 'created': 1701292149, 'id': 'chatcmpl-8QM5tSPf9I3eJEfOb4wj2bzoDlgsI', 'model': 'gpt-4-32k', 'object': 'chat.completion', 'usage': {'completion_tokens': 172, 'prompt_tokens': 368, 'total_tokens': 540}}\n",
      "{'choices': [{'finish_reason': 'stop', 'index': 0, 'message': {'content': '{\"Thought\": \"I now know the final answer\",\\n \"Answer\": \"def response_function(df):\\\\n    for col in df.columns:\\\\n        df[col] = df[col].astype(\\'category\\')\\\\n    return df\"}', 'role': 'assistant'}}], 'created': 1701292158, 'id': 'chatcmpl-8QM62hbGbjl4FUhzWLyEEPLGWygWt', 'model': 'gpt-4-32k', 'object': 'chat.completion', 'usage': {'completion_tokens': 47, 'prompt_tokens': 569, 'total_tokens': 616}}\n"
     ]
    }
   ],
   "source": [
    "from agent import AIAgent\n",
    "from clients import OpenAIClient\n",
    "import json\n",
    "\n",
    "# import dotenv\n",
    "# import os\n",
    "from settings import settings\n",
    "\n",
    "# dotenv.load_dotenv()\n",
    "# service_key = eval(os.getenv('SERVICE_KEY'))\n",
    "\n",
    "client = OpenAIClient(settings.SERVICE_KEY, settings.LLM_CONFIG)\n",
    "agent = AIAgent(client)\n",
    "\n",
    "# Get the user's order\n",
    "user_prompt = \"\"\"\n",
    "How can I convert this dataframe: df = pd.DataFrame({\"col1_a\": [1, 0, 1], \"col1_b\": [0, 1, 0], \"col2_a\": [0, 1, 0], \"col2_b\": [1, 0, 0], \"col2_c\": [0, 0, 1]}) into a categorical dataframe?\n",
    "\"\"\"\n",
    "\n",
    "final_answer = agent.run(user_prompt)"
   ]
  },
  {
   "cell_type": "code",
   "execution_count": 5,
   "metadata": {},
   "outputs": [
    {
     "data": {
      "text/plain": [
       "\"def response_function(df):\\n    for col in df.columns:\\n        df[col] = df[col].astype('category')\\n    return df\""
      ]
     },
     "execution_count": 5,
     "metadata": {},
     "output_type": "execute_result"
    }
   ],
   "source": [
    "final_answer # response function"
   ]
  },
  {
   "cell_type": "code",
   "execution_count": 9,
   "metadata": {},
   "outputs": [
    {
     "name": "stdout",
     "output_type": "stream",
     "text": [
      "  col1_a col1_b col2_a col2_b col2_c\n",
      "0      1      0      0      1      0\n",
      "1      0      1      1      0      0\n",
      "2      1      0      0      0      1\n"
     ]
    }
   ],
   "source": [
    "# Create a namespace for the execution\n",
    "namespace = {}\n",
    "\n",
    "# Execute the code in the given namespace\n",
    "exec(final_answer, namespace)\n",
    "\n",
    "# Now the 'response_function' should be available in the namespace\n",
    "response_function = namespace['response_function']\n",
    "\n",
    "sample_df = pd.DataFrame({\"col1_a\": [1, 0, 1], \"col1_b\": [0, 1, 0], \"col2_a\": [0, 1, 0], \"col2_b\": [1, 0, 0], \"col2_c\": [0, 0, 1]})\n",
    "result_df = response_function(sample_df)\n",
    "\n",
    "print(result_df)"
   ]
  }
 ],
 "metadata": {
  "kernelspec": {
   "display_name": "Python 3",
   "language": "python",
   "name": "python3"
  },
  "language_info": {
   "codemirror_mode": {
    "name": "ipython",
    "version": 3
   },
   "file_extension": ".py",
   "mimetype": "text/x-python",
   "name": "python",
   "nbconvert_exporter": "python",
   "pygments_lexer": "ipython3",
   "version": "3.11.0"
  }
 },
 "nbformat": 4,
 "nbformat_minor": 2
}
