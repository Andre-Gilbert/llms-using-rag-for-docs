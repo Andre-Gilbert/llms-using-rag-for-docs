{
 "cells": [
  {
   "cell_type": "code",
   "execution_count": null,
   "metadata": {},
   "outputs": [],
   "source": [
    "from client import OpenAIClient\n",
    "from settings import settings\n",
    "import faiss\n",
    "import numpy as np\n",
    "import os"
   ]
  },
  {
   "cell_type": "code",
   "execution_count": null,
   "metadata": {},
   "outputs": [],
   "source": [
    "client = OpenAIClient(service_key=settings.SERVICE_KEY, llm_config=settings.LLM_CONFIG)"
   ]
  },
  {
   "cell_type": "markdown",
   "metadata": {},
   "source": [
    "## Fetch embeddings"
   ]
  },
  {
   "cell_type": "code",
   "execution_count": null,
   "metadata": {},
   "outputs": [],
   "source": [
    "folder_path1 = 'D:/Uni/5_Semester/NLP/llms-using-rag-for-docs/pandas_doku/textfiles/textfiles1'\n",
    "all_embeddings_1 = []\n",
    "\n",
    "for filename in os.listdir(folder_path1):\n",
    "    file_path = os.path.join(folder_path1, filename)\n",
    "\n",
    "    if os.path.isfile(file_path):\n",
    "        print(f\"File found: {filename}\")\n",
    "\n",
    "        with open(file_path, \"r\", encoding=\"utf-8\") as file:\n",
    "            content = file.read()\n",
    "\n",
    "        content = content.replace(\"\\n\", \" \")\n",
    "        response = client.get_embedding(content)\n",
    "        embedding = response.json()['data'][0]['embedding']\n",
    "        embedding_np = np.array(embedding)\n",
    "\n",
    "        all_embeddings_1.append(embedding_np)\n",
    "        print(f\"Done for file: {filename}\")"
   ]
  },
  {
   "cell_type": "code",
   "execution_count": null,
   "metadata": {},
   "outputs": [],
   "source": [
    "folder_path2 = 'D:/Uni/5_Semester/NLP/llms-using-rag-for-docs/pandas_doku/textfiles/textfiles2'\n",
    "all_embeddings_2 = []\n",
    "\n",
    "for filename in os.listdir(folder_path2):\n",
    "    file_path = os.path.join(folder_path2, filename)\n",
    "\n",
    "    if os.path.isfile(file_path):\n",
    "        print(f\"File found: {filename}\")\n",
    "\n",
    "        with open(file_path, \"r\", encoding=\"utf-8\") as file:\n",
    "            content = file.read()\n",
    "\n",
    "        content = content.replace(\"\\n\", \" \")\n",
    "        response = client.get_embedding(content)\n",
    "        embedding = response.json()['data'][0]['embedding']\n",
    "        embedding_np = np.array(embedding)\n",
    "\n",
    "        all_embeddings_2.append(embedding_np)\n",
    "        print(f\"Done for file: {filename}\")"
   ]
  },
  {
   "cell_type": "code",
   "execution_count": null,
   "metadata": {},
   "outputs": [],
   "source": [
    "folder_path3 = 'D:/Uni/5_Semester/NLP/llms-using-rag-for-docs/pandas_doku/textfiles/textfiles1'\n",
    "all_embeddings_3 = []\n",
    "\n",
    "for filename in os.listdir(folder_path3):\n",
    "    file_path = os.path.join(folder_path3, filename)\n",
    "\n",
    "    if os.path.isfile(file_path):\n",
    "        print(f\"File found: {filename}\")\n",
    "\n",
    "        with open(file_path, \"r\", encoding=\"utf-8\") as file:\n",
    "            content = file.read()\n",
    "\n",
    "        content = content.replace(\"\\n\", \" \")\n",
    "        response = client.get_embedding(content)\n",
    "        embedding = response.json()['data'][0]['embedding']\n",
    "        embedding_np = np.array(embedding)\n",
    "\n",
    "        all_embeddings_3.append(embedding_np)\n",
    "        print(f\"Done for file: {filename}\")"
   ]
  },
  {
   "cell_type": "markdown",
   "metadata": {},
   "source": [
    "## Saving in FAISS database"
   ]
  },
  {
   "cell_type": "code",
   "execution_count": null,
   "metadata": {},
   "outputs": [],
   "source": [
    "all_embeddings = all_embeddings_1 + all_embeddings_2 + all_embeddings_3\n",
    "\n",
    "all_embeddings_array = np.vstack(all_embeddings)\n",
    "\n",
    "embedding_dim = all_embeddings.shape[1]\n",
    "\n",
    "index = faiss.IndexFlatL2(embedding_dim)\n",
    "index.add(all_embeddings_array)\n",
    "faiss.write_index(index, \"embeddings.index\")"
   ]
  }
 ],
 "metadata": {
  "kernelspec": {
   "display_name": "Python 3",
   "language": "python",
   "name": "python3"
  },
  "language_info": {
   "codemirror_mode": {
    "name": "ipython",
    "version": 3
   },
   "file_extension": ".py",
   "mimetype": "text/x-python",
   "name": "python",
   "nbconvert_exporter": "python",
   "pygments_lexer": "ipython3",
   "version": "3.11.0"
  }
 },
 "nbformat": 4,
 "nbformat_minor": 2
}
